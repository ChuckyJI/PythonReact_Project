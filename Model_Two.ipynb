{
 "cells": [
  {
   "cell_type": "code",
   "execution_count": 1,
   "id": "initial_id",
   "metadata": {
    "collapsed": true,
    "ExecuteTime": {
     "end_time": "2023-08-08T02:38:16.256947Z",
     "start_time": "2023-08-08T02:38:09.454339Z"
    }
   },
   "outputs": [],
   "source": [
    "import pandas as pd\n",
    "from sklearn.model_selection import train_test_split,GridSearchCV\n",
    "from sklearn.ensemble import RandomForestClassifier\n",
    "from sklearn.linear_model import LogisticRegression\n",
    "from sklearn.svm import SVC\n",
    "from xgboost import XGBClassifier\n",
    "from lightgbm import LGBMClassifier\n",
    "import numpy as np\n",
    "import joblib"
   ]
  },
  {
   "cell_type": "code",
   "execution_count": 7,
   "outputs": [
    {
     "name": "stdout",
     "output_type": "stream",
     "text": [
      "<class 'pandas.core.frame.DataFrame'>\n",
      "RangeIndex: 308854 entries, 0 to 308853\n",
      "Data columns (total 19 columns):\n",
      " #   Column                        Non-Null Count   Dtype  \n",
      "---  ------                        --------------   -----  \n",
      " 0   General_Health                308854 non-null  object \n",
      " 1   Checkup                       308854 non-null  object \n",
      " 2   Exercise                      308854 non-null  object \n",
      " 3   Heart_Disease                 308854 non-null  object \n",
      " 4   Skin_Cancer                   308854 non-null  object \n",
      " 5   Other_Cancer                  308854 non-null  object \n",
      " 6   Depression                    308854 non-null  object \n",
      " 7   Diabetes                      308854 non-null  object \n",
      " 8   Arthritis                     308854 non-null  object \n",
      " 9   Sex                           308854 non-null  object \n",
      " 10  Age_Category                  308854 non-null  object \n",
      " 11  Height_(cm)                   308854 non-null  float64\n",
      " 12  Weight_(kg)                   308854 non-null  float64\n",
      " 13  BMI                           308854 non-null  float64\n",
      " 14  Smoking_History               308854 non-null  object \n",
      " 15  Alcohol_Consumption           308854 non-null  float64\n",
      " 16  Fruit_Consumption             308854 non-null  float64\n",
      " 17  Green_Vegetables_Consumption  308854 non-null  float64\n",
      " 18  FriedPotato_Consumption       308854 non-null  float64\n",
      "dtypes: float64(7), object(12)\n",
      "memory usage: 44.8+ MB\n"
     ]
    }
   ],
   "source": [
    "df = pd.read_csv('Data/dataset_5.csv')\n",
    "df.info()"
   ],
   "metadata": {
    "collapsed": false,
    "ExecuteTime": {
     "end_time": "2023-08-03T11:24:21.561033Z",
     "start_time": "2023-08-03T11:24:20.155658Z"
    }
   },
   "id": "4e43bd9f81e7da26"
  },
  {
   "cell_type": "code",
   "execution_count": 3,
   "outputs": [
    {
     "data": {
      "text/plain": "3       103.0\n6        85.0\n15       70.0\n17       89.0\n25       66.0\n        ...  \n4221     72.0\n4223     75.0\n4226     76.0\n4232     79.0\n4233     86.0\nName: glucose, Length: 644, dtype: float64"
     },
     "execution_count": 3,
     "metadata": {},
     "output_type": "execute_result"
    }
   ],
   "source": [
    "df.loc[df['TenYearCHD'] == 1, 'glucose'] = df.loc[df['TenYearCHD'] == 1, 'glucose'].fillna(df.loc[df['TenYearCHD'] == 1, 'glucose'].mean())\n",
    "df.loc[df['TenYearCHD'] == 0, 'glucose'] = df.loc[df['TenYearCHD'] == 0, 'glucose'].fillna(df.loc[df['TenYearCHD'] == 0, 'glucose'].mean())\n",
    "df.loc[df['TenYearCHD'] == 1, 'glucose']"
   ],
   "metadata": {
    "collapsed": false,
    "ExecuteTime": {
     "end_time": "2023-08-02T12:04:32.585087Z",
     "start_time": "2023-08-02T12:04:32.565397Z"
    }
   },
   "id": "29393b5b72ff349b"
  },
  {
   "cell_type": "code",
   "execution_count": 82,
   "outputs": [],
   "source": [
    "def dataset2_preprocessing(file_path,paramList,test_size):\n",
    "    df = pd.read_csv(file_path)\n",
    "    df.loc[df['TenYearCHD'] == 1, 'education'] = df.loc[df['TenYearCHD'] == 1, 'education'].fillna(df.loc[df['TenYearCHD'] == 1, 'education'].mode()[0])\n",
    "    df.loc[df['TenYearCHD'] == 0, 'education'] = df.loc[df['TenYearCHD'] == 0, 'education'].fillna(df.loc[df['TenYearCHD'] == 0, 'education'].mode()[0])\n",
    "    df.loc[df['TenYearCHD'] == 1, 'cigsPerDay'] = df.loc[df['TenYearCHD'] == 1, 'cigsPerDay'].fillna(df.loc[df['TenYearCHD'] == 1, 'cigsPerDay'].mean())\n",
    "    df.loc[df['TenYearCHD'] == 0, 'cigsPerDay'] = df.loc[df['TenYearCHD'] == 0, 'cigsPerDay'].fillna(df.loc[df['TenYearCHD'] == 0, 'cigsPerDay'].mean())\n",
    "    df.loc[df['TenYearCHD'] == 1, 'BPMeds'] = df.loc[df['TenYearCHD'] == 1, 'BPMeds'].fillna(df.loc[df['TenYearCHD'] == 1, 'BPMeds'].mode()[0])\n",
    "    df.loc[df['TenYearCHD'] == 0, 'BPMeds'] = df.loc[df['TenYearCHD'] == 0, 'BPMeds'].fillna(df.loc[df['TenYearCHD'] == 0, 'BPMeds'].mode()[0])\n",
    "    df.loc[df['TenYearCHD'] == 1, 'totChol'] = df.loc[df['TenYearCHD'] == 1, 'totChol'].fillna(df.loc[df['TenYearCHD'] == 1, 'totChol'].mean())\n",
    "    df.loc[df['TenYearCHD'] == 0, 'totChol'] = df.loc[df['TenYearCHD'] == 0, 'totChol'].fillna( df.loc[df['TenYearCHD'] == 0, 'totChol'].mean())\n",
    "    df.loc[df['TenYearCHD'] == 1, 'BMI'] = df.loc[df['TenYearCHD'] == 1, 'BMI'].fillna(df.loc[df['TenYearCHD'] == 1, 'BMI'].mean())\n",
    "    df.loc[df['TenYearCHD'] == 0, 'BMI'] = df.loc[df['TenYearCHD'] == 0, 'BMI'].fillna(df.loc[df['TenYearCHD'] == 0, 'BMI'].mean())\n",
    "    df.loc[df['TenYearCHD'] == 1, 'heartRate'] = df.loc[df['TenYearCHD'] == 1, 'heartRate'].fillna(df.loc[df['TenYearCHD'] == 1, 'heartRate'].mean())\n",
    "    df.loc[df['TenYearCHD'] == 0, 'heartRate'] = df.loc[df['TenYearCHD'] == 0, 'heartRate'].fillna(df.loc[df['TenYearCHD'] == 0, 'heartRate'].mean())\n",
    "    df.loc[df['TenYearCHD'] == 1, 'glucose'] = df.loc[df['TenYearCHD'] == 1, 'glucose'].fillna(df.loc[df['TenYearCHD'] == 1, 'glucose'].mean())\n",
    "    df.loc[df['TenYearCHD'] == 0, 'glucose'] = df.loc[df['TenYearCHD'] == 0, 'glucose'].fillna(df.loc[df['TenYearCHD'] == 0, 'glucose'].mean())\n",
    "    X = df[paramList]\n",
    "    Y = df.TenYearCHD\n",
    "    x_train,x_test,y_train,y_test = train_test_split(X,Y,test_size=test_size)\n",
    "    return x_train,x_test,y_train,y_test"
   ],
   "metadata": {
    "collapsed": false,
    "ExecuteTime": {
     "end_time": "2023-08-02T12:32:16.412211Z",
     "start_time": "2023-08-02T12:32:16.396959Z"
    }
   },
   "id": "ac1a7d93affda4b8"
  },
  {
   "cell_type": "code",
   "execution_count": 84,
   "outputs": [],
   "source": [
    "paramList = ['male','age','education','currentSmoker','cigsPerDay','BPMeds','prevalentStroke','prevalentHyp','diabetes','totChol','sysBP','diaBP','BMI','heartRate','glucose']\n",
    "x_train,x_test,y_train,y_test = dataset2_preprocessing('Data/dataset_2.csv',paramList,0.1)"
   ],
   "metadata": {
    "collapsed": false,
    "ExecuteTime": {
     "end_time": "2023-08-02T12:32:24.431179Z",
     "start_time": "2023-08-02T12:32:24.378952Z"
    }
   },
   "id": "a6d6dfb58c72fc0d"
  },
  {
   "cell_type": "code",
   "execution_count": 85,
   "outputs": [
    {
     "data": {
      "text/plain": "      male  age  education  currentSmoker  cigsPerDay  BPMeds  \\\n3717     0   60        3.0              0         0.0     0.0   \n2653     1   54        4.0              0         0.0     0.0   \n1230     1   58        1.0              1        30.0     0.0   \n3285     0   47        2.0              1        20.0     0.0   \n623      1   50        3.0              1         3.0     0.0   \n...    ...  ...        ...            ...         ...     ...   \n847      0   42        1.0              0         0.0     0.0   \n1732     0   52        2.0              0         0.0     0.0   \n1479     0   45        1.0              0         0.0     0.0   \n633      0   56        1.0              1         5.0     0.0   \n1589     0   39        3.0              1        30.0     0.0   \n\n      prevalentStroke  prevalentHyp  diabetes       chol  trestbps  diaBP  \\\n3717                0             1         0  286.00000     172.5   85.0   \n2653                0             0         0  226.00000     122.5   77.5   \n1230                0             1         0  279.00000     180.0  109.5   \n3285                0             0         0  235.17253     121.0   70.0   \n623                 0             0         0  200.00000     105.0   68.0   \n...               ...           ...       ...        ...       ...    ...   \n847                 0             0         0  241.00000     118.5   80.5   \n1732                0             0         0  221.00000     124.0   69.0   \n1479                0             1         0  172.00000     137.0   92.5   \n633                 0             0         0  266.00000     134.5   78.5   \n1589                0             1         0  235.00000     196.0  116.0   \n\n        BMI  thalach  glucose  \n3717  22.00     72.0     71.0  \n2653  27.93     92.0     71.0  \n1230  26.04     75.0     82.0  \n3285  23.09     80.0     83.0  \n623   23.30     65.0     68.0  \n...     ...      ...      ...  \n847   32.36     95.0     75.0  \n1732  23.37     58.0     81.0  \n1479  30.35     90.0     83.0  \n633   30.78     79.0     84.0  \n1589  29.70     73.0     87.0  \n\n[3814 rows x 15 columns]",
      "text/html": "<div>\n<style scoped>\n    .dataframe tbody tr th:only-of-type {\n        vertical-align: middle;\n    }\n\n    .dataframe tbody tr th {\n        vertical-align: top;\n    }\n\n    .dataframe thead th {\n        text-align: right;\n    }\n</style>\n<table border=\"1\" class=\"dataframe\">\n  <thead>\n    <tr style=\"text-align: right;\">\n      <th></th>\n      <th>male</th>\n      <th>age</th>\n      <th>education</th>\n      <th>currentSmoker</th>\n      <th>cigsPerDay</th>\n      <th>BPMeds</th>\n      <th>prevalentStroke</th>\n      <th>prevalentHyp</th>\n      <th>diabetes</th>\n      <th>chol</th>\n      <th>trestbps</th>\n      <th>diaBP</th>\n      <th>BMI</th>\n      <th>thalach</th>\n      <th>glucose</th>\n    </tr>\n  </thead>\n  <tbody>\n    <tr>\n      <th>3717</th>\n      <td>0</td>\n      <td>60</td>\n      <td>3.0</td>\n      <td>0</td>\n      <td>0.0</td>\n      <td>0.0</td>\n      <td>0</td>\n      <td>1</td>\n      <td>0</td>\n      <td>286.00000</td>\n      <td>172.5</td>\n      <td>85.0</td>\n      <td>22.00</td>\n      <td>72.0</td>\n      <td>71.0</td>\n    </tr>\n    <tr>\n      <th>2653</th>\n      <td>1</td>\n      <td>54</td>\n      <td>4.0</td>\n      <td>0</td>\n      <td>0.0</td>\n      <td>0.0</td>\n      <td>0</td>\n      <td>0</td>\n      <td>0</td>\n      <td>226.00000</td>\n      <td>122.5</td>\n      <td>77.5</td>\n      <td>27.93</td>\n      <td>92.0</td>\n      <td>71.0</td>\n    </tr>\n    <tr>\n      <th>1230</th>\n      <td>1</td>\n      <td>58</td>\n      <td>1.0</td>\n      <td>1</td>\n      <td>30.0</td>\n      <td>0.0</td>\n      <td>0</td>\n      <td>1</td>\n      <td>0</td>\n      <td>279.00000</td>\n      <td>180.0</td>\n      <td>109.5</td>\n      <td>26.04</td>\n      <td>75.0</td>\n      <td>82.0</td>\n    </tr>\n    <tr>\n      <th>3285</th>\n      <td>0</td>\n      <td>47</td>\n      <td>2.0</td>\n      <td>1</td>\n      <td>20.0</td>\n      <td>0.0</td>\n      <td>0</td>\n      <td>0</td>\n      <td>0</td>\n      <td>235.17253</td>\n      <td>121.0</td>\n      <td>70.0</td>\n      <td>23.09</td>\n      <td>80.0</td>\n      <td>83.0</td>\n    </tr>\n    <tr>\n      <th>623</th>\n      <td>1</td>\n      <td>50</td>\n      <td>3.0</td>\n      <td>1</td>\n      <td>3.0</td>\n      <td>0.0</td>\n      <td>0</td>\n      <td>0</td>\n      <td>0</td>\n      <td>200.00000</td>\n      <td>105.0</td>\n      <td>68.0</td>\n      <td>23.30</td>\n      <td>65.0</td>\n      <td>68.0</td>\n    </tr>\n    <tr>\n      <th>...</th>\n      <td>...</td>\n      <td>...</td>\n      <td>...</td>\n      <td>...</td>\n      <td>...</td>\n      <td>...</td>\n      <td>...</td>\n      <td>...</td>\n      <td>...</td>\n      <td>...</td>\n      <td>...</td>\n      <td>...</td>\n      <td>...</td>\n      <td>...</td>\n      <td>...</td>\n    </tr>\n    <tr>\n      <th>847</th>\n      <td>0</td>\n      <td>42</td>\n      <td>1.0</td>\n      <td>0</td>\n      <td>0.0</td>\n      <td>0.0</td>\n      <td>0</td>\n      <td>0</td>\n      <td>0</td>\n      <td>241.00000</td>\n      <td>118.5</td>\n      <td>80.5</td>\n      <td>32.36</td>\n      <td>95.0</td>\n      <td>75.0</td>\n    </tr>\n    <tr>\n      <th>1732</th>\n      <td>0</td>\n      <td>52</td>\n      <td>2.0</td>\n      <td>0</td>\n      <td>0.0</td>\n      <td>0.0</td>\n      <td>0</td>\n      <td>0</td>\n      <td>0</td>\n      <td>221.00000</td>\n      <td>124.0</td>\n      <td>69.0</td>\n      <td>23.37</td>\n      <td>58.0</td>\n      <td>81.0</td>\n    </tr>\n    <tr>\n      <th>1479</th>\n      <td>0</td>\n      <td>45</td>\n      <td>1.0</td>\n      <td>0</td>\n      <td>0.0</td>\n      <td>0.0</td>\n      <td>0</td>\n      <td>1</td>\n      <td>0</td>\n      <td>172.00000</td>\n      <td>137.0</td>\n      <td>92.5</td>\n      <td>30.35</td>\n      <td>90.0</td>\n      <td>83.0</td>\n    </tr>\n    <tr>\n      <th>633</th>\n      <td>0</td>\n      <td>56</td>\n      <td>1.0</td>\n      <td>1</td>\n      <td>5.0</td>\n      <td>0.0</td>\n      <td>0</td>\n      <td>0</td>\n      <td>0</td>\n      <td>266.00000</td>\n      <td>134.5</td>\n      <td>78.5</td>\n      <td>30.78</td>\n      <td>79.0</td>\n      <td>84.0</td>\n    </tr>\n    <tr>\n      <th>1589</th>\n      <td>0</td>\n      <td>39</td>\n      <td>3.0</td>\n      <td>1</td>\n      <td>30.0</td>\n      <td>0.0</td>\n      <td>0</td>\n      <td>1</td>\n      <td>0</td>\n      <td>235.00000</td>\n      <td>196.0</td>\n      <td>116.0</td>\n      <td>29.70</td>\n      <td>73.0</td>\n      <td>87.0</td>\n    </tr>\n  </tbody>\n</table>\n<p>3814 rows × 15 columns</p>\n</div>"
     },
     "execution_count": 85,
     "metadata": {},
     "output_type": "execute_result"
    }
   ],
   "source": [
    "x_train"
   ],
   "metadata": {
    "collapsed": false,
    "ExecuteTime": {
     "end_time": "2023-08-02T12:32:25.852885Z",
     "start_time": "2023-08-02T12:32:25.841608Z"
    }
   },
   "id": "333e6a8f1f81335c"
  },
  {
   "cell_type": "code",
   "execution_count": 6,
   "outputs": [],
   "source": [],
   "metadata": {
    "collapsed": false,
    "ExecuteTime": {
     "end_time": "2023-08-02T12:04:32.670356Z",
     "start_time": "2023-08-02T12:04:32.661290Z"
    }
   },
   "id": "718fd6de6d3fe94"
  },
  {
   "cell_type": "code",
   "execution_count": 7,
   "outputs": [
    {
     "name": "stdout",
     "output_type": "stream",
     "text": [
      "<class 'pandas.core.frame.DataFrame'>\n",
      "RangeIndex: 4238 entries, 0 to 4237\n",
      "Data columns (total 16 columns):\n",
      " #   Column           Non-Null Count  Dtype  \n",
      "---  ------           --------------  -----  \n",
      " 0   male             4238 non-null   int64  \n",
      " 1   age              4238 non-null   int64  \n",
      " 2   education        4133 non-null   float64\n",
      " 3   currentSmoker    4238 non-null   int64  \n",
      " 4   cigsPerDay       4209 non-null   float64\n",
      " 5   BPMeds           4185 non-null   float64\n",
      " 6   prevalentStroke  4238 non-null   int64  \n",
      " 7   prevalentHyp     4238 non-null   int64  \n",
      " 8   diabetes         4238 non-null   int64  \n",
      " 9   totChol          4188 non-null   float64\n",
      " 10  sysBP            4238 non-null   float64\n",
      " 11  diaBP            4238 non-null   float64\n",
      " 12  BMI              4219 non-null   float64\n",
      " 13  heartRate        4237 non-null   float64\n",
      " 14  glucose          4238 non-null   float64\n",
      " 15  TenYearCHD       4238 non-null   int64  \n",
      "dtypes: float64(9), int64(7)\n",
      "memory usage: 529.9 KB\n"
     ]
    }
   ],
   "source": [
    "df.info()"
   ],
   "metadata": {
    "collapsed": false,
    "ExecuteTime": {
     "end_time": "2023-08-02T12:04:32.734581Z",
     "start_time": "2023-08-02T12:04:32.667663Z"
    }
   },
   "id": "4675a0c2f34d6550"
  },
  {
   "cell_type": "code",
   "execution_count": 8,
   "outputs": [
    {
     "data": {
      "text/plain": "          id    age  gender  height  weight  ap_hi  ap_lo  cholesterol  gluc  \\\n0          0  18393       2     168    62.0    110     80            1     1   \n1          1  20228       1     156    85.0    140     90            3     1   \n2          2  18857       1     165    64.0    130     70            3     1   \n3          3  17623       2     169    82.0    150    100            1     1   \n4          4  17474       1     156    56.0    100     60            1     1   \n...      ...    ...     ...     ...     ...    ...    ...          ...   ...   \n69995  99993  19240       2     168    76.0    120     80            1     1   \n69996  99995  22601       1     158   126.0    140     90            2     2   \n69997  99996  19066       2     183   105.0    180     90            3     1   \n69998  99998  22431       1     163    72.0    135     80            1     2   \n69999  99999  20540       1     170    72.0    120     80            2     1   \n\n       smoke  alco  active  cardio  \n0          0     0       1       0  \n1          0     0       1       1  \n2          0     0       0       1  \n3          0     0       1       1  \n4          0     0       0       0  \n...      ...   ...     ...     ...  \n69995      1     0       1       0  \n69996      0     0       1       1  \n69997      0     1       0       1  \n69998      0     0       0       1  \n69999      0     0       1       0  \n\n[70000 rows x 13 columns]",
      "text/html": "<div>\n<style scoped>\n    .dataframe tbody tr th:only-of-type {\n        vertical-align: middle;\n    }\n\n    .dataframe tbody tr th {\n        vertical-align: top;\n    }\n\n    .dataframe thead th {\n        text-align: right;\n    }\n</style>\n<table border=\"1\" class=\"dataframe\">\n  <thead>\n    <tr style=\"text-align: right;\">\n      <th></th>\n      <th>id</th>\n      <th>age</th>\n      <th>gender</th>\n      <th>height</th>\n      <th>weight</th>\n      <th>ap_hi</th>\n      <th>ap_lo</th>\n      <th>cholesterol</th>\n      <th>gluc</th>\n      <th>smoke</th>\n      <th>alco</th>\n      <th>active</th>\n      <th>cardio</th>\n    </tr>\n  </thead>\n  <tbody>\n    <tr>\n      <th>0</th>\n      <td>0</td>\n      <td>18393</td>\n      <td>2</td>\n      <td>168</td>\n      <td>62.0</td>\n      <td>110</td>\n      <td>80</td>\n      <td>1</td>\n      <td>1</td>\n      <td>0</td>\n      <td>0</td>\n      <td>1</td>\n      <td>0</td>\n    </tr>\n    <tr>\n      <th>1</th>\n      <td>1</td>\n      <td>20228</td>\n      <td>1</td>\n      <td>156</td>\n      <td>85.0</td>\n      <td>140</td>\n      <td>90</td>\n      <td>3</td>\n      <td>1</td>\n      <td>0</td>\n      <td>0</td>\n      <td>1</td>\n      <td>1</td>\n    </tr>\n    <tr>\n      <th>2</th>\n      <td>2</td>\n      <td>18857</td>\n      <td>1</td>\n      <td>165</td>\n      <td>64.0</td>\n      <td>130</td>\n      <td>70</td>\n      <td>3</td>\n      <td>1</td>\n      <td>0</td>\n      <td>0</td>\n      <td>0</td>\n      <td>1</td>\n    </tr>\n    <tr>\n      <th>3</th>\n      <td>3</td>\n      <td>17623</td>\n      <td>2</td>\n      <td>169</td>\n      <td>82.0</td>\n      <td>150</td>\n      <td>100</td>\n      <td>1</td>\n      <td>1</td>\n      <td>0</td>\n      <td>0</td>\n      <td>1</td>\n      <td>1</td>\n    </tr>\n    <tr>\n      <th>4</th>\n      <td>4</td>\n      <td>17474</td>\n      <td>1</td>\n      <td>156</td>\n      <td>56.0</td>\n      <td>100</td>\n      <td>60</td>\n      <td>1</td>\n      <td>1</td>\n      <td>0</td>\n      <td>0</td>\n      <td>0</td>\n      <td>0</td>\n    </tr>\n    <tr>\n      <th>...</th>\n      <td>...</td>\n      <td>...</td>\n      <td>...</td>\n      <td>...</td>\n      <td>...</td>\n      <td>...</td>\n      <td>...</td>\n      <td>...</td>\n      <td>...</td>\n      <td>...</td>\n      <td>...</td>\n      <td>...</td>\n      <td>...</td>\n    </tr>\n    <tr>\n      <th>69995</th>\n      <td>99993</td>\n      <td>19240</td>\n      <td>2</td>\n      <td>168</td>\n      <td>76.0</td>\n      <td>120</td>\n      <td>80</td>\n      <td>1</td>\n      <td>1</td>\n      <td>1</td>\n      <td>0</td>\n      <td>1</td>\n      <td>0</td>\n    </tr>\n    <tr>\n      <th>69996</th>\n      <td>99995</td>\n      <td>22601</td>\n      <td>1</td>\n      <td>158</td>\n      <td>126.0</td>\n      <td>140</td>\n      <td>90</td>\n      <td>2</td>\n      <td>2</td>\n      <td>0</td>\n      <td>0</td>\n      <td>1</td>\n      <td>1</td>\n    </tr>\n    <tr>\n      <th>69997</th>\n      <td>99996</td>\n      <td>19066</td>\n      <td>2</td>\n      <td>183</td>\n      <td>105.0</td>\n      <td>180</td>\n      <td>90</td>\n      <td>3</td>\n      <td>1</td>\n      <td>0</td>\n      <td>1</td>\n      <td>0</td>\n      <td>1</td>\n    </tr>\n    <tr>\n      <th>69998</th>\n      <td>99998</td>\n      <td>22431</td>\n      <td>1</td>\n      <td>163</td>\n      <td>72.0</td>\n      <td>135</td>\n      <td>80</td>\n      <td>1</td>\n      <td>2</td>\n      <td>0</td>\n      <td>0</td>\n      <td>0</td>\n      <td>1</td>\n    </tr>\n    <tr>\n      <th>69999</th>\n      <td>99999</td>\n      <td>20540</td>\n      <td>1</td>\n      <td>170</td>\n      <td>72.0</td>\n      <td>120</td>\n      <td>80</td>\n      <td>2</td>\n      <td>1</td>\n      <td>0</td>\n      <td>0</td>\n      <td>1</td>\n      <td>0</td>\n    </tr>\n  </tbody>\n</table>\n<p>70000 rows × 13 columns</p>\n</div>"
     },
     "execution_count": 8,
     "metadata": {},
     "output_type": "execute_result"
    }
   ],
   "source": [
    "df3 = pd.read_csv('Data/dataset_3.csv',sep=';')\n",
    "df3"
   ],
   "metadata": {
    "collapsed": false,
    "ExecuteTime": {
     "end_time": "2023-08-02T12:04:32.858946Z",
     "start_time": "2023-08-02T12:04:32.677089Z"
    }
   },
   "id": "7d9df57d1f3d74c6"
  },
  {
   "cell_type": "code",
   "execution_count": 9,
   "outputs": [
    {
     "data": {
      "text/plain": "Index(['id', 'age', 'gender', 'height', 'weight', 'ap_hi', 'ap_lo',\n       'cholesterol', 'gluc', 'smoke', 'alco', 'active', 'cardio'],\n      dtype='object')"
     },
     "execution_count": 9,
     "metadata": {},
     "output_type": "execute_result"
    }
   ],
   "source": [
    "df3.columns"
   ],
   "metadata": {
    "collapsed": false,
    "ExecuteTime": {
     "end_time": "2023-08-02T12:04:32.859398Z",
     "start_time": "2023-08-02T12:04:32.811458Z"
    }
   },
   "id": "711ac65b2b70a206"
  },
  {
   "cell_type": "code",
   "execution_count": 10,
   "outputs": [
    {
     "data": {
      "text/plain": "0        0\n1        0\n2        0\n3        0\n4        0\n        ..\n69995    0\n69996    1\n69997    0\n69998    1\n69999    0\nName: gluc, Length: 70000, dtype: int64"
     },
     "execution_count": 10,
     "metadata": {},
     "output_type": "execute_result"
    }
   ],
   "source": [
    "df3.loc[df3['gluc'] == 1, 'gluc'] = 0\n",
    "df3.loc[df3['gluc'] == 2, 'gluc'] = 1\n",
    "df3.loc[df3['gluc'] == 3, 'gluc'] = 1\n",
    "df3.gluc"
   ],
   "metadata": {
    "collapsed": false,
    "ExecuteTime": {
     "end_time": "2023-08-02T12:04:32.859848Z",
     "start_time": "2023-08-02T12:04:32.817565Z"
    }
   },
   "id": "b601adccc38cb9ef"
  },
  {
   "cell_type": "code",
   "execution_count": 100,
   "outputs": [],
   "source": [
    "def dataset3_preprocessing(file_path,paramList,test_size):\n",
    "    df = pd.read_csv(file_path,sep=';')\n",
    "    df.age= round(df.age/365,0)\n",
    "    df.loc[df['gluc'] == 1, 'gluc'] = 0\n",
    "    df.loc[df['gluc'] == 2, 'gluc'] = 1\n",
    "    df.loc[df['gluc'] == 3, 'gluc'] = 1\n",
    "    X = df[paramList]\n",
    "    Y = df.cardio\n",
    "    x_train,x_test,y_train,y_test = train_test_split(X,Y,test_size=test_size)\n",
    "    return x_train,x_test,y_train,y_test"
   ],
   "metadata": {
    "collapsed": false,
    "ExecuteTime": {
     "end_time": "2023-08-02T12:38:21.681271Z",
     "start_time": "2023-08-02T12:38:21.661218Z"
    }
   },
   "id": "98bc8e4017ed73e6"
  },
  {
   "cell_type": "code",
   "execution_count": 101,
   "outputs": [],
   "source": [
    "paramList = ['age', 'gender', 'height', 'weight', 'ap_hi', 'ap_lo','cholesterol', 'gluc', 'smoke', 'alco', 'active']\n",
    "x_train,x_test,y_train,y_test = dataset3_preprocessing('Data/dataset_3.csv',paramList,0.1)"
   ],
   "metadata": {
    "collapsed": false,
    "ExecuteTime": {
     "end_time": "2023-08-02T12:38:22.135590Z",
     "start_time": "2023-08-02T12:38:22.009541Z"
    }
   },
   "id": "7057e83c3cd3603e"
  },
  {
   "cell_type": "code",
   "execution_count": 102,
   "outputs": [
    {
     "data": {
      "text/plain": "        age  sex  height  weight  trestbps  diaBP  cholesterol  fbs  \\\n36940  55.0    0     175   127.0       140     90            1    1   \n52767  50.0    0     171    71.0       130     80            1    0   \n44225  44.0    0     170    80.0       200    100            3    1   \n5925   57.0    0     169    67.0       110     70            2    0   \n9390   60.0    0     175    80.0       120     70            1    0   \n...     ...  ...     ...     ...       ...    ...          ...  ...   \n11402  50.0    0     165    80.0       140     90            2    0   \n715    55.0    0     146    45.0       120     80            1    0   \n67453  53.0    0     173    70.0       120     80            2    0   \n12482  52.0    0     170    80.0       150     90            1    0   \n14836  54.0    0     164    68.0       120     80            1    0   \n\n       currentSmoker  alco  active  \n36940              1     0       1  \n52767              0     0       0  \n44225              1     1       0  \n5925               0     0       1  \n9390               0     0       1  \n...              ...   ...     ...  \n11402              0     0       1  \n715                0     0       1  \n67453              0     0       1  \n12482              0     0       1  \n14836              0     0       0  \n\n[63000 rows x 11 columns]",
      "text/html": "<div>\n<style scoped>\n    .dataframe tbody tr th:only-of-type {\n        vertical-align: middle;\n    }\n\n    .dataframe tbody tr th {\n        vertical-align: top;\n    }\n\n    .dataframe thead th {\n        text-align: right;\n    }\n</style>\n<table border=\"1\" class=\"dataframe\">\n  <thead>\n    <tr style=\"text-align: right;\">\n      <th></th>\n      <th>age</th>\n      <th>sex</th>\n      <th>height</th>\n      <th>weight</th>\n      <th>trestbps</th>\n      <th>diaBP</th>\n      <th>cholesterol</th>\n      <th>fbs</th>\n      <th>currentSmoker</th>\n      <th>alco</th>\n      <th>active</th>\n    </tr>\n  </thead>\n  <tbody>\n    <tr>\n      <th>36940</th>\n      <td>55.0</td>\n      <td>0</td>\n      <td>175</td>\n      <td>127.0</td>\n      <td>140</td>\n      <td>90</td>\n      <td>1</td>\n      <td>1</td>\n      <td>1</td>\n      <td>0</td>\n      <td>1</td>\n    </tr>\n    <tr>\n      <th>52767</th>\n      <td>50.0</td>\n      <td>0</td>\n      <td>171</td>\n      <td>71.0</td>\n      <td>130</td>\n      <td>80</td>\n      <td>1</td>\n      <td>0</td>\n      <td>0</td>\n      <td>0</td>\n      <td>0</td>\n    </tr>\n    <tr>\n      <th>44225</th>\n      <td>44.0</td>\n      <td>0</td>\n      <td>170</td>\n      <td>80.0</td>\n      <td>200</td>\n      <td>100</td>\n      <td>3</td>\n      <td>1</td>\n      <td>1</td>\n      <td>1</td>\n      <td>0</td>\n    </tr>\n    <tr>\n      <th>5925</th>\n      <td>57.0</td>\n      <td>0</td>\n      <td>169</td>\n      <td>67.0</td>\n      <td>110</td>\n      <td>70</td>\n      <td>2</td>\n      <td>0</td>\n      <td>0</td>\n      <td>0</td>\n      <td>1</td>\n    </tr>\n    <tr>\n      <th>9390</th>\n      <td>60.0</td>\n      <td>0</td>\n      <td>175</td>\n      <td>80.0</td>\n      <td>120</td>\n      <td>70</td>\n      <td>1</td>\n      <td>0</td>\n      <td>0</td>\n      <td>0</td>\n      <td>1</td>\n    </tr>\n    <tr>\n      <th>...</th>\n      <td>...</td>\n      <td>...</td>\n      <td>...</td>\n      <td>...</td>\n      <td>...</td>\n      <td>...</td>\n      <td>...</td>\n      <td>...</td>\n      <td>...</td>\n      <td>...</td>\n      <td>...</td>\n    </tr>\n    <tr>\n      <th>11402</th>\n      <td>50.0</td>\n      <td>0</td>\n      <td>165</td>\n      <td>80.0</td>\n      <td>140</td>\n      <td>90</td>\n      <td>2</td>\n      <td>0</td>\n      <td>0</td>\n      <td>0</td>\n      <td>1</td>\n    </tr>\n    <tr>\n      <th>715</th>\n      <td>55.0</td>\n      <td>0</td>\n      <td>146</td>\n      <td>45.0</td>\n      <td>120</td>\n      <td>80</td>\n      <td>1</td>\n      <td>0</td>\n      <td>0</td>\n      <td>0</td>\n      <td>1</td>\n    </tr>\n    <tr>\n      <th>67453</th>\n      <td>53.0</td>\n      <td>0</td>\n      <td>173</td>\n      <td>70.0</td>\n      <td>120</td>\n      <td>80</td>\n      <td>2</td>\n      <td>0</td>\n      <td>0</td>\n      <td>0</td>\n      <td>1</td>\n    </tr>\n    <tr>\n      <th>12482</th>\n      <td>52.0</td>\n      <td>0</td>\n      <td>170</td>\n      <td>80.0</td>\n      <td>150</td>\n      <td>90</td>\n      <td>1</td>\n      <td>0</td>\n      <td>0</td>\n      <td>0</td>\n      <td>1</td>\n    </tr>\n    <tr>\n      <th>14836</th>\n      <td>54.0</td>\n      <td>0</td>\n      <td>164</td>\n      <td>68.0</td>\n      <td>120</td>\n      <td>80</td>\n      <td>1</td>\n      <td>0</td>\n      <td>0</td>\n      <td>0</td>\n      <td>0</td>\n    </tr>\n  </tbody>\n</table>\n<p>63000 rows × 11 columns</p>\n</div>"
     },
     "execution_count": 102,
     "metadata": {},
     "output_type": "execute_result"
    }
   ],
   "source": [
    "x_train.gluc.unique()"
   ],
   "metadata": {
    "collapsed": false,
    "ExecuteTime": {
     "end_time": "2023-08-02T12:38:22.371110Z",
     "start_time": "2023-08-02T12:38:22.359723Z"
    }
   },
   "id": "cab272ebee993751"
  },
  {
   "cell_type": "code",
   "execution_count": 14,
   "outputs": [
    {
     "data": {
      "text/plain": "       HeartDisease    BMI Smoking AlcoholDrinking Stroke  PhysicalHealth  \\\n0                No  16.60     Yes              No     No             3.0   \n1                No  20.34      No              No    Yes             0.0   \n2                No  26.58     Yes              No     No            20.0   \n3                No  24.21      No              No     No             0.0   \n4                No  23.71      No              No     No            28.0   \n...             ...    ...     ...             ...    ...             ...   \n319790          Yes  27.41     Yes              No     No             7.0   \n319791           No  29.84     Yes              No     No             0.0   \n319792           No  24.24      No              No     No             0.0   \n319793           No  32.81      No              No     No             0.0   \n319794           No  46.56      No              No     No             0.0   \n\n        MentalHealth DiffWalking     Sex  AgeCategory      Race Diabetic  \\\n0               30.0          No  Female        55-59     White      Yes   \n1                0.0          No  Female  80 or older     White       No   \n2               30.0          No    Male        65-69     White      Yes   \n3                0.0          No  Female        75-79     White       No   \n4                0.0         Yes  Female        40-44     White       No   \n...              ...         ...     ...          ...       ...      ...   \n319790           0.0         Yes    Male        60-64  Hispanic      Yes   \n319791           0.0          No    Male        35-39  Hispanic       No   \n319792           0.0          No  Female        45-49  Hispanic       No   \n319793           0.0          No  Female        25-29  Hispanic       No   \n319794           0.0          No  Female  80 or older  Hispanic       No   \n\n       PhysicalActivity  GenHealth  SleepTime Asthma KidneyDisease SkinCancer  \n0                   Yes  Very good        5.0    Yes            No        Yes  \n1                   Yes  Very good        7.0     No            No         No  \n2                   Yes       Fair        8.0    Yes            No         No  \n3                    No       Good        6.0     No            No        Yes  \n4                   Yes  Very good        8.0     No            No         No  \n...                 ...        ...        ...    ...           ...        ...  \n319790               No       Fair        6.0    Yes            No         No  \n319791              Yes  Very good        5.0    Yes            No         No  \n319792              Yes       Good        6.0     No            No         No  \n319793               No       Good       12.0     No            No         No  \n319794              Yes       Good        8.0     No            No         No  \n\n[319795 rows x 18 columns]",
      "text/html": "<div>\n<style scoped>\n    .dataframe tbody tr th:only-of-type {\n        vertical-align: middle;\n    }\n\n    .dataframe tbody tr th {\n        vertical-align: top;\n    }\n\n    .dataframe thead th {\n        text-align: right;\n    }\n</style>\n<table border=\"1\" class=\"dataframe\">\n  <thead>\n    <tr style=\"text-align: right;\">\n      <th></th>\n      <th>HeartDisease</th>\n      <th>BMI</th>\n      <th>Smoking</th>\n      <th>AlcoholDrinking</th>\n      <th>Stroke</th>\n      <th>PhysicalHealth</th>\n      <th>MentalHealth</th>\n      <th>DiffWalking</th>\n      <th>Sex</th>\n      <th>AgeCategory</th>\n      <th>Race</th>\n      <th>Diabetic</th>\n      <th>PhysicalActivity</th>\n      <th>GenHealth</th>\n      <th>SleepTime</th>\n      <th>Asthma</th>\n      <th>KidneyDisease</th>\n      <th>SkinCancer</th>\n    </tr>\n  </thead>\n  <tbody>\n    <tr>\n      <th>0</th>\n      <td>No</td>\n      <td>16.60</td>\n      <td>Yes</td>\n      <td>No</td>\n      <td>No</td>\n      <td>3.0</td>\n      <td>30.0</td>\n      <td>No</td>\n      <td>Female</td>\n      <td>55-59</td>\n      <td>White</td>\n      <td>Yes</td>\n      <td>Yes</td>\n      <td>Very good</td>\n      <td>5.0</td>\n      <td>Yes</td>\n      <td>No</td>\n      <td>Yes</td>\n    </tr>\n    <tr>\n      <th>1</th>\n      <td>No</td>\n      <td>20.34</td>\n      <td>No</td>\n      <td>No</td>\n      <td>Yes</td>\n      <td>0.0</td>\n      <td>0.0</td>\n      <td>No</td>\n      <td>Female</td>\n      <td>80 or older</td>\n      <td>White</td>\n      <td>No</td>\n      <td>Yes</td>\n      <td>Very good</td>\n      <td>7.0</td>\n      <td>No</td>\n      <td>No</td>\n      <td>No</td>\n    </tr>\n    <tr>\n      <th>2</th>\n      <td>No</td>\n      <td>26.58</td>\n      <td>Yes</td>\n      <td>No</td>\n      <td>No</td>\n      <td>20.0</td>\n      <td>30.0</td>\n      <td>No</td>\n      <td>Male</td>\n      <td>65-69</td>\n      <td>White</td>\n      <td>Yes</td>\n      <td>Yes</td>\n      <td>Fair</td>\n      <td>8.0</td>\n      <td>Yes</td>\n      <td>No</td>\n      <td>No</td>\n    </tr>\n    <tr>\n      <th>3</th>\n      <td>No</td>\n      <td>24.21</td>\n      <td>No</td>\n      <td>No</td>\n      <td>No</td>\n      <td>0.0</td>\n      <td>0.0</td>\n      <td>No</td>\n      <td>Female</td>\n      <td>75-79</td>\n      <td>White</td>\n      <td>No</td>\n      <td>No</td>\n      <td>Good</td>\n      <td>6.0</td>\n      <td>No</td>\n      <td>No</td>\n      <td>Yes</td>\n    </tr>\n    <tr>\n      <th>4</th>\n      <td>No</td>\n      <td>23.71</td>\n      <td>No</td>\n      <td>No</td>\n      <td>No</td>\n      <td>28.0</td>\n      <td>0.0</td>\n      <td>Yes</td>\n      <td>Female</td>\n      <td>40-44</td>\n      <td>White</td>\n      <td>No</td>\n      <td>Yes</td>\n      <td>Very good</td>\n      <td>8.0</td>\n      <td>No</td>\n      <td>No</td>\n      <td>No</td>\n    </tr>\n    <tr>\n      <th>...</th>\n      <td>...</td>\n      <td>...</td>\n      <td>...</td>\n      <td>...</td>\n      <td>...</td>\n      <td>...</td>\n      <td>...</td>\n      <td>...</td>\n      <td>...</td>\n      <td>...</td>\n      <td>...</td>\n      <td>...</td>\n      <td>...</td>\n      <td>...</td>\n      <td>...</td>\n      <td>...</td>\n      <td>...</td>\n      <td>...</td>\n    </tr>\n    <tr>\n      <th>319790</th>\n      <td>Yes</td>\n      <td>27.41</td>\n      <td>Yes</td>\n      <td>No</td>\n      <td>No</td>\n      <td>7.0</td>\n      <td>0.0</td>\n      <td>Yes</td>\n      <td>Male</td>\n      <td>60-64</td>\n      <td>Hispanic</td>\n      <td>Yes</td>\n      <td>No</td>\n      <td>Fair</td>\n      <td>6.0</td>\n      <td>Yes</td>\n      <td>No</td>\n      <td>No</td>\n    </tr>\n    <tr>\n      <th>319791</th>\n      <td>No</td>\n      <td>29.84</td>\n      <td>Yes</td>\n      <td>No</td>\n      <td>No</td>\n      <td>0.0</td>\n      <td>0.0</td>\n      <td>No</td>\n      <td>Male</td>\n      <td>35-39</td>\n      <td>Hispanic</td>\n      <td>No</td>\n      <td>Yes</td>\n      <td>Very good</td>\n      <td>5.0</td>\n      <td>Yes</td>\n      <td>No</td>\n      <td>No</td>\n    </tr>\n    <tr>\n      <th>319792</th>\n      <td>No</td>\n      <td>24.24</td>\n      <td>No</td>\n      <td>No</td>\n      <td>No</td>\n      <td>0.0</td>\n      <td>0.0</td>\n      <td>No</td>\n      <td>Female</td>\n      <td>45-49</td>\n      <td>Hispanic</td>\n      <td>No</td>\n      <td>Yes</td>\n      <td>Good</td>\n      <td>6.0</td>\n      <td>No</td>\n      <td>No</td>\n      <td>No</td>\n    </tr>\n    <tr>\n      <th>319793</th>\n      <td>No</td>\n      <td>32.81</td>\n      <td>No</td>\n      <td>No</td>\n      <td>No</td>\n      <td>0.0</td>\n      <td>0.0</td>\n      <td>No</td>\n      <td>Female</td>\n      <td>25-29</td>\n      <td>Hispanic</td>\n      <td>No</td>\n      <td>No</td>\n      <td>Good</td>\n      <td>12.0</td>\n      <td>No</td>\n      <td>No</td>\n      <td>No</td>\n    </tr>\n    <tr>\n      <th>319794</th>\n      <td>No</td>\n      <td>46.56</td>\n      <td>No</td>\n      <td>No</td>\n      <td>No</td>\n      <td>0.0</td>\n      <td>0.0</td>\n      <td>No</td>\n      <td>Female</td>\n      <td>80 or older</td>\n      <td>Hispanic</td>\n      <td>No</td>\n      <td>Yes</td>\n      <td>Good</td>\n      <td>8.0</td>\n      <td>No</td>\n      <td>No</td>\n      <td>No</td>\n    </tr>\n  </tbody>\n</table>\n<p>319795 rows × 18 columns</p>\n</div>"
     },
     "execution_count": 14,
     "metadata": {},
     "output_type": "execute_result"
    }
   ],
   "source": [
    "df4 = pd.read_csv('Data/dataset_4.csv')\n",
    "df4"
   ],
   "metadata": {
    "collapsed": false,
    "ExecuteTime": {
     "end_time": "2023-08-02T12:04:34.024058Z",
     "start_time": "2023-08-02T12:04:32.995195Z"
    }
   },
   "id": "ef6a6b7ead94f41a"
  },
  {
   "cell_type": "code",
   "execution_count": 15,
   "outputs": [
    {
     "name": "stdout",
     "output_type": "stream",
     "text": [
      "<class 'pandas.core.frame.DataFrame'>\n",
      "RangeIndex: 319795 entries, 0 to 319794\n",
      "Data columns (total 18 columns):\n",
      " #   Column            Non-Null Count   Dtype  \n",
      "---  ------            --------------   -----  \n",
      " 0   HeartDisease      319795 non-null  object \n",
      " 1   BMI               319795 non-null  float64\n",
      " 2   Smoking           319795 non-null  object \n",
      " 3   AlcoholDrinking   319795 non-null  object \n",
      " 4   Stroke            319795 non-null  object \n",
      " 5   PhysicalHealth    319795 non-null  float64\n",
      " 6   MentalHealth      319795 non-null  float64\n",
      " 7   DiffWalking       319795 non-null  object \n",
      " 8   Sex               319795 non-null  object \n",
      " 9   AgeCategory       319795 non-null  object \n",
      " 10  Race              319795 non-null  object \n",
      " 11  Diabetic          319795 non-null  object \n",
      " 12  PhysicalActivity  319795 non-null  object \n",
      " 13  GenHealth         319795 non-null  object \n",
      " 14  SleepTime         319795 non-null  float64\n",
      " 15  Asthma            319795 non-null  object \n",
      " 16  KidneyDisease     319795 non-null  object \n",
      " 17  SkinCancer        319795 non-null  object \n",
      "dtypes: float64(4), object(14)\n",
      "memory usage: 43.9+ MB\n"
     ]
    }
   ],
   "source": [
    "df4.info()"
   ],
   "metadata": {
    "collapsed": false,
    "ExecuteTime": {
     "end_time": "2023-08-02T12:04:34.779902Z",
     "start_time": "2023-08-02T12:04:34.025299Z"
    }
   },
   "id": "29993ea16b1873b5"
  },
  {
   "cell_type": "code",
   "execution_count": 16,
   "outputs": [],
   "source": [
    "df4.Smoking = df4.Smoking.map({'No':0,'Yes':1})\n",
    "df4.HeartDisease = df4.HeartDisease.map({'No':0,'Yes':1})\n",
    "df4.AlcoholDrinking = df4.AlcoholDrinking.map({'No':0,'Yes':1})\n",
    "df4.Stroke = df4.Stroke.map({'No':0,'Yes':1})\n",
    "df4.DiffWalking = df4.DiffWalking.map({'No':0,'Yes':1})\n",
    "df4.Diabetic = df4.Diabetic.map({'No':0,'Yes':1})\n",
    "df4.loc[df4['HeartDisease'] == 1, 'Diabetic'] = df4.loc[df4['HeartDisease'] == 1, 'Diabetic'].fillna(df4.loc[df4['HeartDisease'] == 1, 'Diabetic'].mode()[0])\n",
    "df4.loc[df4['HeartDisease'] == 0, 'Diabetic'] = df4.loc[df4['HeartDisease'] == 0, 'Diabetic'].fillna(df4.loc[df4['HeartDisease'] == 0, 'Diabetic'].mode()[0])\n",
    "df4.PhysicalActivity = df4.PhysicalActivity.map({'No':0,'Yes':1})\n",
    "df4.Asthma = df4.Asthma.map({'No':0,'Yes':1})\n",
    "df4.KidneyDisease = df4.KidneyDisease.map({'No':0,'Yes':1})\n",
    "df4.SkinCancer = df4.SkinCancer.map({'No':0,'Yes':1})\n",
    "df4.Sex = df4.Sex.map({'Female':0,'Male':1})\n",
    "df4.AgeCategory = df4.AgeCategory.map({'55-59':57,'80 or older':82,'65-69':67,'75-79':77,'40-44':42,'70-74':72,'60-64':62,'50-54':52,'45-49':47,'18-24':21,'35-39':37,'30-34':32,'25-29':27})\n",
    "df4.Race = df4.Race.map({'White':1,'Black':2,'Asian':3,'American Indian/Alaskan Native':4,'Other':5,'Hispanic':6})\n",
    "df4.GenHealth = df4.GenHealth.map({'Very good':4, 'Fair':2, 'Good':3, 'Poor':1, 'Excellent':5})"
   ],
   "metadata": {
    "collapsed": false,
    "ExecuteTime": {
     "end_time": "2023-08-02T12:04:35.354928Z",
     "start_time": "2023-08-02T12:04:34.785382Z"
    }
   },
   "id": "2c273323327da78a"
  },
  {
   "cell_type": "code",
   "execution_count": 17,
   "outputs": [
    {
     "data": {
      "text/plain": "Index(['HeartDisease', 'BMI', 'Smoking', 'AlcoholDrinking', 'Stroke',\n       'PhysicalHealth', 'MentalHealth', 'DiffWalking', 'Sex', 'AgeCategory',\n       'Race', 'Diabetic', 'PhysicalActivity', 'GenHealth', 'SleepTime',\n       'Asthma', 'KidneyDisease', 'SkinCancer'],\n      dtype='object')"
     },
     "execution_count": 17,
     "metadata": {},
     "output_type": "execute_result"
    }
   ],
   "source": [
    "df4.columns"
   ],
   "metadata": {
    "collapsed": false,
    "ExecuteTime": {
     "end_time": "2023-08-02T12:04:35.361939Z",
     "start_time": "2023-08-02T12:04:35.356778Z"
    }
   },
   "id": "d8b04ee25e46612f"
  },
  {
   "cell_type": "code",
   "execution_count": 107,
   "outputs": [],
   "source": [
    "def dataset4_preprocessing(file_path,paramList,test_size):\n",
    "    df4 = pd.read_csv(file_path)\n",
    "    df4.Smoking = df4.Smoking.map({'No':0,'Yes':1})\n",
    "    df4.HeartDisease = df4.HeartDisease.map({'No':0,'Yes':1})\n",
    "    df4.AlcoholDrinking = df4.AlcoholDrinking.map({'No':0,'Yes':1})\n",
    "    df4.Stroke = df4.Stroke.map({'No':0,'Yes':1})\n",
    "    df4.DiffWalking = df4.DiffWalking.map({'No':0,'Yes':1})\n",
    "    df4.Diabetic = df4.Diabetic.map({'No':0,'Yes':1})\n",
    "    df4.loc[df4['HeartDisease'] == 1, 'Diabetic'] = df4.loc[df4['HeartDisease'] == 1, 'Diabetic'].fillna(df4.loc[df4['HeartDisease'] == 1, 'Diabetic'].mode()[0])\n",
    "    df4.loc[df4['HeartDisease'] == 0, 'Diabetic'] = df4.loc[df4['HeartDisease'] == 0, 'Diabetic'].fillna(df4.loc[df4['HeartDisease'] == 0, 'Diabetic'].mode()[0])\n",
    "    df4.PhysicalActivity = df4.PhysicalActivity.map({'No':0,'Yes':1})\n",
    "    df4.Asthma = df4.Asthma.map({'No':0,'Yes':1})\n",
    "    df4.KidneyDisease = df4.KidneyDisease.map({'No':0,'Yes':1})\n",
    "    df4.SkinCancer = df4.SkinCancer.map({'No':0,'Yes':1})\n",
    "    df4.Sex = df4.Sex.map({'Female':0,'Male':1})\n",
    "    df4.AgeCategory = df4.AgeCategory.map({'55-59':57,'80 or older':82,'65-69':67,'75-79':77,'40-44':42,'70-74':72,'60-64':62,'50-54':52,'45-49':47,'18-24':21,'35-39':37,'30-34':32,'25-29':27})\n",
    "    df4.Race = df4.Race.map({'White':1,'Black':2,'Asian':3,'American Indian/Alaskan Native':4,'Other':5,'Hispanic':6})\n",
    "    df4.GenHealth = df4.GenHealth.map({'Very good':4, 'Fair':2, 'Good':3, 'Poor':1, 'Excellent':5})\n",
    "    X = df4[paramList]\n",
    "    Y = df4.HeartDisease\n",
    "    x_train,x_test,y_train,y_test = train_test_split(X,Y,test_size=test_size)\n",
    "    return x_train,x_test,y_train,y_test"
   ],
   "metadata": {
    "collapsed": false,
    "ExecuteTime": {
     "end_time": "2023-08-02T12:42:20.347275Z",
     "start_time": "2023-08-02T12:42:20.332503Z"
    }
   },
   "id": "d0df7164e6dfc4bb"
  },
  {
   "cell_type": "code",
   "execution_count": 108,
   "outputs": [],
   "source": [
    "paramList = ['BMI', 'Smoking', 'AlcoholDrinking', 'Stroke','PhysicalHealth', 'MentalHealth', 'DiffWalking', 'Sex', 'AgeCategory','Race', 'Diabetic', 'PhysicalActivity', 'GenHealth', 'SleepTime','Asthma', 'KidneyDisease', 'SkinCancer']\n",
    "x_train,x_test,y_train,y_test = dataset4_preprocessing('Data/dataset_4.csv',paramList,0.1)"
   ],
   "metadata": {
    "collapsed": false,
    "ExecuteTime": {
     "end_time": "2023-08-02T12:42:22.646423Z",
     "start_time": "2023-08-02T12:42:20.700468Z"
    }
   },
   "id": "6fa70a9769b185ca"
  },
  {
   "cell_type": "code",
   "execution_count": 109,
   "outputs": [
    {
     "data": {
      "text/plain": "          BMI  currentSmoker  alco  prevalentStroke  PhysicalHealth  \\\n11099   37.59              1     0                0             0.0   \n143715  21.70              0     0                0             0.0   \n77164   23.23              0     0                0             0.0   \n200848  23.03              0     0                0            20.0   \n144737  26.76              0     0                0             0.0   \n...       ...            ...   ...              ...             ...   \n316590  28.06              1     0                0             0.0   \n31098   23.30              0     0                0             0.0   \n71103   30.04              0     0                0             0.0   \n112012  33.47              0     0                0             1.0   \n310889  33.45              0     0                0             0.0   \n\n        MentalHealth  DiffWalking  sex  age  Race  diabetes  active  \\\n11099            5.0            0    0   57     1       0.0       0   \n143715           0.0            0    1   67     1       0.0       1   \n77164            0.0            0    0   57     1       0.0       1   \n200848          20.0            0    0   37     5       0.0       1   \n144737           2.0            0    0   42     1       0.0       1   \n...              ...          ...  ...  ...   ...       ...     ...   \n316590           0.0            0    1   57     6       0.0       0   \n31098            0.0            0    0   77     1       0.0       1   \n71103            1.0            0    1   32     1       0.0       1   \n112012           0.0            0    0   47     1       1.0       0   \n310889           0.0            0    0   77     1       0.0       0   \n\n        GenHealth  SleepTime  Asthma  KidneyDisease  SkinCancer  \n11099           4        8.0       0              0           0  \n143715          4        8.0       0              0           0  \n77164           5        8.0       0              0           0  \n200848          4        9.0       0              0           0  \n144737          4        8.0       0              0           0  \n...           ...        ...     ...            ...         ...  \n316590          3        6.0       0              0           0  \n31098           4        7.0       0              0           0  \n71103           4        7.0       0              0           0  \n112012          3        8.0       0              0           0  \n310889          5        7.0       0              0           0  \n\n[287815 rows x 17 columns]",
      "text/html": "<div>\n<style scoped>\n    .dataframe tbody tr th:only-of-type {\n        vertical-align: middle;\n    }\n\n    .dataframe tbody tr th {\n        vertical-align: top;\n    }\n\n    .dataframe thead th {\n        text-align: right;\n    }\n</style>\n<table border=\"1\" class=\"dataframe\">\n  <thead>\n    <tr style=\"text-align: right;\">\n      <th></th>\n      <th>BMI</th>\n      <th>currentSmoker</th>\n      <th>alco</th>\n      <th>prevalentStroke</th>\n      <th>PhysicalHealth</th>\n      <th>MentalHealth</th>\n      <th>DiffWalking</th>\n      <th>sex</th>\n      <th>age</th>\n      <th>Race</th>\n      <th>diabetes</th>\n      <th>active</th>\n      <th>GenHealth</th>\n      <th>SleepTime</th>\n      <th>Asthma</th>\n      <th>KidneyDisease</th>\n      <th>SkinCancer</th>\n    </tr>\n  </thead>\n  <tbody>\n    <tr>\n      <th>11099</th>\n      <td>37.59</td>\n      <td>1</td>\n      <td>0</td>\n      <td>0</td>\n      <td>0.0</td>\n      <td>5.0</td>\n      <td>0</td>\n      <td>0</td>\n      <td>57</td>\n      <td>1</td>\n      <td>0.0</td>\n      <td>0</td>\n      <td>4</td>\n      <td>8.0</td>\n      <td>0</td>\n      <td>0</td>\n      <td>0</td>\n    </tr>\n    <tr>\n      <th>143715</th>\n      <td>21.70</td>\n      <td>0</td>\n      <td>0</td>\n      <td>0</td>\n      <td>0.0</td>\n      <td>0.0</td>\n      <td>0</td>\n      <td>1</td>\n      <td>67</td>\n      <td>1</td>\n      <td>0.0</td>\n      <td>1</td>\n      <td>4</td>\n      <td>8.0</td>\n      <td>0</td>\n      <td>0</td>\n      <td>0</td>\n    </tr>\n    <tr>\n      <th>77164</th>\n      <td>23.23</td>\n      <td>0</td>\n      <td>0</td>\n      <td>0</td>\n      <td>0.0</td>\n      <td>0.0</td>\n      <td>0</td>\n      <td>0</td>\n      <td>57</td>\n      <td>1</td>\n      <td>0.0</td>\n      <td>1</td>\n      <td>5</td>\n      <td>8.0</td>\n      <td>0</td>\n      <td>0</td>\n      <td>0</td>\n    </tr>\n    <tr>\n      <th>200848</th>\n      <td>23.03</td>\n      <td>0</td>\n      <td>0</td>\n      <td>0</td>\n      <td>20.0</td>\n      <td>20.0</td>\n      <td>0</td>\n      <td>0</td>\n      <td>37</td>\n      <td>5</td>\n      <td>0.0</td>\n      <td>1</td>\n      <td>4</td>\n      <td>9.0</td>\n      <td>0</td>\n      <td>0</td>\n      <td>0</td>\n    </tr>\n    <tr>\n      <th>144737</th>\n      <td>26.76</td>\n      <td>0</td>\n      <td>0</td>\n      <td>0</td>\n      <td>0.0</td>\n      <td>2.0</td>\n      <td>0</td>\n      <td>0</td>\n      <td>42</td>\n      <td>1</td>\n      <td>0.0</td>\n      <td>1</td>\n      <td>4</td>\n      <td>8.0</td>\n      <td>0</td>\n      <td>0</td>\n      <td>0</td>\n    </tr>\n    <tr>\n      <th>...</th>\n      <td>...</td>\n      <td>...</td>\n      <td>...</td>\n      <td>...</td>\n      <td>...</td>\n      <td>...</td>\n      <td>...</td>\n      <td>...</td>\n      <td>...</td>\n      <td>...</td>\n      <td>...</td>\n      <td>...</td>\n      <td>...</td>\n      <td>...</td>\n      <td>...</td>\n      <td>...</td>\n      <td>...</td>\n    </tr>\n    <tr>\n      <th>316590</th>\n      <td>28.06</td>\n      <td>1</td>\n      <td>0</td>\n      <td>0</td>\n      <td>0.0</td>\n      <td>0.0</td>\n      <td>0</td>\n      <td>1</td>\n      <td>57</td>\n      <td>6</td>\n      <td>0.0</td>\n      <td>0</td>\n      <td>3</td>\n      <td>6.0</td>\n      <td>0</td>\n      <td>0</td>\n      <td>0</td>\n    </tr>\n    <tr>\n      <th>31098</th>\n      <td>23.30</td>\n      <td>0</td>\n      <td>0</td>\n      <td>0</td>\n      <td>0.0</td>\n      <td>0.0</td>\n      <td>0</td>\n      <td>0</td>\n      <td>77</td>\n      <td>1</td>\n      <td>0.0</td>\n      <td>1</td>\n      <td>4</td>\n      <td>7.0</td>\n      <td>0</td>\n      <td>0</td>\n      <td>0</td>\n    </tr>\n    <tr>\n      <th>71103</th>\n      <td>30.04</td>\n      <td>0</td>\n      <td>0</td>\n      <td>0</td>\n      <td>0.0</td>\n      <td>1.0</td>\n      <td>0</td>\n      <td>1</td>\n      <td>32</td>\n      <td>1</td>\n      <td>0.0</td>\n      <td>1</td>\n      <td>4</td>\n      <td>7.0</td>\n      <td>0</td>\n      <td>0</td>\n      <td>0</td>\n    </tr>\n    <tr>\n      <th>112012</th>\n      <td>33.47</td>\n      <td>0</td>\n      <td>0</td>\n      <td>0</td>\n      <td>1.0</td>\n      <td>0.0</td>\n      <td>0</td>\n      <td>0</td>\n      <td>47</td>\n      <td>1</td>\n      <td>1.0</td>\n      <td>0</td>\n      <td>3</td>\n      <td>8.0</td>\n      <td>0</td>\n      <td>0</td>\n      <td>0</td>\n    </tr>\n    <tr>\n      <th>310889</th>\n      <td>33.45</td>\n      <td>0</td>\n      <td>0</td>\n      <td>0</td>\n      <td>0.0</td>\n      <td>0.0</td>\n      <td>0</td>\n      <td>0</td>\n      <td>77</td>\n      <td>1</td>\n      <td>0.0</td>\n      <td>0</td>\n      <td>5</td>\n      <td>7.0</td>\n      <td>0</td>\n      <td>0</td>\n      <td>0</td>\n    </tr>\n  </tbody>\n</table>\n<p>287815 rows × 17 columns</p>\n</div>"
     },
     "execution_count": 109,
     "metadata": {},
     "output_type": "execute_result"
    }
   ],
   "source": [
    "x_train"
   ],
   "metadata": {
    "collapsed": false,
    "ExecuteTime": {
     "end_time": "2023-08-02T12:42:22.680421Z",
     "start_time": "2023-08-02T12:42:22.646732Z"
    }
   },
   "id": "d201a5d820de37e6"
  },
  {
   "cell_type": "code",
   "execution_count": 21,
   "outputs": [
    {
     "data": {
      "text/plain": "       General_Health                  Checkup Exercise Heart_Disease  \\\n0                Poor  Within the past 2 years       No            No   \n1           Very Good     Within the past year       No           Yes   \n2           Very Good     Within the past year      Yes            No   \n3                Poor     Within the past year      Yes           Yes   \n4                Good     Within the past year       No            No   \n...               ...                      ...      ...           ...   \n308849      Very Good     Within the past year      Yes            No   \n308850           Fair  Within the past 5 years      Yes            No   \n308851      Very Good      5 or more years ago      Yes            No   \n308852      Very Good     Within the past year      Yes            No   \n308853      Excellent     Within the past year      Yes            No   \n\n       Skin_Cancer Other_Cancer Depression  \\\n0               No           No         No   \n1               No           No         No   \n2               No           No         No   \n3               No           No         No   \n4               No           No         No   \n...            ...          ...        ...   \n308849          No           No         No   \n308850          No           No         No   \n308851          No           No        Yes   \n308852          No           No         No   \n308853          No           No         No   \n\n                                          Diabetes Arthritis     Sex  \\\n0                                               No       Yes  Female   \n1                                              Yes        No  Female   \n2                                              Yes        No  Female   \n3                                              Yes        No    Male   \n4                                               No        No    Male   \n...                                            ...       ...     ...   \n308849                                          No        No    Male   \n308850                                         Yes        No    Male   \n308851  Yes, but female told only during pregnancy        No  Female   \n308852                                          No        No    Male   \n308853                                          No        No  Female   \n\n       Age_Category  Height_(cm)  Weight_(kg)    BMI Smoking_History  \\\n0             70-74        150.0        32.66  14.54             Yes   \n1             70-74        165.0        77.11  28.29              No   \n2             60-64        163.0        88.45  33.47              No   \n3             75-79        180.0        93.44  28.73              No   \n4               80+        191.0        88.45  24.37             Yes   \n...             ...          ...          ...    ...             ...   \n308849        25-29        168.0        81.65  29.05              No   \n308850        65-69        180.0        69.85  21.48              No   \n308851        30-34        157.0        61.23  24.69             Yes   \n308852        65-69        183.0        79.38  23.73              No   \n308853        45-49        160.0        81.19  31.71              No   \n\n        Alcohol_Consumption  Fruit_Consumption  Green_Vegetables_Consumption  \\\n0                       0.0               30.0                          16.0   \n1                       0.0               30.0                           0.0   \n2                       4.0               12.0                           3.0   \n3                       0.0               30.0                          30.0   \n4                       0.0                8.0                           4.0   \n...                     ...                ...                           ...   \n308849                  4.0               30.0                           8.0   \n308850                  8.0               15.0                          60.0   \n308851                  4.0               40.0                           8.0   \n308852                  3.0               30.0                          12.0   \n308853                  1.0                5.0                          12.0   \n\n        FriedPotato_Consumption  \n0                          12.0  \n1                           4.0  \n2                          16.0  \n3                           8.0  \n4                           0.0  \n...                         ...  \n308849                      0.0  \n308850                      4.0  \n308851                      4.0  \n308852                      0.0  \n308853                      1.0  \n\n[308854 rows x 19 columns]",
      "text/html": "<div>\n<style scoped>\n    .dataframe tbody tr th:only-of-type {\n        vertical-align: middle;\n    }\n\n    .dataframe tbody tr th {\n        vertical-align: top;\n    }\n\n    .dataframe thead th {\n        text-align: right;\n    }\n</style>\n<table border=\"1\" class=\"dataframe\">\n  <thead>\n    <tr style=\"text-align: right;\">\n      <th></th>\n      <th>General_Health</th>\n      <th>Checkup</th>\n      <th>Exercise</th>\n      <th>Heart_Disease</th>\n      <th>Skin_Cancer</th>\n      <th>Other_Cancer</th>\n      <th>Depression</th>\n      <th>Diabetes</th>\n      <th>Arthritis</th>\n      <th>Sex</th>\n      <th>Age_Category</th>\n      <th>Height_(cm)</th>\n      <th>Weight_(kg)</th>\n      <th>BMI</th>\n      <th>Smoking_History</th>\n      <th>Alcohol_Consumption</th>\n      <th>Fruit_Consumption</th>\n      <th>Green_Vegetables_Consumption</th>\n      <th>FriedPotato_Consumption</th>\n    </tr>\n  </thead>\n  <tbody>\n    <tr>\n      <th>0</th>\n      <td>Poor</td>\n      <td>Within the past 2 years</td>\n      <td>No</td>\n      <td>No</td>\n      <td>No</td>\n      <td>No</td>\n      <td>No</td>\n      <td>No</td>\n      <td>Yes</td>\n      <td>Female</td>\n      <td>70-74</td>\n      <td>150.0</td>\n      <td>32.66</td>\n      <td>14.54</td>\n      <td>Yes</td>\n      <td>0.0</td>\n      <td>30.0</td>\n      <td>16.0</td>\n      <td>12.0</td>\n    </tr>\n    <tr>\n      <th>1</th>\n      <td>Very Good</td>\n      <td>Within the past year</td>\n      <td>No</td>\n      <td>Yes</td>\n      <td>No</td>\n      <td>No</td>\n      <td>No</td>\n      <td>Yes</td>\n      <td>No</td>\n      <td>Female</td>\n      <td>70-74</td>\n      <td>165.0</td>\n      <td>77.11</td>\n      <td>28.29</td>\n      <td>No</td>\n      <td>0.0</td>\n      <td>30.0</td>\n      <td>0.0</td>\n      <td>4.0</td>\n    </tr>\n    <tr>\n      <th>2</th>\n      <td>Very Good</td>\n      <td>Within the past year</td>\n      <td>Yes</td>\n      <td>No</td>\n      <td>No</td>\n      <td>No</td>\n      <td>No</td>\n      <td>Yes</td>\n      <td>No</td>\n      <td>Female</td>\n      <td>60-64</td>\n      <td>163.0</td>\n      <td>88.45</td>\n      <td>33.47</td>\n      <td>No</td>\n      <td>4.0</td>\n      <td>12.0</td>\n      <td>3.0</td>\n      <td>16.0</td>\n    </tr>\n    <tr>\n      <th>3</th>\n      <td>Poor</td>\n      <td>Within the past year</td>\n      <td>Yes</td>\n      <td>Yes</td>\n      <td>No</td>\n      <td>No</td>\n      <td>No</td>\n      <td>Yes</td>\n      <td>No</td>\n      <td>Male</td>\n      <td>75-79</td>\n      <td>180.0</td>\n      <td>93.44</td>\n      <td>28.73</td>\n      <td>No</td>\n      <td>0.0</td>\n      <td>30.0</td>\n      <td>30.0</td>\n      <td>8.0</td>\n    </tr>\n    <tr>\n      <th>4</th>\n      <td>Good</td>\n      <td>Within the past year</td>\n      <td>No</td>\n      <td>No</td>\n      <td>No</td>\n      <td>No</td>\n      <td>No</td>\n      <td>No</td>\n      <td>No</td>\n      <td>Male</td>\n      <td>80+</td>\n      <td>191.0</td>\n      <td>88.45</td>\n      <td>24.37</td>\n      <td>Yes</td>\n      <td>0.0</td>\n      <td>8.0</td>\n      <td>4.0</td>\n      <td>0.0</td>\n    </tr>\n    <tr>\n      <th>...</th>\n      <td>...</td>\n      <td>...</td>\n      <td>...</td>\n      <td>...</td>\n      <td>...</td>\n      <td>...</td>\n      <td>...</td>\n      <td>...</td>\n      <td>...</td>\n      <td>...</td>\n      <td>...</td>\n      <td>...</td>\n      <td>...</td>\n      <td>...</td>\n      <td>...</td>\n      <td>...</td>\n      <td>...</td>\n      <td>...</td>\n      <td>...</td>\n    </tr>\n    <tr>\n      <th>308849</th>\n      <td>Very Good</td>\n      <td>Within the past year</td>\n      <td>Yes</td>\n      <td>No</td>\n      <td>No</td>\n      <td>No</td>\n      <td>No</td>\n      <td>No</td>\n      <td>No</td>\n      <td>Male</td>\n      <td>25-29</td>\n      <td>168.0</td>\n      <td>81.65</td>\n      <td>29.05</td>\n      <td>No</td>\n      <td>4.0</td>\n      <td>30.0</td>\n      <td>8.0</td>\n      <td>0.0</td>\n    </tr>\n    <tr>\n      <th>308850</th>\n      <td>Fair</td>\n      <td>Within the past 5 years</td>\n      <td>Yes</td>\n      <td>No</td>\n      <td>No</td>\n      <td>No</td>\n      <td>No</td>\n      <td>Yes</td>\n      <td>No</td>\n      <td>Male</td>\n      <td>65-69</td>\n      <td>180.0</td>\n      <td>69.85</td>\n      <td>21.48</td>\n      <td>No</td>\n      <td>8.0</td>\n      <td>15.0</td>\n      <td>60.0</td>\n      <td>4.0</td>\n    </tr>\n    <tr>\n      <th>308851</th>\n      <td>Very Good</td>\n      <td>5 or more years ago</td>\n      <td>Yes</td>\n      <td>No</td>\n      <td>No</td>\n      <td>No</td>\n      <td>Yes</td>\n      <td>Yes, but female told only during pregnancy</td>\n      <td>No</td>\n      <td>Female</td>\n      <td>30-34</td>\n      <td>157.0</td>\n      <td>61.23</td>\n      <td>24.69</td>\n      <td>Yes</td>\n      <td>4.0</td>\n      <td>40.0</td>\n      <td>8.0</td>\n      <td>4.0</td>\n    </tr>\n    <tr>\n      <th>308852</th>\n      <td>Very Good</td>\n      <td>Within the past year</td>\n      <td>Yes</td>\n      <td>No</td>\n      <td>No</td>\n      <td>No</td>\n      <td>No</td>\n      <td>No</td>\n      <td>No</td>\n      <td>Male</td>\n      <td>65-69</td>\n      <td>183.0</td>\n      <td>79.38</td>\n      <td>23.73</td>\n      <td>No</td>\n      <td>3.0</td>\n      <td>30.0</td>\n      <td>12.0</td>\n      <td>0.0</td>\n    </tr>\n    <tr>\n      <th>308853</th>\n      <td>Excellent</td>\n      <td>Within the past year</td>\n      <td>Yes</td>\n      <td>No</td>\n      <td>No</td>\n      <td>No</td>\n      <td>No</td>\n      <td>No</td>\n      <td>No</td>\n      <td>Female</td>\n      <td>45-49</td>\n      <td>160.0</td>\n      <td>81.19</td>\n      <td>31.71</td>\n      <td>No</td>\n      <td>1.0</td>\n      <td>5.0</td>\n      <td>12.0</td>\n      <td>1.0</td>\n    </tr>\n  </tbody>\n</table>\n<p>308854 rows × 19 columns</p>\n</div>"
     },
     "execution_count": 21,
     "metadata": {},
     "output_type": "execute_result"
    }
   ],
   "source": [
    "df5 = pd.read_csv('Data/dataset_5.csv')\n",
    "df5"
   ],
   "metadata": {
    "collapsed": false,
    "ExecuteTime": {
     "end_time": "2023-08-02T12:04:37.655468Z",
     "start_time": "2023-08-02T12:04:36.786845Z"
    }
   },
   "id": "d461e23cfd607167"
  },
  {
   "cell_type": "code",
   "execution_count": 22,
   "outputs": [
    {
     "name": "stdout",
     "output_type": "stream",
     "text": [
      "<class 'pandas.core.frame.DataFrame'>\n",
      "RangeIndex: 308854 entries, 0 to 308853\n",
      "Data columns (total 19 columns):\n",
      " #   Column                        Non-Null Count   Dtype  \n",
      "---  ------                        --------------   -----  \n",
      " 0   General_Health                308854 non-null  object \n",
      " 1   Checkup                       308854 non-null  object \n",
      " 2   Exercise                      308854 non-null  object \n",
      " 3   Heart_Disease                 308854 non-null  object \n",
      " 4   Skin_Cancer                   308854 non-null  object \n",
      " 5   Other_Cancer                  308854 non-null  object \n",
      " 6   Depression                    308854 non-null  object \n",
      " 7   Diabetes                      308854 non-null  object \n",
      " 8   Arthritis                     308854 non-null  object \n",
      " 9   Sex                           308854 non-null  object \n",
      " 10  Age_Category                  308854 non-null  object \n",
      " 11  Height_(cm)                   308854 non-null  float64\n",
      " 12  Weight_(kg)                   308854 non-null  float64\n",
      " 13  BMI                           308854 non-null  float64\n",
      " 14  Smoking_History               308854 non-null  object \n",
      " 15  Alcohol_Consumption           308854 non-null  float64\n",
      " 16  Fruit_Consumption             308854 non-null  float64\n",
      " 17  Green_Vegetables_Consumption  308854 non-null  float64\n",
      " 18  FriedPotato_Consumption       308854 non-null  float64\n",
      "dtypes: float64(7), object(12)\n",
      "memory usage: 44.8+ MB\n"
     ]
    }
   ],
   "source": [
    "df5.info()"
   ],
   "metadata": {
    "collapsed": false,
    "ExecuteTime": {
     "end_time": "2023-08-02T12:04:38.246259Z",
     "start_time": "2023-08-02T12:04:37.656164Z"
    }
   },
   "id": "977287578311f290"
  },
  {
   "cell_type": "code",
   "execution_count": 23,
   "outputs": [],
   "source": [
    "df5.General_Health = df5.General_Health.map({'Very Good':4, 'Fair':2, 'Good':3, 'Poor':1, 'Excellent':5})\n",
    "df5.Checkup = df5.Checkup.map({'Within the past 2 years':2,'Within the past year':1,'5 or more years ago':4,'Within the past 5 years':3,'Never':0})\n",
    "df5.Exercise = df5.Exercise.map({'No':0,'Yes':1})\n",
    "df5.Heart_Disease = df5.Heart_Disease.map({'No':0,'Yes':1})\n",
    "df5.Skin_Cancer = df5.Skin_Cancer.map({'No':0,'Yes':1})\n",
    "df5.Other_Cancer = df5.Other_Cancer.map({'No':0,'Yes':1})\n",
    "df5.Depression = df5.Depression.map({'No':0,'Yes':1})\n",
    "df5.Arthritis = df5.Arthritis.map({'No':0,'Yes':1})\n",
    "df5.Diabetes = df5.Diabetes.map({'No':0,'Yes':1,'Yes, but female told only during pregnancy':1, 'No, pre-diabetes or borderline diabetes':0})\n",
    "df5.Smoking_History = df5.Smoking_History.map({'No':0,'Yes':1})\n",
    "df5.Sex = df5.Sex.map({'Female':0,'Male':1})\n",
    "df5.Age_Category = df5.Age_Category.map({'55-59':57,'80+':82,'65-69':67,'75-79':77,'40-44':42,'70-74':72,'60-64':62,'50-54':52,'45-49':47,'18-24':21,'35-39':37,'30-34':32,'25-29':27})"
   ],
   "metadata": {
    "collapsed": false,
    "ExecuteTime": {
     "end_time": "2023-08-02T12:04:38.731078Z",
     "start_time": "2023-08-02T12:04:38.236775Z"
    }
   },
   "id": "5d7e58f157f0e59f"
  },
  {
   "cell_type": "code",
   "execution_count": 24,
   "outputs": [
    {
     "data": {
      "text/plain": "Index(['General_Health', 'Checkup', 'Exercise', 'Heart_Disease', 'Skin_Cancer',\n       'Other_Cancer', 'Depression', 'Diabetes', 'Arthritis', 'Sex',\n       'Age_Category', 'Height_(cm)', 'Weight_(kg)', 'BMI', 'Smoking_History',\n       'Alcohol_Consumption', 'Fruit_Consumption',\n       'Green_Vegetables_Consumption', 'FriedPotato_Consumption'],\n      dtype='object')"
     },
     "execution_count": 24,
     "metadata": {},
     "output_type": "execute_result"
    }
   ],
   "source": [
    "df5.columns"
   ],
   "metadata": {
    "collapsed": false,
    "ExecuteTime": {
     "end_time": "2023-08-02T12:04:38.731641Z",
     "start_time": "2023-08-02T12:04:38.723713Z"
    }
   },
   "id": "299907389c750e9e"
  },
  {
   "cell_type": "code",
   "execution_count": 114,
   "outputs": [],
   "source": [
    "def dataset5_preprocessing(file_path,paramList,test_size):\n",
    "    df5 = pd.read_csv(file_path)\n",
    "    df5.General_Health = df5.General_Health.map({'Very Good':4, 'Fair':2, 'Good':3, 'Poor':1, 'Excellent':5})\n",
    "    df5.Checkup = df5.Checkup.map({'Within the past 2 years':2,'Within the past year':1,'5 or more years ago':4,'Within the past 5 years':3,'Never':0})\n",
    "    df5.Exercise = df5.Exercise.map({'No':0,'Yes':1})\n",
    "    df5.Heart_Disease = df5.Heart_Disease.map({'No':0,'Yes':1})\n",
    "    df5.Skin_Cancer = df5.Skin_Cancer.map({'No':0,'Yes':1})\n",
    "    df5.Other_Cancer = df5.Other_Cancer.map({'No':0,'Yes':1})\n",
    "    df5.Depression = df5.Depression.map({'No':0,'Yes':1})\n",
    "    df5.Arthritis = df5.Arthritis.map({'No':0,'Yes':1})\n",
    "    df5.Diabetes = df5.Diabetes.map({'No':0,'Yes':1,'Yes, but female told only during pregnancy':1, 'No, pre-diabetes or borderline diabetes':0})\n",
    "    df5.Smoking_History = df5.Smoking_History.map({'No':0,'Yes':1})\n",
    "    df5.Sex = df5.Sex.map({'Female':0,'Male':1})\n",
    "    df5.Age_Category = df5.Age_Category.map({'55-59':57,'80+':82,'65-69':67,'75-79':77,'40-44':42,'70-74':72,'60-64':62,'50-54':52,'45-49':47,'18-24':21,'35-39':37,'30-34':32,'25-29':27})\n",
    "    X = df5[paramList]\n",
    "    Y = df5.Heart_Disease\n",
    "    x_train,x_test,y_train,y_test = train_test_split(X,Y,test_size=test_size)\n",
    "    return x_train,x_test,y_train,y_test"
   ],
   "metadata": {
    "collapsed": false,
    "ExecuteTime": {
     "end_time": "2023-08-02T12:47:12.876888Z",
     "start_time": "2023-08-02T12:47:12.859513Z"
    }
   },
   "id": "5c617c02a7623048"
  },
  {
   "cell_type": "code",
   "execution_count": 115,
   "outputs": [],
   "source": [
    "paramList = ['General_Health', 'Checkup', 'Exercise', 'Skin_Cancer','Other_Cancer', 'Depression', 'Diabetes', 'Arthritis', 'Sex','Age_Category', 'Height_(cm)', 'Weight_(kg)', 'BMI', 'Smoking_History','Alcohol_Consumption', 'Fruit_Consumption','Green_Vegetables_Consumption', 'FriedPotato_Consumption']\n",
    "x_train,x_test,y_train,y_test = dataset5_preprocessing('Data/dataset_5.csv',paramList,0.1)"
   ],
   "metadata": {
    "collapsed": false,
    "ExecuteTime": {
     "end_time": "2023-08-02T12:47:14.742682Z",
     "start_time": "2023-08-02T12:47:13.275616Z"
    }
   },
   "id": "4b72ea10fbcb250c"
  },
  {
   "cell_type": "code",
   "execution_count": 116,
   "outputs": [
    {
     "data": {
      "text/plain": "        General_Health  Checkup  active  SkinCancer  Other_Cancer  Depression  \\\n127918               4        1       1           0             0           0   \n150531               5        1       1           0             0           0   \n69517                3        1       1           0             0           0   \n223761               3        1       1           0             0           0   \n133689               3        1       1           0             1           0   \n...                ...      ...     ...         ...           ...         ...   \n58054                4        1       1           0             0           0   \n264006               5        2       1           0             0           0   \n210799               4        1       1           0             0           0   \n28835                2        1       1           0             0           1   \n293769               3        2       0           0             1           0   \n\n        diabetes  Arthritis  sex  age  height  weight    BMI  currentSmoker  \\\n127918         0          0    0   57   160.0  117.93  46.06              1   \n150531         0          0    1   37   185.0   99.79  29.03              0   \n69517          0          1    0   72   155.0   72.57  30.23              0   \n223761         1          0    0   52   168.0   99.79  35.51              0   \n133689         0          1    1   82   180.0   92.99  28.59              1   \n...          ...        ...  ...  ...     ...     ...    ...            ...   \n58054          0          0    1   72   185.0  108.86  31.66              1   \n264006         1          0    0   27   163.0   63.50  24.03              0   \n210799         0          0    0   47   165.0   54.43  19.97              0   \n28835          0          0    1   27   175.0   90.72  29.53              1   \n293769         0          0    1   27   180.0   83.91  25.80              0   \n\n        Alcohol_Consumption  Fruit_Consumption  Green_Vegetables_Consumption  \\\n127918                  2.0                8.0                          12.0   \n150531                  2.0               30.0                          60.0   \n69517                   3.0               60.0                          30.0   \n223761                  0.0               30.0                          30.0   \n133689                 15.0               30.0                          16.0   \n...                     ...                ...                           ...   \n58054                  20.0                5.0                          15.0   \n264006                  0.0                8.0                          30.0   \n210799                  8.0               90.0                          12.0   \n28835                  24.0               16.0                          12.0   \n293769                 30.0                2.0                           4.0   \n\n        FriedPotato_Consumption  \n127918                      4.0  \n150531                      5.0  \n69517                       4.0  \n223761                      4.0  \n133689                      4.0  \n...                         ...  \n58054                       5.0  \n264006                      4.0  \n210799                      4.0  \n28835                      20.0  \n293769                     12.0  \n\n[277968 rows x 18 columns]",
      "text/html": "<div>\n<style scoped>\n    .dataframe tbody tr th:only-of-type {\n        vertical-align: middle;\n    }\n\n    .dataframe tbody tr th {\n        vertical-align: top;\n    }\n\n    .dataframe thead th {\n        text-align: right;\n    }\n</style>\n<table border=\"1\" class=\"dataframe\">\n  <thead>\n    <tr style=\"text-align: right;\">\n      <th></th>\n      <th>General_Health</th>\n      <th>Checkup</th>\n      <th>active</th>\n      <th>SkinCancer</th>\n      <th>Other_Cancer</th>\n      <th>Depression</th>\n      <th>diabetes</th>\n      <th>Arthritis</th>\n      <th>sex</th>\n      <th>age</th>\n      <th>height</th>\n      <th>weight</th>\n      <th>BMI</th>\n      <th>currentSmoker</th>\n      <th>Alcohol_Consumption</th>\n      <th>Fruit_Consumption</th>\n      <th>Green_Vegetables_Consumption</th>\n      <th>FriedPotato_Consumption</th>\n    </tr>\n  </thead>\n  <tbody>\n    <tr>\n      <th>127918</th>\n      <td>4</td>\n      <td>1</td>\n      <td>1</td>\n      <td>0</td>\n      <td>0</td>\n      <td>0</td>\n      <td>0</td>\n      <td>0</td>\n      <td>0</td>\n      <td>57</td>\n      <td>160.0</td>\n      <td>117.93</td>\n      <td>46.06</td>\n      <td>1</td>\n      <td>2.0</td>\n      <td>8.0</td>\n      <td>12.0</td>\n      <td>4.0</td>\n    </tr>\n    <tr>\n      <th>150531</th>\n      <td>5</td>\n      <td>1</td>\n      <td>1</td>\n      <td>0</td>\n      <td>0</td>\n      <td>0</td>\n      <td>0</td>\n      <td>0</td>\n      <td>1</td>\n      <td>37</td>\n      <td>185.0</td>\n      <td>99.79</td>\n      <td>29.03</td>\n      <td>0</td>\n      <td>2.0</td>\n      <td>30.0</td>\n      <td>60.0</td>\n      <td>5.0</td>\n    </tr>\n    <tr>\n      <th>69517</th>\n      <td>3</td>\n      <td>1</td>\n      <td>1</td>\n      <td>0</td>\n      <td>0</td>\n      <td>0</td>\n      <td>0</td>\n      <td>1</td>\n      <td>0</td>\n      <td>72</td>\n      <td>155.0</td>\n      <td>72.57</td>\n      <td>30.23</td>\n      <td>0</td>\n      <td>3.0</td>\n      <td>60.0</td>\n      <td>30.0</td>\n      <td>4.0</td>\n    </tr>\n    <tr>\n      <th>223761</th>\n      <td>3</td>\n      <td>1</td>\n      <td>1</td>\n      <td>0</td>\n      <td>0</td>\n      <td>0</td>\n      <td>1</td>\n      <td>0</td>\n      <td>0</td>\n      <td>52</td>\n      <td>168.0</td>\n      <td>99.79</td>\n      <td>35.51</td>\n      <td>0</td>\n      <td>0.0</td>\n      <td>30.0</td>\n      <td>30.0</td>\n      <td>4.0</td>\n    </tr>\n    <tr>\n      <th>133689</th>\n      <td>3</td>\n      <td>1</td>\n      <td>1</td>\n      <td>0</td>\n      <td>1</td>\n      <td>0</td>\n      <td>0</td>\n      <td>1</td>\n      <td>1</td>\n      <td>82</td>\n      <td>180.0</td>\n      <td>92.99</td>\n      <td>28.59</td>\n      <td>1</td>\n      <td>15.0</td>\n      <td>30.0</td>\n      <td>16.0</td>\n      <td>4.0</td>\n    </tr>\n    <tr>\n      <th>...</th>\n      <td>...</td>\n      <td>...</td>\n      <td>...</td>\n      <td>...</td>\n      <td>...</td>\n      <td>...</td>\n      <td>...</td>\n      <td>...</td>\n      <td>...</td>\n      <td>...</td>\n      <td>...</td>\n      <td>...</td>\n      <td>...</td>\n      <td>...</td>\n      <td>...</td>\n      <td>...</td>\n      <td>...</td>\n      <td>...</td>\n    </tr>\n    <tr>\n      <th>58054</th>\n      <td>4</td>\n      <td>1</td>\n      <td>1</td>\n      <td>0</td>\n      <td>0</td>\n      <td>0</td>\n      <td>0</td>\n      <td>0</td>\n      <td>1</td>\n      <td>72</td>\n      <td>185.0</td>\n      <td>108.86</td>\n      <td>31.66</td>\n      <td>1</td>\n      <td>20.0</td>\n      <td>5.0</td>\n      <td>15.0</td>\n      <td>5.0</td>\n    </tr>\n    <tr>\n      <th>264006</th>\n      <td>5</td>\n      <td>2</td>\n      <td>1</td>\n      <td>0</td>\n      <td>0</td>\n      <td>0</td>\n      <td>1</td>\n      <td>0</td>\n      <td>0</td>\n      <td>27</td>\n      <td>163.0</td>\n      <td>63.50</td>\n      <td>24.03</td>\n      <td>0</td>\n      <td>0.0</td>\n      <td>8.0</td>\n      <td>30.0</td>\n      <td>4.0</td>\n    </tr>\n    <tr>\n      <th>210799</th>\n      <td>4</td>\n      <td>1</td>\n      <td>1</td>\n      <td>0</td>\n      <td>0</td>\n      <td>0</td>\n      <td>0</td>\n      <td>0</td>\n      <td>0</td>\n      <td>47</td>\n      <td>165.0</td>\n      <td>54.43</td>\n      <td>19.97</td>\n      <td>0</td>\n      <td>8.0</td>\n      <td>90.0</td>\n      <td>12.0</td>\n      <td>4.0</td>\n    </tr>\n    <tr>\n      <th>28835</th>\n      <td>2</td>\n      <td>1</td>\n      <td>1</td>\n      <td>0</td>\n      <td>0</td>\n      <td>1</td>\n      <td>0</td>\n      <td>0</td>\n      <td>1</td>\n      <td>27</td>\n      <td>175.0</td>\n      <td>90.72</td>\n      <td>29.53</td>\n      <td>1</td>\n      <td>24.0</td>\n      <td>16.0</td>\n      <td>12.0</td>\n      <td>20.0</td>\n    </tr>\n    <tr>\n      <th>293769</th>\n      <td>3</td>\n      <td>2</td>\n      <td>0</td>\n      <td>0</td>\n      <td>1</td>\n      <td>0</td>\n      <td>0</td>\n      <td>0</td>\n      <td>1</td>\n      <td>27</td>\n      <td>180.0</td>\n      <td>83.91</td>\n      <td>25.80</td>\n      <td>0</td>\n      <td>30.0</td>\n      <td>2.0</td>\n      <td>4.0</td>\n      <td>12.0</td>\n    </tr>\n  </tbody>\n</table>\n<p>277968 rows × 18 columns</p>\n</div>"
     },
     "execution_count": 116,
     "metadata": {},
     "output_type": "execute_result"
    }
   ],
   "source": [
    "x_train"
   ],
   "metadata": {
    "collapsed": false,
    "ExecuteTime": {
     "end_time": "2023-08-02T12:47:15.612308Z",
     "start_time": "2023-08-02T12:47:15.597485Z"
    }
   },
   "id": "8d3af6475597937"
  },
  {
   "cell_type": "code",
   "execution_count": 67,
   "outputs": [
    {
     "data": {
      "text/plain": "['age',\n 'sex',\n 'cp',\n 'trestbps',\n 'chol',\n 'fbs',\n 'restecg',\n 'thalach',\n 'exang',\n 'oldpeak',\n 'slope',\n 'ca',\n 'thal']"
     },
     "execution_count": 67,
     "metadata": {},
     "output_type": "execute_result"
    }
   ],
   "source": [
    "column1 = pd.read_csv('Data/dataset_1.csv').columns.tolist()\n",
    "column1.remove('condition')\n",
    "column1"
   ],
   "metadata": {
    "collapsed": false,
    "ExecuteTime": {
     "end_time": "2023-08-02T12:19:37.528173Z",
     "start_time": "2023-08-02T12:19:37.514038Z"
    }
   },
   "id": "d8eeb04c652473d4"
  },
  {
   "cell_type": "code",
   "execution_count": 79,
   "outputs": [
    {
     "data": {
      "text/plain": "      male  age  education  currentSmoker  cigsPerDay  BPMeds  \\\n0        1   39        4.0              0         0.0     0.0   \n1        0   46        2.0              0         0.0     0.0   \n2        1   48        1.0              1        20.0     0.0   \n3        0   61        3.0              1        30.0     0.0   \n4        0   46        3.0              1        23.0     0.0   \n...    ...  ...        ...            ...         ...     ...   \n4233     1   50        1.0              1         1.0     0.0   \n4234     1   51        3.0              1        43.0     0.0   \n4235     0   48        2.0              1        20.0     NaN   \n4236     0   44        1.0              1        15.0     0.0   \n4237     0   52        2.0              0         0.0     0.0   \n\n      prevalentStroke  prevalentHyp  diabetes   chol  trestbps  diaBP    BMI  \\\n0                   0             0         0  195.0     106.0   70.0  26.97   \n1                   0             0         0  250.0     121.0   81.0  28.73   \n2                   0             0         0  245.0     127.5   80.0  25.34   \n3                   0             1         0  225.0     150.0   95.0  28.58   \n4                   0             0         0  285.0     130.0   84.0  23.10   \n...               ...           ...       ...    ...       ...    ...    ...   \n4233                0             1         0  313.0     179.0   92.0  25.97   \n4234                0             0         0  207.0     126.5   80.0  19.71   \n4235                0             0         0  248.0     131.0   72.0  22.00   \n4236                0             0         0  210.0     126.5   87.0  19.16   \n4237                0             0         0  269.0     133.5   83.0  21.47   \n\n      thalach  glucose  TenYearCHD  \n0        80.0     77.0           0  \n1        95.0     76.0           0  \n2        75.0     70.0           0  \n3        65.0    103.0           1  \n4        85.0     85.0           0  \n...       ...      ...         ...  \n4233     66.0     86.0           1  \n4234     65.0     68.0           0  \n4235     84.0     86.0           0  \n4236     86.0      NaN           0  \n4237     80.0    107.0           0  \n\n[4238 rows x 16 columns]",
      "text/html": "<div>\n<style scoped>\n    .dataframe tbody tr th:only-of-type {\n        vertical-align: middle;\n    }\n\n    .dataframe tbody tr th {\n        vertical-align: top;\n    }\n\n    .dataframe thead th {\n        text-align: right;\n    }\n</style>\n<table border=\"1\" class=\"dataframe\">\n  <thead>\n    <tr style=\"text-align: right;\">\n      <th></th>\n      <th>male</th>\n      <th>age</th>\n      <th>education</th>\n      <th>currentSmoker</th>\n      <th>cigsPerDay</th>\n      <th>BPMeds</th>\n      <th>prevalentStroke</th>\n      <th>prevalentHyp</th>\n      <th>diabetes</th>\n      <th>chol</th>\n      <th>trestbps</th>\n      <th>diaBP</th>\n      <th>BMI</th>\n      <th>thalach</th>\n      <th>glucose</th>\n      <th>TenYearCHD</th>\n    </tr>\n  </thead>\n  <tbody>\n    <tr>\n      <th>0</th>\n      <td>1</td>\n      <td>39</td>\n      <td>4.0</td>\n      <td>0</td>\n      <td>0.0</td>\n      <td>0.0</td>\n      <td>0</td>\n      <td>0</td>\n      <td>0</td>\n      <td>195.0</td>\n      <td>106.0</td>\n      <td>70.0</td>\n      <td>26.97</td>\n      <td>80.0</td>\n      <td>77.0</td>\n      <td>0</td>\n    </tr>\n    <tr>\n      <th>1</th>\n      <td>0</td>\n      <td>46</td>\n      <td>2.0</td>\n      <td>0</td>\n      <td>0.0</td>\n      <td>0.0</td>\n      <td>0</td>\n      <td>0</td>\n      <td>0</td>\n      <td>250.0</td>\n      <td>121.0</td>\n      <td>81.0</td>\n      <td>28.73</td>\n      <td>95.0</td>\n      <td>76.0</td>\n      <td>0</td>\n    </tr>\n    <tr>\n      <th>2</th>\n      <td>1</td>\n      <td>48</td>\n      <td>1.0</td>\n      <td>1</td>\n      <td>20.0</td>\n      <td>0.0</td>\n      <td>0</td>\n      <td>0</td>\n      <td>0</td>\n      <td>245.0</td>\n      <td>127.5</td>\n      <td>80.0</td>\n      <td>25.34</td>\n      <td>75.0</td>\n      <td>70.0</td>\n      <td>0</td>\n    </tr>\n    <tr>\n      <th>3</th>\n      <td>0</td>\n      <td>61</td>\n      <td>3.0</td>\n      <td>1</td>\n      <td>30.0</td>\n      <td>0.0</td>\n      <td>0</td>\n      <td>1</td>\n      <td>0</td>\n      <td>225.0</td>\n      <td>150.0</td>\n      <td>95.0</td>\n      <td>28.58</td>\n      <td>65.0</td>\n      <td>103.0</td>\n      <td>1</td>\n    </tr>\n    <tr>\n      <th>4</th>\n      <td>0</td>\n      <td>46</td>\n      <td>3.0</td>\n      <td>1</td>\n      <td>23.0</td>\n      <td>0.0</td>\n      <td>0</td>\n      <td>0</td>\n      <td>0</td>\n      <td>285.0</td>\n      <td>130.0</td>\n      <td>84.0</td>\n      <td>23.10</td>\n      <td>85.0</td>\n      <td>85.0</td>\n      <td>0</td>\n    </tr>\n    <tr>\n      <th>...</th>\n      <td>...</td>\n      <td>...</td>\n      <td>...</td>\n      <td>...</td>\n      <td>...</td>\n      <td>...</td>\n      <td>...</td>\n      <td>...</td>\n      <td>...</td>\n      <td>...</td>\n      <td>...</td>\n      <td>...</td>\n      <td>...</td>\n      <td>...</td>\n      <td>...</td>\n      <td>...</td>\n    </tr>\n    <tr>\n      <th>4233</th>\n      <td>1</td>\n      <td>50</td>\n      <td>1.0</td>\n      <td>1</td>\n      <td>1.0</td>\n      <td>0.0</td>\n      <td>0</td>\n      <td>1</td>\n      <td>0</td>\n      <td>313.0</td>\n      <td>179.0</td>\n      <td>92.0</td>\n      <td>25.97</td>\n      <td>66.0</td>\n      <td>86.0</td>\n      <td>1</td>\n    </tr>\n    <tr>\n      <th>4234</th>\n      <td>1</td>\n      <td>51</td>\n      <td>3.0</td>\n      <td>1</td>\n      <td>43.0</td>\n      <td>0.0</td>\n      <td>0</td>\n      <td>0</td>\n      <td>0</td>\n      <td>207.0</td>\n      <td>126.5</td>\n      <td>80.0</td>\n      <td>19.71</td>\n      <td>65.0</td>\n      <td>68.0</td>\n      <td>0</td>\n    </tr>\n    <tr>\n      <th>4235</th>\n      <td>0</td>\n      <td>48</td>\n      <td>2.0</td>\n      <td>1</td>\n      <td>20.0</td>\n      <td>NaN</td>\n      <td>0</td>\n      <td>0</td>\n      <td>0</td>\n      <td>248.0</td>\n      <td>131.0</td>\n      <td>72.0</td>\n      <td>22.00</td>\n      <td>84.0</td>\n      <td>86.0</td>\n      <td>0</td>\n    </tr>\n    <tr>\n      <th>4236</th>\n      <td>0</td>\n      <td>44</td>\n      <td>1.0</td>\n      <td>1</td>\n      <td>15.0</td>\n      <td>0.0</td>\n      <td>0</td>\n      <td>0</td>\n      <td>0</td>\n      <td>210.0</td>\n      <td>126.5</td>\n      <td>87.0</td>\n      <td>19.16</td>\n      <td>86.0</td>\n      <td>NaN</td>\n      <td>0</td>\n    </tr>\n    <tr>\n      <th>4237</th>\n      <td>0</td>\n      <td>52</td>\n      <td>2.0</td>\n      <td>0</td>\n      <td>0.0</td>\n      <td>0.0</td>\n      <td>0</td>\n      <td>0</td>\n      <td>0</td>\n      <td>269.0</td>\n      <td>133.5</td>\n      <td>83.0</td>\n      <td>21.47</td>\n      <td>80.0</td>\n      <td>107.0</td>\n      <td>0</td>\n    </tr>\n  </tbody>\n</table>\n<p>4238 rows × 16 columns</p>\n</div>"
     },
     "execution_count": 79,
     "metadata": {},
     "output_type": "execute_result"
    }
   ],
   "source": [
    "column2 = pd.read_csv('Data/dataset_2.csv').columns.tolist()\n",
    "column2[10] = 'trestbps'\n",
    "column2[9] = 'chol'\n",
    "column2[13] = 'thalach'\n",
    "column2.remove('TenYearCHD')\n",
    "len(column2)"
   ],
   "metadata": {
    "collapsed": false,
    "ExecuteTime": {
     "end_time": "2023-08-02T12:31:06.898119Z",
     "start_time": "2023-08-02T12:31:06.862419Z"
    }
   },
   "id": "2652d753d94a5999"
  },
  {
   "cell_type": "code",
   "execution_count": 90,
   "outputs": [
    {
     "data": {
      "text/plain": "          id    age  sex  height  weight  trestbps  diaBP  cholesterol  fbs  \\\n0          0  18393    2     168    62.0       110     80            1    1   \n1          1  20228    1     156    85.0       140     90            3    1   \n2          2  18857    1     165    64.0       130     70            3    1   \n3          3  17623    2     169    82.0       150    100            1    1   \n4          4  17474    1     156    56.0       100     60            1    1   \n...      ...    ...  ...     ...     ...       ...    ...          ...  ...   \n69995  99993  19240    2     168    76.0       120     80            1    1   \n69996  99995  22601    1     158   126.0       140     90            2    2   \n69997  99996  19066    2     183   105.0       180     90            3    1   \n69998  99998  22431    1     163    72.0       135     80            1    2   \n69999  99999  20540    1     170    72.0       120     80            2    1   \n\n       currentSmoker  alco  active  cardio  \n0                  0     0       1       0  \n1                  0     0       1       1  \n2                  0     0       0       1  \n3                  0     0       1       1  \n4                  0     0       0       0  \n...              ...   ...     ...     ...  \n69995              1     0       1       0  \n69996              0     0       1       1  \n69997              0     1       0       1  \n69998              0     0       0       1  \n69999              0     0       1       0  \n\n[70000 rows x 13 columns]",
      "text/html": "<div>\n<style scoped>\n    .dataframe tbody tr th:only-of-type {\n        vertical-align: middle;\n    }\n\n    .dataframe tbody tr th {\n        vertical-align: top;\n    }\n\n    .dataframe thead th {\n        text-align: right;\n    }\n</style>\n<table border=\"1\" class=\"dataframe\">\n  <thead>\n    <tr style=\"text-align: right;\">\n      <th></th>\n      <th>id</th>\n      <th>age</th>\n      <th>sex</th>\n      <th>height</th>\n      <th>weight</th>\n      <th>trestbps</th>\n      <th>diaBP</th>\n      <th>cholesterol</th>\n      <th>fbs</th>\n      <th>currentSmoker</th>\n      <th>alco</th>\n      <th>active</th>\n      <th>cardio</th>\n    </tr>\n  </thead>\n  <tbody>\n    <tr>\n      <th>0</th>\n      <td>0</td>\n      <td>18393</td>\n      <td>2</td>\n      <td>168</td>\n      <td>62.0</td>\n      <td>110</td>\n      <td>80</td>\n      <td>1</td>\n      <td>1</td>\n      <td>0</td>\n      <td>0</td>\n      <td>1</td>\n      <td>0</td>\n    </tr>\n    <tr>\n      <th>1</th>\n      <td>1</td>\n      <td>20228</td>\n      <td>1</td>\n      <td>156</td>\n      <td>85.0</td>\n      <td>140</td>\n      <td>90</td>\n      <td>3</td>\n      <td>1</td>\n      <td>0</td>\n      <td>0</td>\n      <td>1</td>\n      <td>1</td>\n    </tr>\n    <tr>\n      <th>2</th>\n      <td>2</td>\n      <td>18857</td>\n      <td>1</td>\n      <td>165</td>\n      <td>64.0</td>\n      <td>130</td>\n      <td>70</td>\n      <td>3</td>\n      <td>1</td>\n      <td>0</td>\n      <td>0</td>\n      <td>0</td>\n      <td>1</td>\n    </tr>\n    <tr>\n      <th>3</th>\n      <td>3</td>\n      <td>17623</td>\n      <td>2</td>\n      <td>169</td>\n      <td>82.0</td>\n      <td>150</td>\n      <td>100</td>\n      <td>1</td>\n      <td>1</td>\n      <td>0</td>\n      <td>0</td>\n      <td>1</td>\n      <td>1</td>\n    </tr>\n    <tr>\n      <th>4</th>\n      <td>4</td>\n      <td>17474</td>\n      <td>1</td>\n      <td>156</td>\n      <td>56.0</td>\n      <td>100</td>\n      <td>60</td>\n      <td>1</td>\n      <td>1</td>\n      <td>0</td>\n      <td>0</td>\n      <td>0</td>\n      <td>0</td>\n    </tr>\n    <tr>\n      <th>...</th>\n      <td>...</td>\n      <td>...</td>\n      <td>...</td>\n      <td>...</td>\n      <td>...</td>\n      <td>...</td>\n      <td>...</td>\n      <td>...</td>\n      <td>...</td>\n      <td>...</td>\n      <td>...</td>\n      <td>...</td>\n      <td>...</td>\n    </tr>\n    <tr>\n      <th>69995</th>\n      <td>99993</td>\n      <td>19240</td>\n      <td>2</td>\n      <td>168</td>\n      <td>76.0</td>\n      <td>120</td>\n      <td>80</td>\n      <td>1</td>\n      <td>1</td>\n      <td>1</td>\n      <td>0</td>\n      <td>1</td>\n      <td>0</td>\n    </tr>\n    <tr>\n      <th>69996</th>\n      <td>99995</td>\n      <td>22601</td>\n      <td>1</td>\n      <td>158</td>\n      <td>126.0</td>\n      <td>140</td>\n      <td>90</td>\n      <td>2</td>\n      <td>2</td>\n      <td>0</td>\n      <td>0</td>\n      <td>1</td>\n      <td>1</td>\n    </tr>\n    <tr>\n      <th>69997</th>\n      <td>99996</td>\n      <td>19066</td>\n      <td>2</td>\n      <td>183</td>\n      <td>105.0</td>\n      <td>180</td>\n      <td>90</td>\n      <td>3</td>\n      <td>1</td>\n      <td>0</td>\n      <td>1</td>\n      <td>0</td>\n      <td>1</td>\n    </tr>\n    <tr>\n      <th>69998</th>\n      <td>99998</td>\n      <td>22431</td>\n      <td>1</td>\n      <td>163</td>\n      <td>72.0</td>\n      <td>135</td>\n      <td>80</td>\n      <td>1</td>\n      <td>2</td>\n      <td>0</td>\n      <td>0</td>\n      <td>0</td>\n      <td>1</td>\n    </tr>\n    <tr>\n      <th>69999</th>\n      <td>99999</td>\n      <td>20540</td>\n      <td>1</td>\n      <td>170</td>\n      <td>72.0</td>\n      <td>120</td>\n      <td>80</td>\n      <td>2</td>\n      <td>1</td>\n      <td>0</td>\n      <td>0</td>\n      <td>1</td>\n      <td>0</td>\n    </tr>\n  </tbody>\n</table>\n<p>70000 rows × 13 columns</p>\n</div>"
     },
     "execution_count": 90,
     "metadata": {},
     "output_type": "execute_result"
    }
   ],
   "source": [
    "column3 = pd.read_csv('Data/dataset_3.csv',sep=';').columns.tolist()\n",
    "column3.remove('id')\n",
    "column3.remove('cardio')\n",
    "column3[1]='sex'\n",
    "column3[4]='trestbps'\n",
    "column3[5]='diaBP'\n",
    "column3[7]='fbs'\n",
    "column3[8]='currentSmoker'\n",
    "column3"
   ],
   "metadata": {
    "collapsed": false,
    "ExecuteTime": {
     "end_time": "2023-08-02T12:35:06.971191Z",
     "start_time": "2023-08-02T12:35:06.763387Z"
    }
   },
   "id": "bb3ac583d66e8d3a"
  },
  {
   "cell_type": "code",
   "execution_count": 105,
   "outputs": [
    {
     "data": {
      "text/plain": "       HeartDisease    BMI currentSmoker alco prevalentStroke  PhysicalHealth  \\\n0                No  16.60           Yes   No              No             3.0   \n1                No  20.34            No   No             Yes             0.0   \n2                No  26.58           Yes   No              No            20.0   \n3                No  24.21            No   No              No             0.0   \n4                No  23.71            No   No              No            28.0   \n...             ...    ...           ...  ...             ...             ...   \n319790          Yes  27.41           Yes   No              No             7.0   \n319791           No  29.84           Yes   No              No             0.0   \n319792           No  24.24            No   No              No             0.0   \n319793           No  32.81            No   No              No             0.0   \n319794           No  46.56            No   No              No             0.0   \n\n        MentalHealth DiffWalking     sex          age      Race diabetes  \\\n0               30.0          No  Female        55-59     White      Yes   \n1                0.0          No  Female  80 or older     White       No   \n2               30.0          No    Male        65-69     White      Yes   \n3                0.0          No  Female        75-79     White       No   \n4                0.0         Yes  Female        40-44     White       No   \n...              ...         ...     ...          ...       ...      ...   \n319790           0.0         Yes    Male        60-64  Hispanic      Yes   \n319791           0.0          No    Male        35-39  Hispanic       No   \n319792           0.0          No  Female        45-49  Hispanic       No   \n319793           0.0          No  Female        25-29  Hispanic       No   \n319794           0.0          No  Female  80 or older  Hispanic       No   \n\n       active  GenHealth  SleepTime Asthma KidneyDisease SkinCancer  \n0         Yes  Very good        5.0    Yes            No        Yes  \n1         Yes  Very good        7.0     No            No         No  \n2         Yes       Fair        8.0    Yes            No         No  \n3          No       Good        6.0     No            No        Yes  \n4         Yes  Very good        8.0     No            No         No  \n...       ...        ...        ...    ...           ...        ...  \n319790     No       Fair        6.0    Yes            No         No  \n319791    Yes  Very good        5.0    Yes            No         No  \n319792    Yes       Good        6.0     No            No         No  \n319793     No       Good       12.0     No            No         No  \n319794    Yes       Good        8.0     No            No         No  \n\n[319795 rows x 18 columns]",
      "text/html": "<div>\n<style scoped>\n    .dataframe tbody tr th:only-of-type {\n        vertical-align: middle;\n    }\n\n    .dataframe tbody tr th {\n        vertical-align: top;\n    }\n\n    .dataframe thead th {\n        text-align: right;\n    }\n</style>\n<table border=\"1\" class=\"dataframe\">\n  <thead>\n    <tr style=\"text-align: right;\">\n      <th></th>\n      <th>HeartDisease</th>\n      <th>BMI</th>\n      <th>currentSmoker</th>\n      <th>alco</th>\n      <th>prevalentStroke</th>\n      <th>PhysicalHealth</th>\n      <th>MentalHealth</th>\n      <th>DiffWalking</th>\n      <th>sex</th>\n      <th>age</th>\n      <th>Race</th>\n      <th>diabetes</th>\n      <th>active</th>\n      <th>GenHealth</th>\n      <th>SleepTime</th>\n      <th>Asthma</th>\n      <th>KidneyDisease</th>\n      <th>SkinCancer</th>\n    </tr>\n  </thead>\n  <tbody>\n    <tr>\n      <th>0</th>\n      <td>No</td>\n      <td>16.60</td>\n      <td>Yes</td>\n      <td>No</td>\n      <td>No</td>\n      <td>3.0</td>\n      <td>30.0</td>\n      <td>No</td>\n      <td>Female</td>\n      <td>55-59</td>\n      <td>White</td>\n      <td>Yes</td>\n      <td>Yes</td>\n      <td>Very good</td>\n      <td>5.0</td>\n      <td>Yes</td>\n      <td>No</td>\n      <td>Yes</td>\n    </tr>\n    <tr>\n      <th>1</th>\n      <td>No</td>\n      <td>20.34</td>\n      <td>No</td>\n      <td>No</td>\n      <td>Yes</td>\n      <td>0.0</td>\n      <td>0.0</td>\n      <td>No</td>\n      <td>Female</td>\n      <td>80 or older</td>\n      <td>White</td>\n      <td>No</td>\n      <td>Yes</td>\n      <td>Very good</td>\n      <td>7.0</td>\n      <td>No</td>\n      <td>No</td>\n      <td>No</td>\n    </tr>\n    <tr>\n      <th>2</th>\n      <td>No</td>\n      <td>26.58</td>\n      <td>Yes</td>\n      <td>No</td>\n      <td>No</td>\n      <td>20.0</td>\n      <td>30.0</td>\n      <td>No</td>\n      <td>Male</td>\n      <td>65-69</td>\n      <td>White</td>\n      <td>Yes</td>\n      <td>Yes</td>\n      <td>Fair</td>\n      <td>8.0</td>\n      <td>Yes</td>\n      <td>No</td>\n      <td>No</td>\n    </tr>\n    <tr>\n      <th>3</th>\n      <td>No</td>\n      <td>24.21</td>\n      <td>No</td>\n      <td>No</td>\n      <td>No</td>\n      <td>0.0</td>\n      <td>0.0</td>\n      <td>No</td>\n      <td>Female</td>\n      <td>75-79</td>\n      <td>White</td>\n      <td>No</td>\n      <td>No</td>\n      <td>Good</td>\n      <td>6.0</td>\n      <td>No</td>\n      <td>No</td>\n      <td>Yes</td>\n    </tr>\n    <tr>\n      <th>4</th>\n      <td>No</td>\n      <td>23.71</td>\n      <td>No</td>\n      <td>No</td>\n      <td>No</td>\n      <td>28.0</td>\n      <td>0.0</td>\n      <td>Yes</td>\n      <td>Female</td>\n      <td>40-44</td>\n      <td>White</td>\n      <td>No</td>\n      <td>Yes</td>\n      <td>Very good</td>\n      <td>8.0</td>\n      <td>No</td>\n      <td>No</td>\n      <td>No</td>\n    </tr>\n    <tr>\n      <th>...</th>\n      <td>...</td>\n      <td>...</td>\n      <td>...</td>\n      <td>...</td>\n      <td>...</td>\n      <td>...</td>\n      <td>...</td>\n      <td>...</td>\n      <td>...</td>\n      <td>...</td>\n      <td>...</td>\n      <td>...</td>\n      <td>...</td>\n      <td>...</td>\n      <td>...</td>\n      <td>...</td>\n      <td>...</td>\n      <td>...</td>\n    </tr>\n    <tr>\n      <th>319790</th>\n      <td>Yes</td>\n      <td>27.41</td>\n      <td>Yes</td>\n      <td>No</td>\n      <td>No</td>\n      <td>7.0</td>\n      <td>0.0</td>\n      <td>Yes</td>\n      <td>Male</td>\n      <td>60-64</td>\n      <td>Hispanic</td>\n      <td>Yes</td>\n      <td>No</td>\n      <td>Fair</td>\n      <td>6.0</td>\n      <td>Yes</td>\n      <td>No</td>\n      <td>No</td>\n    </tr>\n    <tr>\n      <th>319791</th>\n      <td>No</td>\n      <td>29.84</td>\n      <td>Yes</td>\n      <td>No</td>\n      <td>No</td>\n      <td>0.0</td>\n      <td>0.0</td>\n      <td>No</td>\n      <td>Male</td>\n      <td>35-39</td>\n      <td>Hispanic</td>\n      <td>No</td>\n      <td>Yes</td>\n      <td>Very good</td>\n      <td>5.0</td>\n      <td>Yes</td>\n      <td>No</td>\n      <td>No</td>\n    </tr>\n    <tr>\n      <th>319792</th>\n      <td>No</td>\n      <td>24.24</td>\n      <td>No</td>\n      <td>No</td>\n      <td>No</td>\n      <td>0.0</td>\n      <td>0.0</td>\n      <td>No</td>\n      <td>Female</td>\n      <td>45-49</td>\n      <td>Hispanic</td>\n      <td>No</td>\n      <td>Yes</td>\n      <td>Good</td>\n      <td>6.0</td>\n      <td>No</td>\n      <td>No</td>\n      <td>No</td>\n    </tr>\n    <tr>\n      <th>319793</th>\n      <td>No</td>\n      <td>32.81</td>\n      <td>No</td>\n      <td>No</td>\n      <td>No</td>\n      <td>0.0</td>\n      <td>0.0</td>\n      <td>No</td>\n      <td>Female</td>\n      <td>25-29</td>\n      <td>Hispanic</td>\n      <td>No</td>\n      <td>No</td>\n      <td>Good</td>\n      <td>12.0</td>\n      <td>No</td>\n      <td>No</td>\n      <td>No</td>\n    </tr>\n    <tr>\n      <th>319794</th>\n      <td>No</td>\n      <td>46.56</td>\n      <td>No</td>\n      <td>No</td>\n      <td>No</td>\n      <td>0.0</td>\n      <td>0.0</td>\n      <td>No</td>\n      <td>Female</td>\n      <td>80 or older</td>\n      <td>Hispanic</td>\n      <td>No</td>\n      <td>Yes</td>\n      <td>Good</td>\n      <td>8.0</td>\n      <td>No</td>\n      <td>No</td>\n      <td>No</td>\n    </tr>\n  </tbody>\n</table>\n<p>319795 rows × 18 columns</p>\n</div>"
     },
     "execution_count": 105,
     "metadata": {},
     "output_type": "execute_result"
    }
   ],
   "source": [
    "column4 = pd.read_csv('Data/dataset_4.csv').columns.tolist()\n",
    "column4.remove('HeartDisease')\n",
    "column4[2]='currentSmoker'\n",
    "column4[3]='alco'\n",
    "column4[4]='prevalentStroke'\n",
    "column4[8]='sex'\n",
    "column4[9]='age'\n",
    "column4[11]='diabetes'\n",
    "column4[12]='active'\n",
    "column4"
   ],
   "metadata": {
    "collapsed": false,
    "ExecuteTime": {
     "end_time": "2023-08-02T12:41:16.619292Z",
     "start_time": "2023-08-02T12:41:14.689248Z"
    }
   },
   "id": "6d0c07ef579d5332"
  },
  {
   "cell_type": "code",
   "execution_count": 71,
   "outputs": [],
   "source": [
    "column5 = pd.read_csv('Data/dataset_5.csv').columns.tolist()\n",
    "column5[2] = 'active'\n",
    "column5.remove('Heart_Disease')\n"
   ],
   "metadata": {
    "collapsed": false,
    "ExecuteTime": {
     "end_time": "2023-08-02T12:19:40.745855Z",
     "start_time": "2023-08-02T12:19:39.810711Z"
    }
   },
   "id": "5fb86f125c9f5469"
  },
  {
   "cell_type": "code",
   "execution_count": 15,
   "outputs": [],
   "source": [
    "column5 = pd.read_csv('Data/dataset_5.csv').columns.tolist()\n",
    "column5[2] = 'active'\n",
    "column5[4] = 'SkinCancer'\n",
    "column5[7] = 'diabetes'\n",
    "column5[9] = 'sex'\n",
    "column5[10] = 'age'\n",
    "column5[11] = 'height'\n",
    "column5[12] = 'weight'\n",
    "column5[14] = 'currentSmoker'\n",
    "column5.remove('Heart_Disease')"
   ],
   "metadata": {
    "collapsed": false,
    "ExecuteTime": {
     "end_time": "2023-08-08T02:40:10.517041Z",
     "start_time": "2023-08-08T02:40:09.431778Z"
    }
   },
   "id": "3cbc31da6d2faf13"
  },
  {
   "cell_type": "code",
   "execution_count": 16,
   "outputs": [
    {
     "data": {
      "text/plain": "['General_Health',\n 'Checkup',\n 'active',\n 'SkinCancer',\n 'Other_Cancer',\n 'Depression',\n 'diabetes',\n 'Arthritis',\n 'sex',\n 'age',\n 'height',\n 'weight',\n 'BMI',\n 'currentSmoker',\n 'Alcohol_Consumption',\n 'Fruit_Consumption',\n 'Green_Vegetables_Consumption',\n 'FriedPotato_Consumption']"
     },
     "execution_count": 16,
     "metadata": {},
     "output_type": "execute_result"
    }
   ],
   "source": [
    "column5"
   ],
   "metadata": {
    "collapsed": false,
    "ExecuteTime": {
     "end_time": "2023-08-08T02:40:11.774859Z",
     "start_time": "2023-08-08T02:40:11.752534Z"
    }
   },
   "id": "8eb0edff204ec21b"
  },
  {
   "cell_type": "code",
   "execution_count": null,
   "outputs": [],
   "source": [],
   "metadata": {
    "collapsed": false
   },
   "id": "5fdec485e9043bc5"
  }
 ],
 "metadata": {
  "kernelspec": {
   "display_name": "Python 3",
   "language": "python",
   "name": "python3"
  },
  "language_info": {
   "codemirror_mode": {
    "name": "ipython",
    "version": 2
   },
   "file_extension": ".py",
   "mimetype": "text/x-python",
   "name": "python",
   "nbconvert_exporter": "python",
   "pygments_lexer": "ipython2",
   "version": "2.7.6"
  }
 },
 "nbformat": 4,
 "nbformat_minor": 5
}
