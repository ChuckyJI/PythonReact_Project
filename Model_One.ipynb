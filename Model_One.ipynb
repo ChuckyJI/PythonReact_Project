{
 "cells": [
  {
   "cell_type": "code",
   "execution_count": 1,
   "id": "initial_id",
   "metadata": {
    "collapsed": true,
    "ExecuteTime": {
     "end_time": "2023-08-04T03:21:47.058376Z",
     "start_time": "2023-08-04T03:21:44.332952Z"
    }
   },
   "outputs": [],
   "source": [
    "import pandas as pd\n",
    "from sklearn.model_selection import train_test_split,GridSearchCV\n",
    "from sklearn.ensemble import RandomForestClassifier\n",
    "from sklearn.linear_model import LogisticRegression\n",
    "from sklearn.svm import SVC\n",
    "from xgboost import XGBClassifier\n",
    "from lightgbm import LGBMClassifier\n",
    "import numpy as np\n",
    "import joblib\n",
    "import json"
   ]
  },
  {
   "cell_type": "code",
   "execution_count": 2,
   "outputs": [
    {
     "data": {
      "text/plain": "{'boosting_type': 'gbdt',\n 'class_weight': None,\n 'colsample_bytree': 1.0,\n 'importance_type': 'split',\n 'learning_rate': 0.1,\n 'max_depth': -1,\n 'min_child_samples': 20,\n 'min_child_weight': 0.001,\n 'min_split_gain': 0.0,\n 'n_estimators': 100,\n 'n_jobs': -1,\n 'num_leaves': 31,\n 'objective': None,\n 'random_state': None,\n 'reg_alpha': 0.0,\n 'reg_lambda': 0.0,\n 'silent': 'warn',\n 'subsample': 1.0,\n 'subsample_for_bin': 200000,\n 'subsample_freq': 0}"
     },
     "execution_count": 2,
     "metadata": {},
     "output_type": "execute_result"
    }
   ],
   "source": [
    "LGBMClassifier().get_params()"
   ],
   "metadata": {
    "collapsed": false,
    "ExecuteTime": {
     "end_time": "2023-08-04T03:21:47.072626Z",
     "start_time": "2023-08-04T03:21:47.062929Z"
    }
   },
   "id": "2a52288ff954f76f"
  },
  {
   "cell_type": "code",
   "execution_count": 3,
   "outputs": [],
   "source": [
    "def dataset1_preprocessing(file_path,paramList,test_size):\n",
    "    data = pd.read_csv(file_path)\n",
    "    X = data[paramList]\n",
    "    Y = data.condition\n",
    "    x_train,x_test,y_train,y_test = train_test_split(X,Y,test_size=test_size)\n",
    "    return x_train,x_test,y_train,y_test"
   ],
   "metadata": {
    "collapsed": false,
    "ExecuteTime": {
     "end_time": "2023-08-04T03:21:47.073174Z",
     "start_time": "2023-08-04T03:21:47.068282Z"
    }
   },
   "id": "13ce3ee69379e8b5"
  },
  {
   "cell_type": "code",
   "execution_count": 4,
   "outputs": [],
   "source": [
    "def model_fit_forall(x,y):\n",
    "    # RandonForest Classification\n",
    "    param_search_RF = [{'n_estimators':[50,100,200,300],'max_depth':[None,4,8,12,16]},{'bootstrap':[False], 'n_estimators':[50,100,200,300],'max_depth':[None,4,8,12,16]}]\n",
    "    model_RF = RandomForestClassifier()\n",
    "    grid_search_RF = GridSearchCV(model_RF,param_search_RF,cv=3,n_jobs=-1)\n",
    "    grid_search_RF.fit(x,y)\n",
    "    # XGboost Classification\n",
    "    param_search_XG={'learning_rate':[0.05,0.1,0.2,0.3],'n_estimators':[50,100,150]}\n",
    "    model_XG = XGBClassifier()\n",
    "    grid_search_XG = GridSearchCV(model_XG,param_search_XG,cv=3,n_jobs=-1)\n",
    "    grid_search_XG.fit(x,y)\n",
    "    # LGBMClassifier Classification\n",
    "    param_search_LG={'learning_rate':[0.05,0.1,0.2,0.3],'n_estimators':[50,100,150]}\n",
    "    model_XG = LGBMClassifier()\n",
    "    grid_search_LG = GridSearchCV(model_XG,param_search_LG,cv=3,n_jobs=-1)\n",
    "    grid_search_LG.fit(x,y)\n",
    "    return grid_search_RF.best_estimator_,grid_search_XG.best_estimator_,grid_search_LG.best_estimator_"
   ],
   "metadata": {
    "collapsed": false,
    "ExecuteTime": {
     "end_time": "2023-08-04T03:21:47.123684Z",
     "start_time": "2023-08-04T03:21:47.076779Z"
    }
   },
   "id": "8f48273970c02bd0"
  },
  {
   "cell_type": "code",
   "execution_count": 5,
   "outputs": [],
   "source": [
    "def find_model_forall(model_number,file_path,paramList,test_size,test):\n",
    "    if(model_number==1):\n",
    "        x_train,x_test,y_train,y_test = dataset1_preprocessing(file_path,paramList,test_size)\n",
    "    if(model_number==2):\n",
    "        x_train,x_test,y_train,y_test = dataset2_preprocessing(file_path,paramList,test_size)\n",
    "    if(model_number==3):\n",
    "        x_train,x_test,y_train,y_test = dataset3_preprocessing(file_path,paramList,test_size)\n",
    "    result = []\n",
    "    # Logistic Classification\n",
    "    logisClassification = LogisticRegression().fit(x_train,y_train)\n",
    "    result.append(logisClassification.score(x_test,y_test))\n",
    "    # SVC Classification\n",
    "    svcClassification = SVC(kernel='linear').fit(x_train,y_train)\n",
    "    result.append(svcClassification.score(x_test,y_test))\n",
    "    model_RF,model_XG,model_LG = model_fit_forall(x_train,y_train)\n",
    "    # RandonFoest Classification\n",
    "    model_RF.fit(x_train,y_train)\n",
    "    result.append(model_RF.score(x_test,y_test))\n",
    "    # XGBoost Classification\n",
    "    model_XG.fit(x_train,y_train)\n",
    "    result.append(model_XG.score(x_test,y_test))\n",
    "    # LGBM Classification\n",
    "    model_LG.fit(x_train,y_train)\n",
    "    result.append(model_LG.score(x_test,y_test))\n",
    "    \n",
    "    #joblib save the model params\n",
    "    joblib.dump(logisClassification,\"logisClassification.pkl\")\n",
    "    joblib.dump(svcClassification,\"svcClassification.pkl\")\n",
    "    joblib.dump(model_RF,\"model_RF.pkl\")\n",
    "    joblib.dump(model_XG,\"model_XG.pkl\")\n",
    "    joblib.dump(model_LG,\"model_LG.pkl\")\n",
    "    \n",
    "    max = np.argmax(result)\n",
    "    testdata = np.array([test])\n",
    "    \n",
    "    if(max == 0):\n",
    "        return logisClassification.predict(testdata),result\n",
    "    if(max == 1):\n",
    "        return svcClassification.predict(testdata),result\n",
    "    if(max == 2):\n",
    "        return model_RF.predict(testdata),result\n",
    "    if(max == 3):\n",
    "        return model_XG.predict(testdata),result\n",
    "    if(max == 4):\n",
    "        return model_LG.predict(testdata),result"
   ],
   "metadata": {
    "collapsed": false,
    "ExecuteTime": {
     "end_time": "2023-08-04T03:21:47.124778Z",
     "start_time": "2023-08-04T03:21:47.087566Z"
    }
   },
   "id": "90fc3d3f1448c33e"
  },
  {
   "cell_type": "code",
   "execution_count": null,
   "outputs": [
    {
     "name": "stderr",
     "output_type": "stream",
     "text": [
      "/Users/sato/anaconda3/envs/machineLearning/lib/python3.11/site-packages/sklearn/linear_model/_logistic.py:458: ConvergenceWarning: lbfgs failed to converge (status=1):\n",
      "STOP: TOTAL NO. of ITERATIONS REACHED LIMIT.\n",
      "\n",
      "Increase the number of iterations (max_iter) or scale the data as shown in:\n",
      "    https://scikit-learn.org/stable/modules/preprocessing.html\n",
      "Please also refer to the documentation for alternative solver options:\n",
      "    https://scikit-learn.org/stable/modules/linear_model.html#logistic-regression\n",
      "  n_iter_i = _check_optimize_result(\n"
     ]
    }
   ],
   "source": [
    "# input\n",
    "paramList = ['age', 'sex', 'cp', 'trestbps', 'chol', 'fbs', 'restecg', 'thalach','exang', 'oldpeak', 'slope', 'ca', 'thal']\n",
    "number = [64,1,0,190,320,0,2,182,0,2.6,1,0,2]\n",
    "# output\n",
    "result,modelList = find_model_forall(1,'Data/dataset_1.csv',paramList,0.15,number)"
   ],
   "metadata": {
    "collapsed": false,
    "is_executing": true,
    "ExecuteTime": {
     "start_time": "2023-08-04T03:20:34.812670Z"
    }
   },
   "id": "502c1190cd856ad4"
  },
  {
   "cell_type": "code",
   "execution_count": 6,
   "outputs": [],
   "source": [
    "def dataset2_preprocessing(file_path,paramList,test_size):\n",
    "    df = pd.read_csv(file_path)\n",
    "    df.loc[df['TenYearCHD'] == 1, 'education'] = df.loc[df['TenYearCHD'] == 1, 'education'].fillna(df.loc[df['TenYearCHD'] == 1, 'education'].mode()[0])\n",
    "    df.loc[df['TenYearCHD'] == 0, 'education'] = df.loc[df['TenYearCHD'] == 0, 'education'].fillna(df.loc[df['TenYearCHD'] == 0, 'education'].mode()[0])\n",
    "    df.loc[df['TenYearCHD'] == 1, 'cigsPerDay'] = df.loc[df['TenYearCHD'] == 1, 'cigsPerDay'].fillna(df.loc[df['TenYearCHD'] == 1, 'cigsPerDay'].mean())\n",
    "    df.loc[df['TenYearCHD'] == 0, 'cigsPerDay'] = df.loc[df['TenYearCHD'] == 0, 'cigsPerDay'].fillna(df.loc[df['TenYearCHD'] == 0, 'cigsPerDay'].mean())\n",
    "    df.loc[df['TenYearCHD'] == 1, 'BPMeds'] = df.loc[df['TenYearCHD'] == 1, 'BPMeds'].fillna(df.loc[df['TenYearCHD'] == 1, 'BPMeds'].mode()[0])\n",
    "    df.loc[df['TenYearCHD'] == 0, 'BPMeds'] = df.loc[df['TenYearCHD'] == 0, 'BPMeds'].fillna(df.loc[df['TenYearCHD'] == 0, 'BPMeds'].mode()[0])\n",
    "    df.loc[df['TenYearCHD'] == 1, 'totChol'] = df.loc[df['TenYearCHD'] == 1, 'totChol'].fillna(df.loc[df['TenYearCHD'] == 1, 'totChol'].mean())\n",
    "    df.loc[df['TenYearCHD'] == 0, 'totChol'] = df.loc[df['TenYearCHD'] == 0, 'totChol'].fillna( df.loc[df['TenYearCHD'] == 0, 'totChol'].mean())\n",
    "    df.loc[df['TenYearCHD'] == 1, 'BMI'] = df.loc[df['TenYearCHD'] == 1, 'BMI'].fillna(df.loc[df['TenYearCHD'] == 1, 'BMI'].mean())\n",
    "    df.loc[df['TenYearCHD'] == 0, 'BMI'] = df.loc[df['TenYearCHD'] == 0, 'BMI'].fillna(df.loc[df['TenYearCHD'] == 0, 'BMI'].mean())\n",
    "    df.loc[df['TenYearCHD'] == 1, 'heartRate'] = df.loc[df['TenYearCHD'] == 1, 'heartRate'].fillna(df.loc[df['TenYearCHD'] == 1, 'heartRate'].mean())\n",
    "    df.loc[df['TenYearCHD'] == 0, 'heartRate'] = df.loc[df['TenYearCHD'] == 0, 'heartRate'].fillna(df.loc[df['TenYearCHD'] == 0, 'heartRate'].mean())\n",
    "    df.loc[df['TenYearCHD'] == 1, 'glucose'] = df.loc[df['TenYearCHD'] == 1, 'glucose'].fillna(df.loc[df['TenYearCHD'] == 1, 'glucose'].mean())\n",
    "    df.loc[df['TenYearCHD'] == 0, 'glucose'] = df.loc[df['TenYearCHD'] == 0, 'glucose'].fillna(df.loc[df['TenYearCHD'] == 0, 'glucose'].mean())\n",
    "    X = df[paramList]\n",
    "    Y = df.TenYearCHD\n",
    "    x_train,x_test,y_train,y_test = train_test_split(X,Y,test_size=test_size)\n",
    "    return x_train,x_test,y_train,y_test"
   ],
   "metadata": {
    "collapsed": false,
    "ExecuteTime": {
     "end_time": "2023-08-04T03:21:47.125642Z",
     "start_time": "2023-08-04T03:21:47.091165Z"
    }
   },
   "id": "39b9687e7d8f702c"
  },
  {
   "cell_type": "code",
   "execution_count": null,
   "outputs": [],
   "source": [
    "# input\n",
    "paramList = ['male','age','education','currentSmoker','cigsPerDay','BPMeds','prevalentStroke','prevalentHyp','diabetes','totChol','sysBP','diaBP','BMI','heartRate','glucose']\n",
    "number = [0,43,2,0,0,0,0,0,0,247,131,88,27.64,72,61]\n",
    "# output\n",
    "result,modelList = find_model_forall(2,'Data/dataset_2.csv',paramList,0.15,number)"
   ],
   "metadata": {
    "collapsed": false,
    "is_executing": true
   },
   "id": "22259e81387c6cc9"
  },
  {
   "cell_type": "code",
   "execution_count": 7,
   "outputs": [],
   "source": [
    "def dataset3_preprocessing(file_path,paramList,test_size):\n",
    "    df = pd.read_csv(file_path,sep=';')\n",
    "    df.age= round(df.age/365,0)\n",
    "    X = df[paramList]\n",
    "    Y = df.cardio\n",
    "    x_train,x_test,y_train,y_test = train_test_split(X,Y,test_size=test_size)\n",
    "    return x_train,x_test,y_train,y_test"
   ],
   "metadata": {
    "collapsed": false,
    "ExecuteTime": {
     "end_time": "2023-08-04T03:21:47.125953Z",
     "start_time": "2023-08-04T03:21:47.104651Z"
    }
   },
   "id": "10e47740de321bc7"
  },
  {
   "cell_type": "code",
   "execution_count": null,
   "outputs": [],
   "source": [
    "# input\n",
    "paramList = ['age', 'gender', 'height', 'weight', 'ap_hi', 'ap_lo','cholesterol', 'gluc', 'smoke', 'alco', 'active']\n",
    "number = [39.81,2,181,95.0,130,90,1,1,1,1,1]\n",
    "# output\n",
    "result,modelList = find_model_forall(3,'Data/dataset_3.csv',paramList,0.15,number)"
   ],
   "metadata": {
    "collapsed": false,
    "is_executing": true
   },
   "id": "9d1aad6ac204012a"
  },
  {
   "cell_type": "code",
   "execution_count": 8,
   "outputs": [],
   "source": [
    "def dataset4_preprocessing(file_path,paramList,test_size):\n",
    "    df4 = pd.read_csv(file_path)\n",
    "    df4.Smoking = df4.Smoking.map({'No':0,'Yes':1})\n",
    "    df4.HeartDisease = df4.HeartDisease.map({'No':0,'Yes':1})\n",
    "    df4.AlcoholDrinking = df4.AlcoholDrinking.map({'No':0,'Yes':1})\n",
    "    df4.Stroke = df4.Stroke.map({'No':0,'Yes':1})\n",
    "    df4.DiffWalking = df4.DiffWalking.map({'No':0,'Yes':1})\n",
    "    df4.Diabetic = df4.Diabetic.map({'No':0,'Yes':1})\n",
    "    df4.loc[df4['HeartDisease'] == 1, 'Diabetic'] = df4.loc[df4['HeartDisease'] == 1, 'Diabetic'].fillna(df4.loc[df4['HeartDisease'] == 1, 'Diabetic'].mode()[0])\n",
    "    df4.loc[df4['HeartDisease'] == 0, 'Diabetic'] = df4.loc[df4['HeartDisease'] == 0, 'Diabetic'].fillna(df4.loc[df4['HeartDisease'] == 0, 'Diabetic'].mode()[0])\n",
    "    df4.PhysicalActivity = df4.PhysicalActivity.map({'No':0,'Yes':1})\n",
    "    df4.Asthma = df4.Asthma.map({'No':0,'Yes':1})\n",
    "    df4.KidneyDisease = df4.KidneyDisease.map({'No':0,'Yes':1})\n",
    "    df4.SkinCancer = df4.SkinCancer.map({'No':0,'Yes':1})\n",
    "    df4.Sex = df4.Sex.map({'Female':0,'Male':1})\n",
    "    df4.AgeCategory = df4.AgeCategory.map({'55-59':57,'80 or older':82,'65-69':67,'75-79':77,'40-44':42,'70-74':72,'60-64':62,'50-54':52,'45-49':47,'18-24':21,'35-39':37,'30-34':32,'25-29':27})\n",
    "    df4.Race = df4.Race.map({'White':1,'Black':2,'Asian':3,'American Indian/Alaskan Native':4,'Other':5,'Hispanic':6})\n",
    "    df4.GenHealth = df4.GenHealth.map({'Very good':4, 'Fair':2, 'Good':3, 'Poor':1, 'Excellent':5})\n",
    "    X = df4[paramList]\n",
    "    Y = df4.HeartDisease\n",
    "    x_train,x_test,y_train,y_test = train_test_split(X,Y,test_size=test_size)\n",
    "    return x_train,x_test,y_train,y_test"
   ],
   "metadata": {
    "collapsed": false,
    "ExecuteTime": {
     "end_time": "2023-08-04T03:21:47.899503Z",
     "start_time": "2023-08-04T03:21:47.888594Z"
    }
   },
   "id": "ee3242e4f076cd7a"
  },
  {
   "cell_type": "code",
   "execution_count": null,
   "outputs": [],
   "source": [
    "# input\n",
    "paramList = ['BMI', 'Smoking', 'AlcoholDrinking', 'Stroke','PhysicalHealth', 'MentalHealth', 'DiffWalking', 'Sex', 'AgeCategory','Race', 'Diabetic', 'PhysicalActivity', 'GenHealth', 'SleepTime','Asthma', 'KidneyDisease', 'SkinCancer']\n",
    "number = [39.81,2,181,95.0,130,90,1,1,1,1,1]\n",
    "# output\n",
    "result,modelList = find_model_forall(4,'Data/dataset_4.csv',paramList,0.15,number)"
   ],
   "metadata": {
    "collapsed": false,
    "is_executing": true
   },
   "id": "fce78195992ead79"
  },
  {
   "cell_type": "code",
   "execution_count": 9,
   "outputs": [],
   "source": [
    "def dataset5_preprocessing(file_path,paramList,test_size):\n",
    "    df5 = pd.read_csv(file_path)\n",
    "    df5.General_Health = df5.General_Health.map({'Very Good':4, 'Fair':2, 'Good':3, 'Poor':1, 'Excellent':5})\n",
    "    df5.Checkup = df5.Checkup.map({'Within the past 2 years':2,'Within the past year':1,'5 or more years ago':4,'Within the past 5 years':3,'Never':0})\n",
    "    df5.Exercise = df5.Exercise.map({'No':0,'Yes':1})\n",
    "    df5.Heart_Disease = df5.Heart_Disease.map({'No':0,'Yes':1})\n",
    "    df5.Skin_Cancer = df5.Skin_Cancer.map({'No':0,'Yes':1})\n",
    "    df5.Other_Cancer = df5.Other_Cancer.map({'No':0,'Yes':1})\n",
    "    df5.Depression = df5.Depression.map({'No':0,'Yes':1})\n",
    "    df5.Arthritis = df5.Arthritis.map({'No':0,'Yes':1})\n",
    "    df5.Diabetes = df5.Diabetes.map({'No':0,'Yes':1,'Yes, but female told only during pregnancy':1, 'No, pre-diabetes or borderline diabetes':0})\n",
    "    df5.Smoking_History = df5.Smoking_History.map({'No':0,'Yes':1})\n",
    "    df5.Sex = df5.Sex.map({'Female':0,'Male':1})\n",
    "    df5.Age_Category = df5.Age_Category.map({'55-59':57,'80+':82,'65-69':67,'75-79':77,'40-44':42,'70-74':72,'60-64':62,'50-54':52,'45-49':47,'18-24':21,'35-39':37,'30-34':32,'25-29':27})\n",
    "    X = df5[paramList]\n",
    "    Y = df5.Heart_Disease\n",
    "    x_train,x_test,y_train,y_test = train_test_split(X,Y,test_size=test_size)\n",
    "    return x_train,x_test,y_train,y_test"
   ],
   "metadata": {
    "collapsed": false,
    "ExecuteTime": {
     "end_time": "2023-08-04T03:21:49.555577Z",
     "start_time": "2023-08-04T03:21:49.544028Z"
    }
   },
   "id": "1a841577199d5950"
  },
  {
   "cell_type": "code",
   "execution_count": null,
   "outputs": [],
   "source": [
    "# input\n",
    "paramList = ['General_Health', 'Checkup', 'Exercise', 'Skin_Cancer','Other_Cancer', 'Depression', 'Diabetes', 'Arthritis', 'Sex','Age_Category', 'Height_(cm)', 'Weight_(kg)', 'BMI', 'Smoking_History','Alcohol_Consumption', 'Fruit_Consumption','Green_Vegetables_Consumption', 'FriedPotato_Consumption']\n",
    "number = [39.81,2,181,95.0,130,90,1,1,1,1,1]\n",
    "# output\n",
    "result,modelList = find_model_forall(5,'Data/dataset_5.csv',paramList,0.15,number)"
   ],
   "metadata": {
    "collapsed": false,
    "is_executing": true
   },
   "id": "c86b52a9abafd404"
  },
  {
   "cell_type": "code",
   "execution_count": 10,
   "outputs": [],
   "source": [
    "def assignModel(jsondata):\n",
    "    json_data = json.loads(jsondata)\n",
    "    keys = json_data.keys()\n",
    "    values = json_data.values()\n",
    "    print(list(keys))"
   ],
   "metadata": {
    "collapsed": false,
    "ExecuteTime": {
     "end_time": "2023-08-04T03:21:51.864069Z",
     "start_time": "2023-08-04T03:21:51.846273Z"
    }
   },
   "id": "ed3ceee7015d3c3a"
  },
  {
   "cell_type": "code",
   "execution_count": 11,
   "outputs": [
    {
     "name": "stdout",
     "output_type": "stream",
     "text": [
      "['name', 'age', 'city']\n"
     ]
    }
   ],
   "source": [
    "string = '{\"name\": \"John\", \"age\": 30, \"city\": \"New York\"}'\n",
    "assignModel(string)"
   ],
   "metadata": {
    "collapsed": false,
    "ExecuteTime": {
     "end_time": "2023-08-04T03:21:52.351345Z",
     "start_time": "2023-08-04T03:21:52.347392Z"
    }
   },
   "id": "1050ee1e909262fa"
  },
  {
   "cell_type": "code",
   "execution_count": 31,
   "outputs": [
    {
     "name": "stderr",
     "output_type": "stream",
     "text": [
      "2023-08-04 11:56:18.225780: I tensorflow/core/common_runtime/executor.cc:1197] [/device:CPU:0] (DEBUG INFO) Executor start aborting (this does not indicate an error and you can ignore this message): INVALID_ARGUMENT: You must feed a value for placeholder tensor 'Placeholder/_0' with dtype double and shape [271825,17]\n",
      "\t [[{{node Placeholder/_0}}]]\n",
      "2023-08-04 11:56:18.226039: I tensorflow/core/common_runtime/executor.cc:1197] [/device:CPU:0] (DEBUG INFO) Executor start aborting (this does not indicate an error and you can ignore this message): INVALID_ARGUMENT: You must feed a value for placeholder tensor 'Placeholder/_1' with dtype int64 and shape [271825]\n",
      "\t [[{{node Placeholder/_1}}]]\n"
     ]
    },
    {
     "name": "stdout",
     "output_type": "stream",
     "text": [
      "Epoch 1/1000\n",
      "3125/3125 [==============================] - 6s 2ms/step - loss: 0.2542 - accuracy: 0.9120\n",
      "Epoch 2/1000\n",
      "3125/3125 [==============================] - 4s 1ms/step - loss: 0.2343 - accuracy: 0.9150\n",
      "Epoch 3/1000\n",
      "3125/3125 [==============================] - 4s 1ms/step - loss: 0.2303 - accuracy: 0.9151\n",
      "Epoch 4/1000\n",
      "3125/3125 [==============================] - 4s 1ms/step - loss: 0.2291 - accuracy: 0.9158\n",
      "Epoch 5/1000\n",
      "3125/3125 [==============================] - 4s 1ms/step - loss: 0.2281 - accuracy: 0.9158\n",
      "Epoch 6/1000\n",
      "3125/3125 [==============================] - 4s 1ms/step - loss: 0.2275 - accuracy: 0.9157\n",
      "Epoch 7/1000\n",
      "3125/3125 [==============================] - 4s 1ms/step - loss: 0.2268 - accuracy: 0.9162\n",
      "Epoch 8/1000\n",
      "3125/3125 [==============================] - 4s 1ms/step - loss: 0.2261 - accuracy: 0.9162\n",
      "Epoch 9/1000\n",
      "1509/3125 [=============>................] - ETA: 2s - loss: 0.2267 - accuracy: 0.9161"
     ]
    },
    {
     "ename": "KeyboardInterrupt",
     "evalue": "",
     "output_type": "error",
     "traceback": [
      "\u001B[0;31m---------------------------------------------------------------------------\u001B[0m",
      "\u001B[0;31mKeyboardInterrupt\u001B[0m                         Traceback (most recent call last)",
      "Cell \u001B[0;32mIn[31], line 41\u001B[0m\n\u001B[1;32m     39\u001B[0m early_stopping \u001B[38;5;241m=\u001B[39m tf\u001B[38;5;241m.\u001B[39mkeras\u001B[38;5;241m.\u001B[39mcallbacks\u001B[38;5;241m.\u001B[39mEarlyStopping(monitor\u001B[38;5;241m=\u001B[39m\u001B[38;5;124m'\u001B[39m\u001B[38;5;124mloss\u001B[39m\u001B[38;5;124m'\u001B[39m, patience\u001B[38;5;241m=\u001B[39m\u001B[38;5;241m15\u001B[39m, verbose\u001B[38;5;241m=\u001B[39m\u001B[38;5;241m1\u001B[39m, restore_best_weights\u001B[38;5;241m=\u001B[39m\u001B[38;5;28;01mTrue\u001B[39;00m)\n\u001B[1;32m     40\u001B[0m model_NN\u001B[38;5;241m.\u001B[39mcompile(optimizer\u001B[38;5;241m=\u001B[39m\u001B[38;5;124m'\u001B[39m\u001B[38;5;124madam\u001B[39m\u001B[38;5;124m'\u001B[39m, loss\u001B[38;5;241m=\u001B[39m\u001B[38;5;124m'\u001B[39m\u001B[38;5;124mcategorical_crossentropy\u001B[39m\u001B[38;5;124m'\u001B[39m, metrics\u001B[38;5;241m=\u001B[39m[\u001B[38;5;124m'\u001B[39m\u001B[38;5;124maccuracy\u001B[39m\u001B[38;5;124m'\u001B[39m])\n\u001B[0;32m---> 41\u001B[0m model_NN\u001B[38;5;241m.\u001B[39mfit(features,labels,epochs\u001B[38;5;241m=\u001B[39m\u001B[38;5;241m1000\u001B[39m,callbacks\u001B[38;5;241m=\u001B[39m[early_stopping])\n",
      "File \u001B[0;32m~/anaconda3/envs/machineLearning/lib/python3.11/site-packages/keras/utils/traceback_utils.py:65\u001B[0m, in \u001B[0;36mfilter_traceback.<locals>.error_handler\u001B[0;34m(*args, **kwargs)\u001B[0m\n\u001B[1;32m     63\u001B[0m filtered_tb \u001B[38;5;241m=\u001B[39m \u001B[38;5;28;01mNone\u001B[39;00m\n\u001B[1;32m     64\u001B[0m \u001B[38;5;28;01mtry\u001B[39;00m:\n\u001B[0;32m---> 65\u001B[0m     \u001B[38;5;28;01mreturn\u001B[39;00m fn(\u001B[38;5;241m*\u001B[39margs, \u001B[38;5;241m*\u001B[39m\u001B[38;5;241m*\u001B[39mkwargs)\n\u001B[1;32m     66\u001B[0m \u001B[38;5;28;01mexcept\u001B[39;00m \u001B[38;5;167;01mException\u001B[39;00m \u001B[38;5;28;01mas\u001B[39;00m e:\n\u001B[1;32m     67\u001B[0m     filtered_tb \u001B[38;5;241m=\u001B[39m _process_traceback_frames(e\u001B[38;5;241m.\u001B[39m__traceback__)\n",
      "File \u001B[0;32m~/anaconda3/envs/machineLearning/lib/python3.11/site-packages/keras/engine/training.py:1691\u001B[0m, in \u001B[0;36mModel.fit\u001B[0;34m(self, x, y, batch_size, epochs, verbose, callbacks, validation_split, validation_data, shuffle, class_weight, sample_weight, initial_epoch, steps_per_epoch, validation_steps, validation_batch_size, validation_freq, max_queue_size, workers, use_multiprocessing)\u001B[0m\n\u001B[1;32m   1689\u001B[0m logs \u001B[38;5;241m=\u001B[39m tmp_logs\n\u001B[1;32m   1690\u001B[0m end_step \u001B[38;5;241m=\u001B[39m step \u001B[38;5;241m+\u001B[39m data_handler\u001B[38;5;241m.\u001B[39mstep_increment\n\u001B[0;32m-> 1691\u001B[0m callbacks\u001B[38;5;241m.\u001B[39mon_train_batch_end(end_step, logs)\n\u001B[1;32m   1692\u001B[0m \u001B[38;5;28;01mif\u001B[39;00m \u001B[38;5;28mself\u001B[39m\u001B[38;5;241m.\u001B[39mstop_training:\n\u001B[1;32m   1693\u001B[0m     \u001B[38;5;28;01mbreak\u001B[39;00m\n",
      "File \u001B[0;32m~/anaconda3/envs/machineLearning/lib/python3.11/site-packages/keras/callbacks.py:475\u001B[0m, in \u001B[0;36mCallbackList.on_train_batch_end\u001B[0;34m(self, batch, logs)\u001B[0m\n\u001B[1;32m    468\u001B[0m \u001B[38;5;250m\u001B[39m\u001B[38;5;124;03m\"\"\"Calls the `on_train_batch_end` methods of its callbacks.\u001B[39;00m\n\u001B[1;32m    469\u001B[0m \n\u001B[1;32m    470\u001B[0m \u001B[38;5;124;03mArgs:\u001B[39;00m\n\u001B[1;32m    471\u001B[0m \u001B[38;5;124;03m    batch: Integer, index of batch within the current epoch.\u001B[39;00m\n\u001B[1;32m    472\u001B[0m \u001B[38;5;124;03m    logs: Dict. Aggregated metric results up until this batch.\u001B[39;00m\n\u001B[1;32m    473\u001B[0m \u001B[38;5;124;03m\"\"\"\u001B[39;00m\n\u001B[1;32m    474\u001B[0m \u001B[38;5;28;01mif\u001B[39;00m \u001B[38;5;28mself\u001B[39m\u001B[38;5;241m.\u001B[39m_should_call_train_batch_hooks:\n\u001B[0;32m--> 475\u001B[0m     \u001B[38;5;28mself\u001B[39m\u001B[38;5;241m.\u001B[39m_call_batch_hook(ModeKeys\u001B[38;5;241m.\u001B[39mTRAIN, \u001B[38;5;124m\"\u001B[39m\u001B[38;5;124mend\u001B[39m\u001B[38;5;124m\"\u001B[39m, batch, logs\u001B[38;5;241m=\u001B[39mlogs)\n",
      "File \u001B[0;32m~/anaconda3/envs/machineLearning/lib/python3.11/site-packages/keras/callbacks.py:322\u001B[0m, in \u001B[0;36mCallbackList._call_batch_hook\u001B[0;34m(self, mode, hook, batch, logs)\u001B[0m\n\u001B[1;32m    320\u001B[0m     \u001B[38;5;28mself\u001B[39m\u001B[38;5;241m.\u001B[39m_call_batch_begin_hook(mode, batch, logs)\n\u001B[1;32m    321\u001B[0m \u001B[38;5;28;01melif\u001B[39;00m hook \u001B[38;5;241m==\u001B[39m \u001B[38;5;124m\"\u001B[39m\u001B[38;5;124mend\u001B[39m\u001B[38;5;124m\"\u001B[39m:\n\u001B[0;32m--> 322\u001B[0m     \u001B[38;5;28mself\u001B[39m\u001B[38;5;241m.\u001B[39m_call_batch_end_hook(mode, batch, logs)\n\u001B[1;32m    323\u001B[0m \u001B[38;5;28;01melse\u001B[39;00m:\n\u001B[1;32m    324\u001B[0m     \u001B[38;5;28;01mraise\u001B[39;00m \u001B[38;5;167;01mValueError\u001B[39;00m(\n\u001B[1;32m    325\u001B[0m         \u001B[38;5;124mf\u001B[39m\u001B[38;5;124m\"\u001B[39m\u001B[38;5;124mUnrecognized hook: \u001B[39m\u001B[38;5;132;01m{\u001B[39;00mhook\u001B[38;5;132;01m}\u001B[39;00m\u001B[38;5;124m. \u001B[39m\u001B[38;5;124m\"\u001B[39m\n\u001B[1;32m    326\u001B[0m         \u001B[38;5;124m'\u001B[39m\u001B[38;5;124mExpected values are [\u001B[39m\u001B[38;5;124m\"\u001B[39m\u001B[38;5;124mbegin\u001B[39m\u001B[38;5;124m\"\u001B[39m\u001B[38;5;124m, \u001B[39m\u001B[38;5;124m\"\u001B[39m\u001B[38;5;124mend\u001B[39m\u001B[38;5;124m\"\u001B[39m\u001B[38;5;124m]\u001B[39m\u001B[38;5;124m'\u001B[39m\n\u001B[1;32m    327\u001B[0m     )\n",
      "File \u001B[0;32m~/anaconda3/envs/machineLearning/lib/python3.11/site-packages/keras/callbacks.py:345\u001B[0m, in \u001B[0;36mCallbackList._call_batch_end_hook\u001B[0;34m(self, mode, batch, logs)\u001B[0m\n\u001B[1;32m    342\u001B[0m     batch_time \u001B[38;5;241m=\u001B[39m time\u001B[38;5;241m.\u001B[39mtime() \u001B[38;5;241m-\u001B[39m \u001B[38;5;28mself\u001B[39m\u001B[38;5;241m.\u001B[39m_batch_start_time\n\u001B[1;32m    343\u001B[0m     \u001B[38;5;28mself\u001B[39m\u001B[38;5;241m.\u001B[39m_batch_times\u001B[38;5;241m.\u001B[39mappend(batch_time)\n\u001B[0;32m--> 345\u001B[0m \u001B[38;5;28mself\u001B[39m\u001B[38;5;241m.\u001B[39m_call_batch_hook_helper(hook_name, batch, logs)\n\u001B[1;32m    347\u001B[0m \u001B[38;5;28;01mif\u001B[39;00m \u001B[38;5;28mlen\u001B[39m(\u001B[38;5;28mself\u001B[39m\u001B[38;5;241m.\u001B[39m_batch_times) \u001B[38;5;241m>\u001B[39m\u001B[38;5;241m=\u001B[39m \u001B[38;5;28mself\u001B[39m\u001B[38;5;241m.\u001B[39m_num_batches_for_timing_check:\n\u001B[1;32m    348\u001B[0m     end_hook_name \u001B[38;5;241m=\u001B[39m hook_name\n",
      "File \u001B[0;32m~/anaconda3/envs/machineLearning/lib/python3.11/site-packages/keras/callbacks.py:393\u001B[0m, in \u001B[0;36mCallbackList._call_batch_hook_helper\u001B[0;34m(self, hook_name, batch, logs)\u001B[0m\n\u001B[1;32m    391\u001B[0m \u001B[38;5;28;01mfor\u001B[39;00m callback \u001B[38;5;129;01min\u001B[39;00m \u001B[38;5;28mself\u001B[39m\u001B[38;5;241m.\u001B[39mcallbacks:\n\u001B[1;32m    392\u001B[0m     hook \u001B[38;5;241m=\u001B[39m \u001B[38;5;28mgetattr\u001B[39m(callback, hook_name)\n\u001B[0;32m--> 393\u001B[0m     hook(batch, logs)\n\u001B[1;32m    395\u001B[0m \u001B[38;5;28;01mif\u001B[39;00m \u001B[38;5;28mself\u001B[39m\u001B[38;5;241m.\u001B[39m_check_timing:\n\u001B[1;32m    396\u001B[0m     \u001B[38;5;28;01mif\u001B[39;00m hook_name \u001B[38;5;129;01mnot\u001B[39;00m \u001B[38;5;129;01min\u001B[39;00m \u001B[38;5;28mself\u001B[39m\u001B[38;5;241m.\u001B[39m_hook_times:\n",
      "File \u001B[0;32m~/anaconda3/envs/machineLearning/lib/python3.11/site-packages/keras/callbacks.py:1093\u001B[0m, in \u001B[0;36mProgbarLogger.on_train_batch_end\u001B[0;34m(self, batch, logs)\u001B[0m\n\u001B[1;32m   1092\u001B[0m \u001B[38;5;28;01mdef\u001B[39;00m \u001B[38;5;21mon_train_batch_end\u001B[39m(\u001B[38;5;28mself\u001B[39m, batch, logs\u001B[38;5;241m=\u001B[39m\u001B[38;5;28;01mNone\u001B[39;00m):\n\u001B[0;32m-> 1093\u001B[0m     \u001B[38;5;28mself\u001B[39m\u001B[38;5;241m.\u001B[39m_batch_update_progbar(batch, logs)\n",
      "File \u001B[0;32m~/anaconda3/envs/machineLearning/lib/python3.11/site-packages/keras/callbacks.py:1169\u001B[0m, in \u001B[0;36mProgbarLogger._batch_update_progbar\u001B[0;34m(self, batch, logs)\u001B[0m\n\u001B[1;32m   1165\u001B[0m     \u001B[38;5;28mself\u001B[39m\u001B[38;5;241m.\u001B[39mseen \u001B[38;5;241m+\u001B[39m\u001B[38;5;241m=\u001B[39m add_seen\n\u001B[1;32m   1167\u001B[0m \u001B[38;5;28;01mif\u001B[39;00m \u001B[38;5;28mself\u001B[39m\u001B[38;5;241m.\u001B[39mverbose \u001B[38;5;241m==\u001B[39m \u001B[38;5;241m1\u001B[39m:\n\u001B[1;32m   1168\u001B[0m     \u001B[38;5;66;03m# Only block async when verbose = 1.\u001B[39;00m\n\u001B[0;32m-> 1169\u001B[0m     logs \u001B[38;5;241m=\u001B[39m tf_utils\u001B[38;5;241m.\u001B[39msync_to_numpy_or_python_type(logs)\n\u001B[1;32m   1170\u001B[0m     \u001B[38;5;28mself\u001B[39m\u001B[38;5;241m.\u001B[39mprogbar\u001B[38;5;241m.\u001B[39mupdate(\u001B[38;5;28mself\u001B[39m\u001B[38;5;241m.\u001B[39mseen, \u001B[38;5;28mlist\u001B[39m(logs\u001B[38;5;241m.\u001B[39mitems()), finalize\u001B[38;5;241m=\u001B[39m\u001B[38;5;28;01mFalse\u001B[39;00m)\n",
      "File \u001B[0;32m~/anaconda3/envs/machineLearning/lib/python3.11/site-packages/keras/utils/tf_utils.py:680\u001B[0m, in \u001B[0;36msync_to_numpy_or_python_type\u001B[0;34m(tensors)\u001B[0m\n\u001B[1;32m    677\u001B[0m         \u001B[38;5;28;01mreturn\u001B[39;00m t\n\u001B[1;32m    678\u001B[0m     \u001B[38;5;28;01mreturn\u001B[39;00m t\u001B[38;5;241m.\u001B[39mitem() \u001B[38;5;28;01mif\u001B[39;00m np\u001B[38;5;241m.\u001B[39mndim(t) \u001B[38;5;241m==\u001B[39m \u001B[38;5;241m0\u001B[39m \u001B[38;5;28;01melse\u001B[39;00m t\n\u001B[0;32m--> 680\u001B[0m \u001B[38;5;28;01mreturn\u001B[39;00m tf\u001B[38;5;241m.\u001B[39mnest\u001B[38;5;241m.\u001B[39mmap_structure(_to_single_numpy_or_python_type, tensors)\n",
      "File \u001B[0;32m~/anaconda3/envs/machineLearning/lib/python3.11/site-packages/tensorflow/python/util/nest.py:916\u001B[0m, in \u001B[0;36mmap_structure\u001B[0;34m(func, *structure, **kwargs)\u001B[0m\n\u001B[1;32m    913\u001B[0m flat_structure \u001B[38;5;241m=\u001B[39m (flatten(s, expand_composites) \u001B[38;5;28;01mfor\u001B[39;00m s \u001B[38;5;129;01min\u001B[39;00m structure)\n\u001B[1;32m    914\u001B[0m entries \u001B[38;5;241m=\u001B[39m \u001B[38;5;28mzip\u001B[39m(\u001B[38;5;241m*\u001B[39mflat_structure)\n\u001B[0;32m--> 916\u001B[0m \u001B[38;5;28;01mreturn\u001B[39;00m pack_sequence_as(\n\u001B[1;32m    917\u001B[0m     structure[\u001B[38;5;241m0\u001B[39m], [func(\u001B[38;5;241m*\u001B[39mx) \u001B[38;5;28;01mfor\u001B[39;00m x \u001B[38;5;129;01min\u001B[39;00m entries],\n\u001B[1;32m    918\u001B[0m     expand_composites\u001B[38;5;241m=\u001B[39mexpand_composites)\n",
      "File \u001B[0;32m~/anaconda3/envs/machineLearning/lib/python3.11/site-packages/tensorflow/python/util/nest.py:806\u001B[0m, in \u001B[0;36mpack_sequence_as\u001B[0;34m(structure, flat_sequence, expand_composites)\u001B[0m\n\u001B[1;32m    692\u001B[0m \u001B[38;5;129m@tf_export\u001B[39m(\u001B[38;5;124m\"\u001B[39m\u001B[38;5;124mnest.pack_sequence_as\u001B[39m\u001B[38;5;124m\"\u001B[39m)\n\u001B[1;32m    693\u001B[0m \u001B[38;5;28;01mdef\u001B[39;00m \u001B[38;5;21mpack_sequence_as\u001B[39m(structure, flat_sequence, expand_composites\u001B[38;5;241m=\u001B[39m\u001B[38;5;28;01mFalse\u001B[39;00m):\n\u001B[1;32m    694\u001B[0m \u001B[38;5;250m  \u001B[39m\u001B[38;5;124;03m\"\"\"Returns a given flattened sequence packed into a given structure.\u001B[39;00m\n\u001B[1;32m    695\u001B[0m \n\u001B[1;32m    696\u001B[0m \u001B[38;5;124;03m  Refer to [tf.nest](https://www.tensorflow.org/api_docs/python/tf/nest)\u001B[39;00m\n\u001B[0;32m   (...)\u001B[0m\n\u001B[1;32m    804\u001B[0m \u001B[38;5;124;03m    TypeError: `structure` is or contains a dict with non-sortable keys.\u001B[39;00m\n\u001B[1;32m    805\u001B[0m \u001B[38;5;124;03m  \"\"\"\u001B[39;00m\n\u001B[0;32m--> 806\u001B[0m   \u001B[38;5;28;01mreturn\u001B[39;00m _pack_sequence_as(structure, flat_sequence, expand_composites)\n",
      "File \u001B[0;32m~/anaconda3/envs/machineLearning/lib/python3.11/site-packages/tensorflow/python/util/nest.py:678\u001B[0m, in \u001B[0;36m_pack_sequence_as\u001B[0;34m(structure, flat_sequence, expand_composites, sequence_fn)\u001B[0m\n\u001B[1;32m    675\u001B[0m   \u001B[38;5;28;01mreturn\u001B[39;00m flat_sequence[\u001B[38;5;241m0\u001B[39m]\n\u001B[1;32m    677\u001B[0m \u001B[38;5;28;01mtry\u001B[39;00m:\n\u001B[0;32m--> 678\u001B[0m   final_index, packed \u001B[38;5;241m=\u001B[39m _packed_nest_with_indices(structure, flat_sequence, \u001B[38;5;241m0\u001B[39m,\n\u001B[1;32m    679\u001B[0m                                                   is_nested_fn, sequence_fn)\n\u001B[1;32m    680\u001B[0m   \u001B[38;5;28;01mif\u001B[39;00m final_index \u001B[38;5;241m<\u001B[39m \u001B[38;5;28mlen\u001B[39m(flat_sequence):\n\u001B[1;32m    681\u001B[0m     \u001B[38;5;28;01mraise\u001B[39;00m \u001B[38;5;167;01mIndexError\u001B[39;00m\n",
      "File \u001B[0;32m~/anaconda3/envs/machineLearning/lib/python3.11/site-packages/tensorflow/python/util/nest.py:640\u001B[0m, in \u001B[0;36m_packed_nest_with_indices\u001B[0;34m(structure, flat, index, is_nested_fn, sequence_fn)\u001B[0m\n\u001B[1;32m    638\u001B[0m packed \u001B[38;5;241m=\u001B[39m []\n\u001B[1;32m    639\u001B[0m sequence_fn \u001B[38;5;241m=\u001B[39m sequence_fn \u001B[38;5;129;01mor\u001B[39;00m _sequence_like\n\u001B[0;32m--> 640\u001B[0m \u001B[38;5;28;01mfor\u001B[39;00m s \u001B[38;5;129;01min\u001B[39;00m _yield_value(structure):\n\u001B[1;32m    641\u001B[0m   \u001B[38;5;28;01mif\u001B[39;00m is_nested_fn(s):\n\u001B[1;32m    642\u001B[0m     new_index, child \u001B[38;5;241m=\u001B[39m _packed_nest_with_indices(s, flat, index, is_nested_fn,\n\u001B[1;32m    643\u001B[0m                                                  sequence_fn)\n",
      "File \u001B[0;32m~/anaconda3/envs/machineLearning/lib/python3.11/site-packages/tensorflow/python/util/nest.py:257\u001B[0m, in \u001B[0;36m_yield_value\u001B[0;34m(iterable)\u001B[0m\n\u001B[1;32m    256\u001B[0m \u001B[38;5;28;01mdef\u001B[39;00m \u001B[38;5;21m_yield_value\u001B[39m(iterable):\n\u001B[0;32m--> 257\u001B[0m   \u001B[38;5;28;01mfor\u001B[39;00m _, v \u001B[38;5;129;01min\u001B[39;00m _yield_sorted_items(iterable):\n\u001B[1;32m    258\u001B[0m     \u001B[38;5;28;01myield\u001B[39;00m v\n",
      "File \u001B[0;32m~/anaconda3/envs/machineLearning/lib/python3.11/site-packages/tensorflow/python/util/nest.py:290\u001B[0m, in \u001B[0;36m_yield_sorted_items\u001B[0;34m(iterable)\u001B[0m\n\u001B[1;32m    283\u001B[0m     \u001B[38;5;28;01myield\u001B[39;00m item\n\u001B[1;32m    284\u001B[0m \u001B[38;5;28;01melif\u001B[39;00m \u001B[38;5;28misinstance\u001B[39m(iterable, (\u001B[38;5;28mdict\u001B[39m, _collections_abc\u001B[38;5;241m.\u001B[39mMapping)):\n\u001B[1;32m    285\u001B[0m   \u001B[38;5;66;03m# Iterate through dictionaries in a deterministic order by sorting the\u001B[39;00m\n\u001B[1;32m    286\u001B[0m   \u001B[38;5;66;03m# keys. Notice this means that we ignore the original order of `OrderedDict`\u001B[39;00m\n\u001B[1;32m    287\u001B[0m   \u001B[38;5;66;03m# instances. This is intentional, to avoid potential bugs caused by mixing\u001B[39;00m\n\u001B[1;32m    288\u001B[0m   \u001B[38;5;66;03m# ordered and plain dicts (e.g., flattening a dict but using a\u001B[39;00m\n\u001B[1;32m    289\u001B[0m   \u001B[38;5;66;03m# corresponding `OrderedDict` to pack it back).\u001B[39;00m\n\u001B[0;32m--> 290\u001B[0m   \u001B[38;5;28;01mfor\u001B[39;00m key \u001B[38;5;129;01min\u001B[39;00m _sorted(iterable):\n\u001B[1;32m    291\u001B[0m     \u001B[38;5;28;01myield\u001B[39;00m key, iterable[key]\n\u001B[1;32m    292\u001B[0m \u001B[38;5;28;01melif\u001B[39;00m _is_attrs(iterable):\n",
      "File \u001B[0;32m~/anaconda3/envs/machineLearning/lib/python3.11/site-packages/tensorflow/python/util/nest.py:138\u001B[0m, in \u001B[0;36m_sorted\u001B[0;34m(dict_)\u001B[0m\n\u001B[1;32m    134\u001B[0m   attr_names \u001B[38;5;241m=\u001B[39m (a\u001B[38;5;241m.\u001B[39mname \u001B[38;5;28;01mfor\u001B[39;00m a \u001B[38;5;129;01min\u001B[39;00m attrs)\n\u001B[1;32m    135\u001B[0m   \u001B[38;5;28;01mreturn\u001B[39;00m [(attr_name, \u001B[38;5;28mgetattr\u001B[39m(obj, attr_name)) \u001B[38;5;28;01mfor\u001B[39;00m attr_name \u001B[38;5;129;01min\u001B[39;00m attr_names]\n\u001B[0;32m--> 138\u001B[0m \u001B[38;5;28;01mdef\u001B[39;00m \u001B[38;5;21m_sorted\u001B[39m(dict_):\n\u001B[1;32m    139\u001B[0m \u001B[38;5;250m  \u001B[39m\u001B[38;5;124;03m\"\"\"Returns a sorted list of the dict keys, with error if keys not sortable.\"\"\"\u001B[39;00m\n\u001B[1;32m    140\u001B[0m   \u001B[38;5;28;01mtry\u001B[39;00m:\n",
      "\u001B[0;31mKeyboardInterrupt\u001B[0m: "
     ]
    }
   ],
   "source": [
    "import tensorflow as tf\n",
    "from matplotlib import pyplot as plt\n",
    "\n",
    "# input\n",
    "paramList = ['BMI', 'Smoking', 'AlcoholDrinking', 'Stroke','PhysicalHealth', 'MentalHealth', 'DiffWalking', 'Sex', 'AgeCategory','Race', 'Diabetic', 'PhysicalActivity', 'GenHealth', 'SleepTime','Asthma', 'KidneyDisease', 'SkinCancer']\n",
    "number = [39.81,2,181,95.0,130,90,1,1,1,1,1]\n",
    "\n",
    "x_train,x_test,y_train,y_test = dataset4_preprocessing('Data/dataset_4.csv',paramList,0.15)\n",
    "\n",
    "def one_hot(y_list):\n",
    "    global _oneHot\n",
    "    oneHot = []\n",
    "    for y in y_list:\n",
    "        if y==1:\n",
    "            _oneHot = [1,0]\n",
    "        if y==0:\n",
    "            _oneHot = [0,1]\n",
    "        oneHot.append(_oneHot)\n",
    "    return np.array(oneHot)\n",
    "\n",
    "dataset = tf.data.Dataset.from_tensor_slices((x_train, y_train))\n",
    "dataset = dataset.shuffle(buffer_size=100000)\n",
    "dataset = dataset.batch(batch_size=100000)\n",
    "dataset = dataset.prefetch(buffer_size=tf.data.experimental.AUTOTUNE)\n",
    "\n",
    "\n",
    "model_NN = tf.keras.Sequential([\n",
    "        tf.keras.layers.Dense(64, activation='relu', input_shape=(x_train.shape[1],)),\n",
    "        tf.keras.layers.Dense(32, activation='relu'),\n",
    "        tf.keras.layers.Dense(16, activation='relu'),\n",
    "        tf.keras.layers.Dense(2, activation='softmax')\n",
    "    ])\n",
    "\n",
    "for batch in dataset:\n",
    "    features, labels = batch\n",
    "    labels = one_hot(labels)\n",
    "    early_stopping = tf.keras.callbacks.EarlyStopping(monitor='loss', patience=15, verbose=1, restore_best_weights=True)\n",
    "    model_NN.compile(optimizer='adam', loss='categorical_crossentropy', metrics=['accuracy'])\n",
    "    model_NN.fit(features,labels,epochs=1000,callbacks=[early_stopping])"
   ],
   "metadata": {
    "collapsed": false,
    "ExecuteTime": {
     "end_time": "2023-08-04T03:57:27.763141Z",
     "start_time": "2023-08-04T03:56:16.557619Z"
    }
   },
   "id": "acd5ca14a177e2b5"
  },
  {
   "cell_type": "code",
   "execution_count": 29,
   "outputs": [
    {
     "name": "stdout",
     "output_type": "stream",
     "text": [
      "1/1 [==============================] - 0s 80ms/step\n"
     ]
    },
    {
     "data": {
      "text/plain": "1"
     },
     "execution_count": 29,
     "metadata": {},
     "output_type": "execute_result"
    }
   ],
   "source": [
    "result2 = np.argmax(model_NN.predict([[1,61,1,0,0,0,0,1,0,201,164.5,93.5,27.73,78,95]]))\n",
    "result2"
   ],
   "metadata": {
    "collapsed": false,
    "ExecuteTime": {
     "end_time": "2023-08-04T03:55:58.391353Z",
     "start_time": "2023-08-04T03:55:58.264129Z"
    }
   },
   "id": "c3ebf48bc886e4bf"
  },
  {
   "cell_type": "code",
   "execution_count": 30,
   "outputs": [
    {
     "name": "stdout",
     "output_type": "stream",
     "text": [
      "20/20 [==============================] - 0s 968us/step - loss: 0.4152 - accuracy: 0.8333\n"
     ]
    },
    {
     "data": {
      "text/plain": "[0.41524001955986023, 0.8333333134651184]"
     },
     "execution_count": 30,
     "metadata": {},
     "output_type": "execute_result"
    }
   ],
   "source": [
    "a = model_NN.evaluate(x_test,one_hot(y_test))\n",
    "a"
   ],
   "metadata": {
    "collapsed": false,
    "ExecuteTime": {
     "end_time": "2023-08-04T03:55:59.802925Z",
     "start_time": "2023-08-04T03:55:59.575888Z"
    }
   },
   "id": "b3996c0e7ca319af"
  },
  {
   "cell_type": "code",
   "execution_count": null,
   "outputs": [],
   "source": [],
   "metadata": {
    "collapsed": false
   },
   "id": "d6dd32e05483a842"
  }
 ],
 "metadata": {
  "kernelspec": {
   "display_name": "Python 3",
   "language": "python",
   "name": "python3"
  },
  "language_info": {
   "codemirror_mode": {
    "name": "ipython",
    "version": 2
   },
   "file_extension": ".py",
   "mimetype": "text/x-python",
   "name": "python",
   "nbconvert_exporter": "python",
   "pygments_lexer": "ipython2",
   "version": "2.7.6"
  }
 },
 "nbformat": 4,
 "nbformat_minor": 5
}
