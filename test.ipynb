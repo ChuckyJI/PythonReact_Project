{
 "cells": [
  {
   "cell_type": "code",
   "execution_count": 1,
   "id": "initial_id",
   "metadata": {
    "collapsed": true,
    "ExecuteTime": {
     "end_time": "2023-08-15T12:47:10.769374Z",
     "start_time": "2023-08-15T12:47:08.423159Z"
    }
   },
   "outputs": [],
   "source": [
    "import json\n",
    "import pandas as pd"
   ]
  },
  {
   "cell_type": "code",
   "execution_count": null,
   "outputs": [],
   "source": [
    "df = pd.read_csv('Data/dataset_5.csv')\n",
    "df"
   ],
   "metadata": {
    "collapsed": false
   },
   "id": "834d4273bd4693a9"
  },
  {
   "cell_type": "code",
   "execution_count": null,
   "outputs": [],
   "source": [
    "df.Alcohol_Consumption.unique().tolist()"
   ],
   "metadata": {
    "collapsed": false
   },
   "id": "6d4af9e479d0c166"
  },
  {
   "cell_type": "code",
   "execution_count": null,
   "outputs": [],
   "source": [
    "df.columns"
   ],
   "metadata": {
    "collapsed": false
   },
   "id": "b821e40d1d5468a8"
  },
  {
   "cell_type": "code",
   "execution_count": null,
   "outputs": [],
   "source": [
    "df.describe()"
   ],
   "metadata": {
    "collapsed": false
   },
   "id": "b307f1ca917a7483"
  },
  {
   "cell_type": "code",
   "execution_count": null,
   "outputs": [],
   "source": [
    "df = pd.read_csv('Data/LLCP2021.ASC',header=None)"
   ],
   "metadata": {
    "collapsed": false
   },
   "id": "be5318780f0a4acb"
  },
  {
   "cell_type": "code",
   "execution_count": null,
   "outputs": [],
   "source": [
    "df = pd.read_sas('Data/LLCP2021.XPT')"
   ],
   "metadata": {
    "collapsed": false
   },
   "id": "10399b951578d669"
  },
  {
   "cell_type": "code",
   "execution_count": null,
   "outputs": [],
   "source": [
    "df"
   ],
   "metadata": {
    "collapsed": false
   },
   "id": "f224f793db3ed7d6"
  },
  {
   "cell_type": "code",
   "execution_count": null,
   "outputs": [],
   "source": [
    "df._STATE.unique()"
   ],
   "metadata": {
    "collapsed": false
   },
   "id": "8eeefc9cc3d7f44a"
  },
  {
   "cell_type": "code",
   "execution_count": null,
   "outputs": [],
   "source": [
    "file_path = 'Data/CAMUS/training/patient0001/patient0001_2CH_ED.raw'  # Replace with the path to your raw file\n",
    "\n",
    "try:\n",
    "    with open(file_path, 'rb') as file:\n",
    "        raw_data = file.read()\n",
    "        # Do something with the raw_data, e.g., process or analyze it\n",
    "except FileNotFoundError:\n",
    "    print(f\"File not found: {file_path}\")\n",
    "except Exception as e:\n",
    "    print(f\"An error occurred: {e}\")"
   ],
   "metadata": {
    "collapsed": false
   },
   "id": "2a3a283023750b7d"
  },
  {
   "cell_type": "code",
   "execution_count": null,
   "outputs": [],
   "source": [
    "raw_data"
   ],
   "metadata": {
    "collapsed": false
   },
   "id": "524ecd24335f4101"
  },
  {
   "cell_type": "code",
   "execution_count": 73,
   "outputs": [],
   "source": [
    "a = {'id': 'sampleIDString', 'data': '{\"sex\":0,\"age\":43,\"education\":2,\"currentSmoker\":0,\"cigsPerDay\":0,\"BPMeds\":0,\"prevalentStroke\":0,\"prevalentHyp\":0,\"diabetes\":0,\"chol\":247,\"trestbps\":131,\"diaBP\":88,\"BMI\":27.64,\"thalach\":72,\"glucose\":61,\"KidneyDisease\":1,\"dataType\":\"b\"}', 'model': '[{\"name\":\"svc\",\"kernel\":\"sigmoid\",\"degree\":null}]'}"
   ],
   "metadata": {
    "collapsed": false,
    "ExecuteTime": {
     "end_time": "2023-08-09T15:38:02.400087Z",
     "start_time": "2023-08-09T15:38:02.388742Z"
    }
   },
   "id": "5c3c5477a07af0a8"
  },
  {
   "cell_type": "code",
   "execution_count": 63,
   "outputs": [
    {
     "data": {
      "text/plain": "dict_keys(['sex', 'age', 'education', 'currentSmoker', 'cigsPerDay', 'BPMeds', 'prevalentStroke', 'prevalentHyp', 'diabetes', 'chol', 'trestbps', 'diaBP', 'BMI', 'thalach', 'glucose', 'KidneyDisease'])"
     },
     "execution_count": 63,
     "metadata": {},
     "output_type": "execute_result"
    }
   ],
   "source": [
    "def transformRequest(originalRequest):\n",
    "    jsonstring = eval(originalRequest['data'])\n",
    "    if 'dataType' in jsonstring:\n",
    "        del jsonstring['dataType']\n",
    "    jsonstring = str(jsonstring)\n",
    "    dataType = eval(originalRequest['data'])['dataType']\n",
    "    sampleID = originalRequest['id']\n",
    "    modelist = json.loads(originalRequest['model'])\n",
    "    return jsonstring,dataType,sampleID,modelist\n",
    "js,_,_,_=transformRequest(a)\n",
    "js = js.replace(\"'\",\"\\\"\")\n",
    "js = json.loads(js)\n",
    "js.keys()"
   ],
   "metadata": {
    "collapsed": false,
    "ExecuteTime": {
     "end_time": "2023-08-09T14:57:25.592477Z",
     "start_time": "2023-08-09T14:57:25.586198Z"
    }
   },
   "id": "7511074ec01db4d5"
  },
  {
   "cell_type": "code",
   "execution_count": 86,
   "outputs": [
    {
     "name": "stdout",
     "output_type": "stream",
     "text": [
      "{}\n",
      "None\n",
      "{'tree_method': 'gpu_hist', 'gpu_id': 0}\n"
     ]
    },
    {
     "data": {
      "text/plain": "'[{\"name\":\"svc\",\"kernel\":\"sigmoid\",\"degree\":null}]'"
     },
     "execution_count": 86,
     "metadata": {},
     "output_type": "execute_result"
    }
   ],
   "source": [
    "def deleteName(Object):\n",
    "    if 'name' in Object:\n",
    "        del Object['name']\n",
    "    return Object\n",
    "\n",
    "def testPortfolio(dict):\n",
    "    for value in dict.values():\n",
    "        if isinstance(value, list):\n",
    "            return True\n",
    "        \n",
    "def pickUpList(dict):\n",
    "    outputdic = {}\n",
    "    for key,value in dict.items():\n",
    "        if isinstance(value,list):\n",
    "            value = [float(ele) for ele in value]\n",
    "            outputdic[key] = value\n",
    "    return outputdic\n",
    "\n",
    "\n",
    "for ele in modellist:\n",
    "    modeolist = pickUpList(ele)\n",
    "    print(modeolist)\n",
    "    print(testPortfolio(ele))\n",
    "modeolist['tree_method'] = 'gpu_hist'\n",
    "modeolist['gpu_id'] = 0\n",
    "print(modeolist)\n",
    "a['model']"
   ],
   "metadata": {
    "collapsed": false,
    "ExecuteTime": {
     "end_time": "2023-08-09T15:41:42.352116Z",
     "start_time": "2023-08-09T15:41:42.345838Z"
    }
   },
   "id": "af19168b8adc8cef"
  },
  {
   "cell_type": "code",
   "execution_count": 60,
   "outputs": [
    {
     "data": {
      "text/plain": "'sampleIDString'"
     },
     "execution_count": 60,
     "metadata": {},
     "output_type": "execute_result"
    }
   ],
   "source": [
    "'tree_method': 'gpu_hist', 'gpu_id': 0"
   ],
   "metadata": {
    "collapsed": false,
    "ExecuteTime": {
     "end_time": "2023-08-09T12:52:59.790349Z",
     "start_time": "2023-08-09T12:52:59.778460Z"
    }
   },
   "id": "a5e70242ac2b2369"
  },
  {
   "cell_type": "code",
   "execution_count": 91,
   "outputs": [
    {
     "ename": "SyntaxError",
     "evalue": "'[' was never closed (<string>, line 1)",
     "output_type": "error",
     "traceback": [
      "Traceback \u001B[0;36m(most recent call last)\u001B[0m:\n",
      "\u001B[0m  File \u001B[1;32m~/anaconda3/envs/machineLearning/lib/python3.11/site-packages/IPython/core/interactiveshell.py:3505\u001B[0m in \u001B[1;35mrun_code\u001B[0m\n    exec(code_obj, self.user_global_ns, self.user_ns)\u001B[0m\n",
      "\u001B[0;36m  Cell \u001B[0;32mIn[91], line 1\u001B[0;36m\n\u001B[0;31m    eval(a['model'][0])\u001B[0;36m\n",
      "\u001B[0;36m  File \u001B[0;32m<string>:1\u001B[0;36m\u001B[0m\n\u001B[0;31m    [\u001B[0m\n\u001B[0m    ^\u001B[0m\n\u001B[0;31mSyntaxError\u001B[0m\u001B[0;31m:\u001B[0m '[' was never closed\n"
     ]
    }
   ],
   "source": [],
   "metadata": {
    "collapsed": false,
    "ExecuteTime": {
     "end_time": "2023-08-09T15:42:36.959898Z",
     "start_time": "2023-08-09T15:42:36.957368Z"
    }
   },
   "id": "75cbdf86c8e6ac73"
  },
  {
   "cell_type": "code",
   "execution_count": 70,
   "outputs": [
    {
     "name": "stdout",
     "output_type": "stream",
     "text": [
      "5\n",
      "4\n"
     ]
    }
   ],
   "source": [
    "for i in [\"apple\",\"pear\",\"banana\"]:\n",
    "    if i==\"apple\":\n",
    "        if len(i)==5:\n",
    "            print(5)\n",
    "        else:\n",
    "            print(4)\n",
    "    if i==\"pear\":\n",
    "        if len(i)==5:\n",
    "            print(5)\n",
    "        else:\n",
    "            print(4)"
   ],
   "metadata": {
    "collapsed": false,
    "ExecuteTime": {
     "end_time": "2023-08-09T15:35:16.286108Z",
     "start_time": "2023-08-09T15:35:16.275590Z"
    }
   },
   "id": "1b76287b7b1aea84"
  },
  {
   "cell_type": "code",
   "execution_count": 96,
   "outputs": [],
   "source": [
    "def pickUpList(dict):\n",
    "    outputdic = {}\n",
    "    for key,value in dict.items():\n",
    "        if isinstance(value,list):\n",
    "            value = [  convert_to_number(ele) for ele in value]\n",
    "            outputdic[key] = value\n",
    "    return outputdic"
   ],
   "metadata": {
    "collapsed": false,
    "ExecuteTime": {
     "end_time": "2023-08-09T16:09:17.385529Z",
     "start_time": "2023-08-09T16:09:17.376595Z"
    }
   },
   "id": "28f54780f6f045bd"
  },
  {
   "cell_type": "code",
   "execution_count": 97,
   "outputs": [],
   "source": [
    "def convert_to_number(s):\n",
    "    try:\n",
    "        int_value = int(s)\n",
    "        return int_value\n",
    "    except ValueError:\n",
    "        try:\n",
    "            float_value = float(s)\n",
    "            return float_value\n",
    "        except ValueError:\n",
    "            return s"
   ],
   "metadata": {
    "collapsed": false,
    "ExecuteTime": {
     "end_time": "2023-08-09T16:09:17.804003Z",
     "start_time": "2023-08-09T16:09:17.801935Z"
    }
   },
   "id": "3554618d2522404a"
  },
  {
   "cell_type": "code",
   "execution_count": 98,
   "outputs": [
    {
     "data": {
      "text/plain": "{'a': [4, 6], 'b': [0.3, 0.6]}"
     },
     "execution_count": 98,
     "metadata": {},
     "output_type": "execute_result"
    }
   ],
   "source": [
    "pickUpList({\"a\":[\"4\",\"6\"],\"b\":[\"0.3\",\"0.6\"]})\n"
   ],
   "metadata": {
    "collapsed": false,
    "ExecuteTime": {
     "end_time": "2023-08-09T16:09:18.757747Z",
     "start_time": "2023-08-09T16:09:18.747900Z"
    }
   },
   "id": "282feacb35d4b7a2"
  },
  {
   "cell_type": "code",
   "execution_count": 1,
   "outputs": [],
   "source": [
    "from xgboost import XGBClassifier\n",
    "from lightgbm import LGBMClassifier\n",
    "# read data\n",
    "from sklearn.datasets import load_iris\n",
    "from sklearn.model_selection import train_test_split\n",
    "data = load_iris()\n",
    "X_train, X_test, y_train, y_test = train_test_split(data['data'], data['target'], test_size=.2)\n",
    "# create model instance\n"
   ],
   "metadata": {
    "collapsed": false,
    "ExecuteTime": {
     "end_time": "2023-08-09T23:41:49.054211Z",
     "start_time": "2023-08-09T23:41:46.707626Z"
    }
   },
   "id": "d89032efa5a48208"
  },
  {
   "cell_type": "code",
   "execution_count": 2,
   "outputs": [],
   "source": [
    "bst = LGBMClassifier(n_estimators=2, max_depth=2, learning_rate=1, objective='binary:logistic')\n",
    "# fit model\n"
   ],
   "metadata": {
    "collapsed": false,
    "ExecuteTime": {
     "end_time": "2023-08-09T23:41:52.833751Z",
     "start_time": "2023-08-09T23:41:52.825756Z"
    }
   },
   "id": "d7f50c6160aedb20"
  },
  {
   "cell_type": "code",
   "execution_count": null,
   "outputs": [],
   "source": [
    "bst.fit(X_train, y_train)\n"
   ],
   "metadata": {
    "collapsed": false,
    "is_executing": true,
    "ExecuteTime": {
     "start_time": "2023-08-09T23:41:55.163217Z"
    }
   },
   "id": "6bcd3202f8bf50c3"
  },
  {
   "cell_type": "code",
   "execution_count": null,
   "outputs": [],
   "source": [
    "# make predictions\n",
    "preds = bst.predict(X_test)"
   ],
   "metadata": {
    "collapsed": false
   },
   "id": "d9e75776604d3c08"
  },
  {
   "cell_type": "code",
   "execution_count": 2,
   "outputs": [],
   "source": [
    "ele = {'earlyShopingStep': 15, 'epochs': 274, 'layer': {'users': [{'function': 'relu', 'layers': '120'}, {'function': 'relu', 'layers': '60'}]}, 'lossFunciton': 'categorical_crossentropy', 'name': 'NN', 'optimizer': 'Adam'}"
   ],
   "metadata": {
    "collapsed": false,
    "ExecuteTime": {
     "end_time": "2023-08-11T10:20:45.974108Z",
     "start_time": "2023-08-11T10:20:45.940572Z"
    }
   },
   "id": "10d27cfa392dbd6a"
  },
  {
   "cell_type": "code",
   "execution_count": 7,
   "outputs": [
    {
     "data": {
      "text/plain": "'categorical_crossentropy'"
     },
     "execution_count": 7,
     "metadata": {},
     "output_type": "execute_result"
    }
   ],
   "source": [
    "ele['lossFunciton']\n"
   ],
   "metadata": {
    "collapsed": false,
    "ExecuteTime": {
     "end_time": "2023-08-11T10:26:05.896869Z",
     "start_time": "2023-08-11T10:26:05.880173Z"
    }
   },
   "id": "26e4a771fa8c4779"
  },
  {
   "cell_type": "code",
   "execution_count": 9,
   "outputs": [
    {
     "data": {
      "text/plain": "array([0])"
     },
     "execution_count": 9,
     "metadata": {},
     "output_type": "execute_result"
    }
   ],
   "source": [
    "import numpy\n",
    "\n",
    "a = [0]\n",
    "numpy.array(a)"
   ],
   "metadata": {
    "collapsed": false,
    "ExecuteTime": {
     "end_time": "2023-08-11T10:49:24.468904Z",
     "start_time": "2023-08-11T10:49:24.456695Z"
    }
   },
   "id": "e98ec5bb3a8f34b7"
  },
  {
   "cell_type": "code",
   "execution_count": 10,
   "outputs": [
    {
     "name": "stdout",
     "output_type": "stream",
     "text": [
      "[0]\n"
     ]
    }
   ],
   "source": [
    "print(numpy.array(a))"
   ],
   "metadata": {
    "collapsed": false,
    "ExecuteTime": {
     "end_time": "2023-08-11T10:49:34.287056Z",
     "start_time": "2023-08-11T10:49:34.254797Z"
    }
   },
   "id": "b5f23619cb1966b0"
  },
  {
   "cell_type": "code",
   "execution_count": 12,
   "outputs": [
    {
     "data": {
      "text/plain": "0"
     },
     "execution_count": 12,
     "metadata": {},
     "output_type": "execute_result"
    }
   ],
   "source": [
    "a = [0]\n",
    "a[0]"
   ],
   "metadata": {
    "collapsed": false,
    "ExecuteTime": {
     "end_time": "2023-08-11T10:51:34.794633Z",
     "start_time": "2023-08-11T10:51:34.780015Z"
    }
   },
   "id": "98f9b96e3e82fabe"
  },
  {
   "cell_type": "code",
   "execution_count": 23,
   "outputs": [],
   "source": [
    "data = {'result': [0], 'resultList': [0.8349056839942932], 'numberOfDataset': 2, 'paramsList': [{'epochs': 274, 'earlyShopingStep': 15, 'layer': {'users': [{'layers': '120', 'function': 'relu'}, {'layers': '60', 'function': 'relu'}]}, 'optimizer': 'Adam', 'lossFunciton': 'categorical_crossentropy', 'name': 'NN'}], 'sampleID': 'b4eaa77009d74da4b1eef2d736cd0f81', 'name': ['Neural Network'], 'jsonString': \"{'BPMeds': 0, 'thalach': 72, 'trestbps': 131, 'age': 43, 'sex': 0, 'diaBP': 88, 'prevalentStroke': 0, 'KidneyDisease': 1, 'prevalentHyp': 0}\"}"
   ],
   "metadata": {
    "collapsed": false,
    "ExecuteTime": {
     "end_time": "2023-08-11T11:01:42.306195Z",
     "start_time": "2023-08-11T11:01:42.288413Z"
    }
   },
   "id": "242ac4054db687ce"
  },
  {
   "cell_type": "code",
   "execution_count": 26,
   "outputs": [
    {
     "data": {
      "text/plain": "'Neural Network'"
     },
     "execution_count": 26,
     "metadata": {},
     "output_type": "execute_result"
    }
   ],
   "source": [
    "data['name'][0]"
   ],
   "metadata": {
    "collapsed": false,
    "ExecuteTime": {
     "end_time": "2023-08-11T11:02:00.332400Z",
     "start_time": "2023-08-11T11:02:00.315837Z"
    }
   },
   "id": "a19e87d531bf2fd1"
  },
  {
   "cell_type": "code",
   "execution_count": 22,
   "outputs": [
    {
     "data": {
      "text/plain": "'9860ad11f76846cbb9a5f61492eee729'"
     },
     "execution_count": 22,
     "metadata": {},
     "output_type": "execute_result"
    }
   ],
   "source": [
    "a.hex"
   ],
   "metadata": {
    "collapsed": false,
    "ExecuteTime": {
     "end_time": "2023-08-11T11:00:22.342227Z",
     "start_time": "2023-08-11T11:00:22.327293Z"
    }
   },
   "id": "94645d47c1cea5cc"
  },
  {
   "cell_type": "code",
   "execution_count": 27,
   "outputs": [
    {
     "data": {
      "text/plain": "0"
     },
     "execution_count": 27,
     "metadata": {},
     "output_type": "execute_result"
    }
   ],
   "source": [
    "from numpy import array\n",
    "\n",
    "a = array([0])\n",
    "a[0]"
   ],
   "metadata": {
    "collapsed": false,
    "ExecuteTime": {
     "end_time": "2023-08-11T11:17:28.235510Z",
     "start_time": "2023-08-11T11:17:28.190901Z"
    }
   },
   "id": "9d96f4e3793e6886"
  },
  {
   "cell_type": "code",
   "execution_count": 47,
   "outputs": [],
   "source": [
    "a = {'result': [array([1]), 1], 'resultList': [0.6222222222222222, 0.5777778029441833], 'numberOfDataset': 1, 'paramsList': [{'n_estimators': 269, 'max_depth': 3, 'n_jobs': -1, 'name': 'randomForest'}, {'epochs': 274, 'earlyStopingStep': 10, 'layer': {'users': [{'layers': '180', 'function': 'relu'}, {'layers': '10', 'function': 'relu'}]}, 'optimizer': 'Adam', 'lossFunciton': 'categorical_crossentropy', 'name': 'NN'}], 'sampleID': '851a7ef88420434bbadf8fe02528f7b3', 'name': ['Random Forest', 'Neural Network'], 'jsonString': \"{'sex': 0, 'chol': 247, 'thalach': 72, 'education': 2}\"}\n"
   ],
   "metadata": {
    "collapsed": false,
    "ExecuteTime": {
     "end_time": "2023-08-11T11:34:10.978051Z",
     "start_time": "2023-08-11T11:34:10.963465Z"
    }
   },
   "id": "7d5f105815446e24"
  },
  {
   "cell_type": "code",
   "execution_count": 48,
   "outputs": [
    {
     "data": {
      "text/plain": "1"
     },
     "execution_count": 48,
     "metadata": {},
     "output_type": "execute_result"
    }
   ],
   "source": [
    "result = 0\n",
    "for i in range(len(a['name'])):\n",
    "    if a['name'][i] == 'Neural Network':\n",
    "        result += a['result'][i]\n",
    "    else:\n",
    "        result += int(a['result'][i])\n",
    "\n",
    "if result != 0:\n",
    "    output = 1\n",
    "else:\n",
    "    output = 0\n",
    "output"
   ],
   "metadata": {
    "collapsed": false,
    "ExecuteTime": {
     "end_time": "2023-08-11T11:34:11.494479Z",
     "start_time": "2023-08-11T11:34:11.483548Z"
    }
   },
   "id": "5e50532666f872e9"
  },
  {
   "cell_type": "code",
   "execution_count": 49,
   "outputs": [],
   "source": [
    "def dataset2_preprocessing(file_path, paramList, test_size):\n",
    "    df = pd.read_csv(file_path)\n",
    "    df.loc[df['TenYearCHD'] == 1, 'education'] = df.loc[df['TenYearCHD'] == 1, 'education'].fillna(\n",
    "        df.loc[df['TenYearCHD'] == 1, 'education'].mode()[0])\n",
    "    df.loc[df['TenYearCHD'] == 0, 'education'] = df.loc[df['TenYearCHD'] == 0, 'education'].fillna(\n",
    "        df.loc[df['TenYearCHD'] == 0, 'education'].mode()[0])\n",
    "    df.loc[df['TenYearCHD'] == 1, 'cigsPerDay'] = df.loc[df['TenYearCHD'] == 1, 'cigsPerDay'].fillna(\n",
    "        df.loc[df['TenYearCHD'] == 1, 'cigsPerDay'].mean())\n",
    "    df.loc[df['TenYearCHD'] == 0, 'cigsPerDay'] = df.loc[df['TenYearCHD'] == 0, 'cigsPerDay'].fillna(\n",
    "        df.loc[df['TenYearCHD'] == 0, 'cigsPerDay'].mean())\n",
    "    df.loc[df['TenYearCHD'] == 1, 'BPMeds'] = df.loc[df['TenYearCHD'] == 1, 'BPMeds'].fillna(\n",
    "        df.loc[df['TenYearCHD'] == 1, 'BPMeds'].mode()[0])\n",
    "    df.loc[df['TenYearCHD'] == 0, 'BPMeds'] = df.loc[df['TenYearCHD'] == 0, 'BPMeds'].fillna(\n",
    "        df.loc[df['TenYearCHD'] == 0, 'BPMeds'].mode()[0])\n",
    "    df.loc[df['TenYearCHD'] == 1, 'totChol'] = df.loc[df['TenYearCHD'] == 1, 'totChol'].fillna(\n",
    "        df.loc[df['TenYearCHD'] == 1, 'totChol'].mean())\n",
    "    df.loc[df['TenYearCHD'] == 0, 'totChol'] = df.loc[df['TenYearCHD'] == 0, 'totChol'].fillna(\n",
    "        df.loc[df['TenYearCHD'] == 0, 'totChol'].mean())\n",
    "    df.loc[df['TenYearCHD'] == 1, 'BMI'] = df.loc[df['TenYearCHD'] == 1, 'BMI'].fillna(\n",
    "        df.loc[df['TenYearCHD'] == 1, 'BMI'].mean())\n",
    "    df.loc[df['TenYearCHD'] == 0, 'BMI'] = df.loc[df['TenYearCHD'] == 0, 'BMI'].fillna(\n",
    "        df.loc[df['TenYearCHD'] == 0, 'BMI'].mean())\n",
    "    df.loc[df['TenYearCHD'] == 1, 'heartRate'] = df.loc[df['TenYearCHD'] == 1, 'heartRate'].fillna(\n",
    "        df.loc[df['TenYearCHD'] == 1, 'heartRate'].mean())\n",
    "    df.loc[df['TenYearCHD'] == 0, 'heartRate'] = df.loc[df['TenYearCHD'] == 0, 'heartRate'].fillna(\n",
    "        df.loc[df['TenYearCHD'] == 0, 'heartRate'].mean())\n",
    "    df.loc[df['TenYearCHD'] == 1, 'glucose'] = df.loc[df['TenYearCHD'] == 1, 'glucose'].fillna(\n",
    "        df.loc[df['TenYearCHD'] == 1, 'glucose'].mean())\n",
    "    df.loc[df['TenYearCHD'] == 0, 'glucose'] = df.loc[df['TenYearCHD'] == 0, 'glucose'].fillna(\n",
    "        df.loc[df['TenYearCHD'] == 0, 'glucose'].mean())\n",
    "    df.rename(columns={'totChol': 'chol', 'sysBP': 'trestbps', 'heartRate': 'thalach'}, inplace=True)\n",
    "    X = df[paramList]\n",
    "    Y = df.TenYearCHD\n",
    "    x_train, x_test, y_train, y_test = train_test_split(X, Y, test_size=test_size)\n",
    "    return x_train, x_test, y_train, y_test"
   ],
   "metadata": {
    "collapsed": false,
    "ExecuteTime": {
     "end_time": "2023-08-11T11:47:52.410472Z",
     "start_time": "2023-08-11T11:47:52.346907Z"
    }
   },
   "id": "ce7bd9e36b2fb628"
  },
  {
   "cell_type": "code",
   "execution_count": 51,
   "outputs": [
    {
     "ename": "KeyError",
     "evalue": "\"['sex'] not in index\"",
     "output_type": "error",
     "traceback": [
      "\u001B[0;31m---------------------------------------------------------------------------\u001B[0m",
      "\u001B[0;31mKeyError\u001B[0m                                  Traceback (most recent call last)",
      "Cell \u001B[0;32mIn[51], line 1\u001B[0m\n\u001B[0;32m----> 1\u001B[0m dataset2_preprocessing(\u001B[38;5;124m'\u001B[39m\u001B[38;5;124mData/dataset_2.csv\u001B[39m\u001B[38;5;124m'\u001B[39m,[\u001B[38;5;124m'\u001B[39m\u001B[38;5;124msex\u001B[39m\u001B[38;5;124m'\u001B[39m,\u001B[38;5;124m'\u001B[39m\u001B[38;5;124mchol\u001B[39m\u001B[38;5;124m'\u001B[39m,\u001B[38;5;124m'\u001B[39m\u001B[38;5;124meducation\u001B[39m\u001B[38;5;124m'\u001B[39m,\u001B[38;5;124m'\u001B[39m\u001B[38;5;124mthalach\u001B[39m\u001B[38;5;124m'\u001B[39m],\u001B[38;5;241m0.15\u001B[39m)\n",
      "Cell \u001B[0;32mIn[49], line 32\u001B[0m, in \u001B[0;36mdataset2_preprocessing\u001B[0;34m(file_path, paramList, test_size)\u001B[0m\n\u001B[1;32m     29\u001B[0m df\u001B[38;5;241m.\u001B[39mloc[df[\u001B[38;5;124m'\u001B[39m\u001B[38;5;124mTenYearCHD\u001B[39m\u001B[38;5;124m'\u001B[39m] \u001B[38;5;241m==\u001B[39m \u001B[38;5;241m0\u001B[39m, \u001B[38;5;124m'\u001B[39m\u001B[38;5;124mglucose\u001B[39m\u001B[38;5;124m'\u001B[39m] \u001B[38;5;241m=\u001B[39m df\u001B[38;5;241m.\u001B[39mloc[df[\u001B[38;5;124m'\u001B[39m\u001B[38;5;124mTenYearCHD\u001B[39m\u001B[38;5;124m'\u001B[39m] \u001B[38;5;241m==\u001B[39m \u001B[38;5;241m0\u001B[39m, \u001B[38;5;124m'\u001B[39m\u001B[38;5;124mglucose\u001B[39m\u001B[38;5;124m'\u001B[39m]\u001B[38;5;241m.\u001B[39mfillna(\n\u001B[1;32m     30\u001B[0m     df\u001B[38;5;241m.\u001B[39mloc[df[\u001B[38;5;124m'\u001B[39m\u001B[38;5;124mTenYearCHD\u001B[39m\u001B[38;5;124m'\u001B[39m] \u001B[38;5;241m==\u001B[39m \u001B[38;5;241m0\u001B[39m, \u001B[38;5;124m'\u001B[39m\u001B[38;5;124mglucose\u001B[39m\u001B[38;5;124m'\u001B[39m]\u001B[38;5;241m.\u001B[39mmean())\n\u001B[1;32m     31\u001B[0m df\u001B[38;5;241m.\u001B[39mrename(columns\u001B[38;5;241m=\u001B[39m{\u001B[38;5;124m'\u001B[39m\u001B[38;5;124mtotChol\u001B[39m\u001B[38;5;124m'\u001B[39m: \u001B[38;5;124m'\u001B[39m\u001B[38;5;124mchol\u001B[39m\u001B[38;5;124m'\u001B[39m, \u001B[38;5;124m'\u001B[39m\u001B[38;5;124msysBP\u001B[39m\u001B[38;5;124m'\u001B[39m: \u001B[38;5;124m'\u001B[39m\u001B[38;5;124mtrestbps\u001B[39m\u001B[38;5;124m'\u001B[39m, \u001B[38;5;124m'\u001B[39m\u001B[38;5;124mheartRate\u001B[39m\u001B[38;5;124m'\u001B[39m: \u001B[38;5;124m'\u001B[39m\u001B[38;5;124mthalach\u001B[39m\u001B[38;5;124m'\u001B[39m}, inplace\u001B[38;5;241m=\u001B[39m\u001B[38;5;28;01mTrue\u001B[39;00m)\n\u001B[0;32m---> 32\u001B[0m X \u001B[38;5;241m=\u001B[39m df[paramList]\n\u001B[1;32m     33\u001B[0m Y \u001B[38;5;241m=\u001B[39m df\u001B[38;5;241m.\u001B[39mTenYearCHD\n\u001B[1;32m     34\u001B[0m x_train, x_test, y_train, y_test \u001B[38;5;241m=\u001B[39m train_test_split(X, Y, test_size\u001B[38;5;241m=\u001B[39mtest_size)\n",
      "File \u001B[0;32m~/anaconda3/envs/machineLearning/lib/python3.11/site-packages/pandas/core/frame.py:3813\u001B[0m, in \u001B[0;36mDataFrame.__getitem__\u001B[0;34m(self, key)\u001B[0m\n\u001B[1;32m   3811\u001B[0m     \u001B[38;5;28;01mif\u001B[39;00m is_iterator(key):\n\u001B[1;32m   3812\u001B[0m         key \u001B[38;5;241m=\u001B[39m \u001B[38;5;28mlist\u001B[39m(key)\n\u001B[0;32m-> 3813\u001B[0m     indexer \u001B[38;5;241m=\u001B[39m \u001B[38;5;28mself\u001B[39m\u001B[38;5;241m.\u001B[39mcolumns\u001B[38;5;241m.\u001B[39m_get_indexer_strict(key, \u001B[38;5;124m\"\u001B[39m\u001B[38;5;124mcolumns\u001B[39m\u001B[38;5;124m\"\u001B[39m)[\u001B[38;5;241m1\u001B[39m]\n\u001B[1;32m   3815\u001B[0m \u001B[38;5;66;03m# take() does not accept boolean indexers\u001B[39;00m\n\u001B[1;32m   3816\u001B[0m \u001B[38;5;28;01mif\u001B[39;00m \u001B[38;5;28mgetattr\u001B[39m(indexer, \u001B[38;5;124m\"\u001B[39m\u001B[38;5;124mdtype\u001B[39m\u001B[38;5;124m\"\u001B[39m, \u001B[38;5;28;01mNone\u001B[39;00m) \u001B[38;5;241m==\u001B[39m \u001B[38;5;28mbool\u001B[39m:\n",
      "File \u001B[0;32m~/anaconda3/envs/machineLearning/lib/python3.11/site-packages/pandas/core/indexes/base.py:6070\u001B[0m, in \u001B[0;36mIndex._get_indexer_strict\u001B[0;34m(self, key, axis_name)\u001B[0m\n\u001B[1;32m   6067\u001B[0m \u001B[38;5;28;01melse\u001B[39;00m:\n\u001B[1;32m   6068\u001B[0m     keyarr, indexer, new_indexer \u001B[38;5;241m=\u001B[39m \u001B[38;5;28mself\u001B[39m\u001B[38;5;241m.\u001B[39m_reindex_non_unique(keyarr)\n\u001B[0;32m-> 6070\u001B[0m \u001B[38;5;28mself\u001B[39m\u001B[38;5;241m.\u001B[39m_raise_if_missing(keyarr, indexer, axis_name)\n\u001B[1;32m   6072\u001B[0m keyarr \u001B[38;5;241m=\u001B[39m \u001B[38;5;28mself\u001B[39m\u001B[38;5;241m.\u001B[39mtake(indexer)\n\u001B[1;32m   6073\u001B[0m \u001B[38;5;28;01mif\u001B[39;00m \u001B[38;5;28misinstance\u001B[39m(key, Index):\n\u001B[1;32m   6074\u001B[0m     \u001B[38;5;66;03m# GH 42790 - Preserve name from an Index\u001B[39;00m\n",
      "File \u001B[0;32m~/anaconda3/envs/machineLearning/lib/python3.11/site-packages/pandas/core/indexes/base.py:6133\u001B[0m, in \u001B[0;36mIndex._raise_if_missing\u001B[0;34m(self, key, indexer, axis_name)\u001B[0m\n\u001B[1;32m   6130\u001B[0m     \u001B[38;5;28;01mraise\u001B[39;00m \u001B[38;5;167;01mKeyError\u001B[39;00m(\u001B[38;5;124mf\u001B[39m\u001B[38;5;124m\"\u001B[39m\u001B[38;5;124mNone of [\u001B[39m\u001B[38;5;132;01m{\u001B[39;00mkey\u001B[38;5;132;01m}\u001B[39;00m\u001B[38;5;124m] are in the [\u001B[39m\u001B[38;5;132;01m{\u001B[39;00maxis_name\u001B[38;5;132;01m}\u001B[39;00m\u001B[38;5;124m]\u001B[39m\u001B[38;5;124m\"\u001B[39m)\n\u001B[1;32m   6132\u001B[0m not_found \u001B[38;5;241m=\u001B[39m \u001B[38;5;28mlist\u001B[39m(ensure_index(key)[missing_mask\u001B[38;5;241m.\u001B[39mnonzero()[\u001B[38;5;241m0\u001B[39m]]\u001B[38;5;241m.\u001B[39munique())\n\u001B[0;32m-> 6133\u001B[0m \u001B[38;5;28;01mraise\u001B[39;00m \u001B[38;5;167;01mKeyError\u001B[39;00m(\u001B[38;5;124mf\u001B[39m\u001B[38;5;124m\"\u001B[39m\u001B[38;5;132;01m{\u001B[39;00mnot_found\u001B[38;5;132;01m}\u001B[39;00m\u001B[38;5;124m not in index\u001B[39m\u001B[38;5;124m\"\u001B[39m)\n",
      "\u001B[0;31mKeyError\u001B[0m: \"['sex'] not in index\""
     ]
    }
   ],
   "source": [
    "dataset2_preprocessing('Data/dataset_2.csv',['sex','chol','education','thalach'],0.15)"
   ],
   "metadata": {
    "collapsed": false,
    "ExecuteTime": {
     "end_time": "2023-08-11T11:49:51.555930Z",
     "start_time": "2023-08-11T11:49:51.411502Z"
    }
   },
   "id": "7fdbad392b1a694e"
  },
  {
   "cell_type": "code",
   "execution_count": 2,
   "outputs": [],
   "source": [
    "a = {'id': 'sampleIDString', 'data': '{\"data\":\"{\\'sex\\': 0, \\'age\\': 43, \\'education\\': 2, \\'currentSmoker\\': 0, \\'cigsPerDay\\': 0, \\'BPMeds\\': 0, \\'prevalentStroke\\': 0, \\'prevalentHyp\\': 0, \\'diabetes\\': 0, \\'chol\\': 247, \\'trestbps\\': 131, \\'diaBP\\': 88, \\'BMI\\': 27.64, \\'thalach\\': 72, \\'glucose\\': 61, \\'KidneyDisease\\': 1 ,\\'dataType\\':3}\",\"process\":0.5}', 'model': '[{\"name\":\"logistic\",\"n_jobs\":1,\"max_iter\":100}]'}\n"
   ],
   "metadata": {
    "collapsed": false,
    "ExecuteTime": {
     "end_time": "2023-08-15T12:47:22.812297Z",
     "start_time": "2023-08-15T12:47:22.737501Z"
    }
   },
   "id": "bdf2415b7e115f46"
  },
  {
   "cell_type": "code",
   "execution_count": 3,
   "outputs": [],
   "source": [
    "def transformRequest(originalRequest):\n",
    "    jsonstring = eval(originalRequest['data'])\n",
    "    if 'dataType' in jsonstring:\n",
    "        del jsonstring['dataType']\n",
    "    jsonstring = str(jsonstring)\n",
    "    dataType = eval(originalRequest['data'])['dataType']\n",
    "    # sampleID = originalRequest['id']\n",
    "    sampleID = \"1111\"\n",
    "    modelist = json.loads(originalRequest['model'])\n",
    "    return jsonstring,dataType,sampleID,modelist"
   ],
   "metadata": {
    "collapsed": false,
    "ExecuteTime": {
     "end_time": "2023-08-15T12:47:23.937156Z",
     "start_time": "2023-08-15T12:47:23.798157Z"
    }
   },
   "id": "f6ecf09852927876"
  },
  {
   "cell_type": "code",
   "execution_count": 4,
   "outputs": [
    {
     "ename": "KeyError",
     "evalue": "'dataType'",
     "output_type": "error",
     "traceback": [
      "\u001B[0;31m---------------------------------------------------------------------------\u001B[0m",
      "\u001B[0;31mKeyError\u001B[0m                                  Traceback (most recent call last)",
      "Cell \u001B[0;32mIn[4], line 1\u001B[0m\n\u001B[0;32m----> 1\u001B[0m transformRequest(a)\n",
      "Cell \u001B[0;32mIn[3], line 6\u001B[0m, in \u001B[0;36mtransformRequest\u001B[0;34m(originalRequest)\u001B[0m\n\u001B[1;32m      4\u001B[0m     \u001B[38;5;28;01mdel\u001B[39;00m jsonstring[\u001B[38;5;124m'\u001B[39m\u001B[38;5;124mdataType\u001B[39m\u001B[38;5;124m'\u001B[39m]\n\u001B[1;32m      5\u001B[0m jsonstring \u001B[38;5;241m=\u001B[39m \u001B[38;5;28mstr\u001B[39m(jsonstring)\n\u001B[0;32m----> 6\u001B[0m dataType \u001B[38;5;241m=\u001B[39m \u001B[38;5;28meval\u001B[39m(originalRequest[\u001B[38;5;124m'\u001B[39m\u001B[38;5;124mdata\u001B[39m\u001B[38;5;124m'\u001B[39m])[\u001B[38;5;124m'\u001B[39m\u001B[38;5;124mdataType\u001B[39m\u001B[38;5;124m'\u001B[39m]\n\u001B[1;32m      7\u001B[0m \u001B[38;5;66;03m# sampleID = originalRequest['id']\u001B[39;00m\n\u001B[1;32m      8\u001B[0m sampleID \u001B[38;5;241m=\u001B[39m uuid\u001B[38;5;241m.\u001B[39muuid4()\u001B[38;5;241m.\u001B[39mhex\n",
      "\u001B[0;31mKeyError\u001B[0m: 'dataType'"
     ]
    }
   ],
   "source": [
    "transformRequest(a)"
   ],
   "metadata": {
    "collapsed": false,
    "ExecuteTime": {
     "end_time": "2023-08-15T12:47:43.714883Z",
     "start_time": "2023-08-15T12:47:42.865925Z"
    }
   },
   "id": "c38bbf7ab8bea980"
  },
  {
   "cell_type": "code",
   "execution_count": 8,
   "outputs": [
    {
     "data": {
      "text/plain": "{'data': \"{'sex': 0, 'age': 43, 'education': 2, 'currentSmoker': 0, 'cigsPerDay': 0, 'BPMeds': 0, 'prevalentStroke': 0, 'prevalentHyp': 0, 'diabetes': 0, 'chol': 247, 'trestbps': 131, 'diaBP': 88, 'BMI': 27.64, 'thalach': 72, 'glucose': 61, 'KidneyDisease': 1 ,'dataType':3}\",\n 'process': 0.5}"
     },
     "execution_count": 8,
     "metadata": {},
     "output_type": "execute_result"
    }
   ],
   "source": [
    " jsonstring = eval(a['data'])\n",
    "jsonstring"
   ],
   "metadata": {
    "collapsed": false,
    "ExecuteTime": {
     "end_time": "2023-08-15T12:48:30.399497Z",
     "start_time": "2023-08-15T12:48:30.376364Z"
    }
   },
   "id": "8af903db785a68d4"
  },
  {
   "cell_type": "code",
   "execution_count": 9,
   "outputs": [],
   "source": [
    "if 'dataType' in jsonstring:\n",
    "        del jsonstring['dataType']"
   ],
   "metadata": {
    "collapsed": false,
    "ExecuteTime": {
     "end_time": "2023-08-15T12:48:47.104467Z",
     "start_time": "2023-08-15T12:48:47.066460Z"
    }
   },
   "id": "32056a08e89ecf1f"
  },
  {
   "cell_type": "code",
   "execution_count": 11,
   "outputs": [
    {
     "data": {
      "text/plain": "'{\\'data\\': \"{\\'sex\\': 0, \\'age\\': 43, \\'education\\': 2, \\'currentSmoker\\': 0, \\'cigsPerDay\\': 0, \\'BPMeds\\': 0, \\'prevalentStroke\\': 0, \\'prevalentHyp\\': 0, \\'diabetes\\': 0, \\'chol\\': 247, \\'trestbps\\': 131, \\'diaBP\\': 88, \\'BMI\\': 27.64, \\'thalach\\': 72, \\'glucose\\': 61, \\'KidneyDisease\\': 1 ,\\'dataType\\':3}\", \\'process\\': 0.5}'"
     },
     "execution_count": 11,
     "metadata": {},
     "output_type": "execute_result"
    }
   ],
   "source": [
    "jsonstring = str(jsonstring)\n",
    "jsonstring"
   ],
   "metadata": {
    "collapsed": false,
    "ExecuteTime": {
     "end_time": "2023-08-15T12:49:23.805926Z",
     "start_time": "2023-08-15T12:49:23.790478Z"
    }
   },
   "id": "1cd75465a99a0e54"
  },
  {
   "cell_type": "code",
   "execution_count": 13,
   "outputs": [
    {
     "ename": "KeyError",
     "evalue": "'dataType'",
     "output_type": "error",
     "traceback": [
      "\u001B[0;31m---------------------------------------------------------------------------\u001B[0m",
      "\u001B[0;31mKeyError\u001B[0m                                  Traceback (most recent call last)",
      "Cell \u001B[0;32mIn[13], line 1\u001B[0m\n\u001B[0;32m----> 1\u001B[0m dataType \u001B[38;5;241m=\u001B[39m \u001B[38;5;28meval\u001B[39m(a[\u001B[38;5;124m'\u001B[39m\u001B[38;5;124mdata\u001B[39m\u001B[38;5;124m'\u001B[39m])[\u001B[38;5;124m'\u001B[39m\u001B[38;5;124mdataType\u001B[39m\u001B[38;5;124m'\u001B[39m]\n",
      "\u001B[0;31mKeyError\u001B[0m: 'dataType'"
     ]
    }
   ],
   "source": [
    " dataType = eval(a['data'])['dataType']"
   ],
   "metadata": {
    "collapsed": false,
    "ExecuteTime": {
     "end_time": "2023-08-15T12:49:38.706142Z",
     "start_time": "2023-08-15T12:49:38.654227Z"
    }
   },
   "id": "4d2e4af27bfb3f6"
  },
  {
   "cell_type": "code",
   "execution_count": 68,
   "outputs": [],
   "source": [
    "import pandas as pd\n",
    "from sklearn.model_selection import train_test_split\n",
    "from sklearn.linear_model import LogisticRegression"
   ],
   "metadata": {
    "collapsed": false,
    "ExecuteTime": {
     "end_time": "2023-08-18T00:12:01.442933Z",
     "start_time": "2023-08-18T00:12:01.424872Z"
    }
   },
   "id": "756a1a33071d4da4"
  },
  {
   "cell_type": "code",
   "execution_count": 97,
   "outputs": [],
   "source": [
    "df = pd.read_csv('Data/dataset_3.csv',sep=';')"
   ],
   "metadata": {
    "collapsed": false,
    "ExecuteTime": {
     "end_time": "2023-08-18T00:36:44.120131Z",
     "start_time": "2023-08-18T00:36:44.027704Z"
    }
   },
   "id": "1d78d04455a564f1"
  },
  {
   "cell_type": "code",
   "execution_count": 98,
   "outputs": [],
   "source": [
    "df.age = round(df.age / 365, 0)\n",
    "df.loc[df['gluc'] == 1, 'gluc'] = 0\n",
    "df.loc[df['gluc'] == 2, 'gluc'] = 1\n",
    "df.loc[df['gluc'] == 3, 'gluc'] = 1\n",
    "df.loc[df['gender'] == 2, 'gender'] = 1\n",
    "df.loc[df['gender'] == 1, 'gender'] = 0"
   ],
   "metadata": {
    "collapsed": false,
    "ExecuteTime": {
     "end_time": "2023-08-18T00:36:45.763918Z",
     "start_time": "2023-08-18T00:36:45.739339Z"
    }
   },
   "id": "5f0793c87e93d9de"
  },
  {
   "cell_type": "code",
   "execution_count": 99,
   "outputs": [],
   "source": [
    "X = df.drop('cardio',axis=1)\n",
    "Y = df.cardio"
   ],
   "metadata": {
    "collapsed": false,
    "ExecuteTime": {
     "end_time": "2023-08-18T00:37:05.248901Z",
     "start_time": "2023-08-18T00:37:05.228298Z"
    }
   },
   "id": "8f8f348d8d21c407"
  },
  {
   "cell_type": "code",
   "execution_count": 88,
   "outputs": [
    {
     "data": {
      "text/plain": "        General_Health  Checkup  Exercise  Heart_Disease  Skin_Cancer  \\\n0                    1        2         0              0            0   \n1                    4        1         0              1            0   \n2                    4        1         1              0            0   \n3                    1        1         1              1            0   \n4                    3        1         0              0            0   \n...                ...      ...       ...            ...          ...   \n308849               4        1         1              0            0   \n308850               2        3         1              0            0   \n308851               4        4         1              0            0   \n308852               4        1         1              0            0   \n308853               5        1         1              0            0   \n\n        Other_Cancer  Depression  Diabetes  Arthritis  Sex  Age_Category  \\\n0                  0           0         0          1    0            72   \n1                  0           0         1          0    0            72   \n2                  0           0         1          0    0            62   \n3                  0           0         1          0    1            77   \n4                  0           0         0          0    1            82   \n...              ...         ...       ...        ...  ...           ...   \n308849             0           0         0          0    1            27   \n308850             0           0         1          0    1            67   \n308851             0           1         1          0    0            32   \n308852             0           0         0          0    1            67   \n308853             0           0         0          0    0            47   \n\n        Height_(cm)  Weight_(kg)    BMI  Smoking_History  Alcohol_Consumption  \\\n0             150.0        32.66  14.54                1                  0.0   \n1             165.0        77.11  28.29                0                  0.0   \n2             163.0        88.45  33.47                0                  4.0   \n3             180.0        93.44  28.73                0                  0.0   \n4             191.0        88.45  24.37                1                  0.0   \n...             ...          ...    ...              ...                  ...   \n308849        168.0        81.65  29.05                0                  4.0   \n308850        180.0        69.85  21.48                0                  8.0   \n308851        157.0        61.23  24.69                1                  4.0   \n308852        183.0        79.38  23.73                0                  3.0   \n308853        160.0        81.19  31.71                0                  1.0   \n\n        Fruit_Consumption  Green_Vegetables_Consumption  \\\n0                    30.0                          16.0   \n1                    30.0                           0.0   \n2                    12.0                           3.0   \n3                    30.0                          30.0   \n4                     8.0                           4.0   \n...                   ...                           ...   \n308849               30.0                           8.0   \n308850               15.0                          60.0   \n308851               40.0                           8.0   \n308852               30.0                          12.0   \n308853                5.0                          12.0   \n\n        FriedPotato_Consumption  \n0                          12.0  \n1                           4.0  \n2                          16.0  \n3                           8.0  \n4                           0.0  \n...                         ...  \n308849                      0.0  \n308850                      4.0  \n308851                      4.0  \n308852                      0.0  \n308853                      1.0  \n\n[308854 rows x 19 columns]",
      "text/html": "<div>\n<style scoped>\n    .dataframe tbody tr th:only-of-type {\n        vertical-align: middle;\n    }\n\n    .dataframe tbody tr th {\n        vertical-align: top;\n    }\n\n    .dataframe thead th {\n        text-align: right;\n    }\n</style>\n<table border=\"1\" class=\"dataframe\">\n  <thead>\n    <tr style=\"text-align: right;\">\n      <th></th>\n      <th>General_Health</th>\n      <th>Checkup</th>\n      <th>Exercise</th>\n      <th>Heart_Disease</th>\n      <th>Skin_Cancer</th>\n      <th>Other_Cancer</th>\n      <th>Depression</th>\n      <th>Diabetes</th>\n      <th>Arthritis</th>\n      <th>Sex</th>\n      <th>Age_Category</th>\n      <th>Height_(cm)</th>\n      <th>Weight_(kg)</th>\n      <th>BMI</th>\n      <th>Smoking_History</th>\n      <th>Alcohol_Consumption</th>\n      <th>Fruit_Consumption</th>\n      <th>Green_Vegetables_Consumption</th>\n      <th>FriedPotato_Consumption</th>\n    </tr>\n  </thead>\n  <tbody>\n    <tr>\n      <th>0</th>\n      <td>1</td>\n      <td>2</td>\n      <td>0</td>\n      <td>0</td>\n      <td>0</td>\n      <td>0</td>\n      <td>0</td>\n      <td>0</td>\n      <td>1</td>\n      <td>0</td>\n      <td>72</td>\n      <td>150.0</td>\n      <td>32.66</td>\n      <td>14.54</td>\n      <td>1</td>\n      <td>0.0</td>\n      <td>30.0</td>\n      <td>16.0</td>\n      <td>12.0</td>\n    </tr>\n    <tr>\n      <th>1</th>\n      <td>4</td>\n      <td>1</td>\n      <td>0</td>\n      <td>1</td>\n      <td>0</td>\n      <td>0</td>\n      <td>0</td>\n      <td>1</td>\n      <td>0</td>\n      <td>0</td>\n      <td>72</td>\n      <td>165.0</td>\n      <td>77.11</td>\n      <td>28.29</td>\n      <td>0</td>\n      <td>0.0</td>\n      <td>30.0</td>\n      <td>0.0</td>\n      <td>4.0</td>\n    </tr>\n    <tr>\n      <th>2</th>\n      <td>4</td>\n      <td>1</td>\n      <td>1</td>\n      <td>0</td>\n      <td>0</td>\n      <td>0</td>\n      <td>0</td>\n      <td>1</td>\n      <td>0</td>\n      <td>0</td>\n      <td>62</td>\n      <td>163.0</td>\n      <td>88.45</td>\n      <td>33.47</td>\n      <td>0</td>\n      <td>4.0</td>\n      <td>12.0</td>\n      <td>3.0</td>\n      <td>16.0</td>\n    </tr>\n    <tr>\n      <th>3</th>\n      <td>1</td>\n      <td>1</td>\n      <td>1</td>\n      <td>1</td>\n      <td>0</td>\n      <td>0</td>\n      <td>0</td>\n      <td>1</td>\n      <td>0</td>\n      <td>1</td>\n      <td>77</td>\n      <td>180.0</td>\n      <td>93.44</td>\n      <td>28.73</td>\n      <td>0</td>\n      <td>0.0</td>\n      <td>30.0</td>\n      <td>30.0</td>\n      <td>8.0</td>\n    </tr>\n    <tr>\n      <th>4</th>\n      <td>3</td>\n      <td>1</td>\n      <td>0</td>\n      <td>0</td>\n      <td>0</td>\n      <td>0</td>\n      <td>0</td>\n      <td>0</td>\n      <td>0</td>\n      <td>1</td>\n      <td>82</td>\n      <td>191.0</td>\n      <td>88.45</td>\n      <td>24.37</td>\n      <td>1</td>\n      <td>0.0</td>\n      <td>8.0</td>\n      <td>4.0</td>\n      <td>0.0</td>\n    </tr>\n    <tr>\n      <th>...</th>\n      <td>...</td>\n      <td>...</td>\n      <td>...</td>\n      <td>...</td>\n      <td>...</td>\n      <td>...</td>\n      <td>...</td>\n      <td>...</td>\n      <td>...</td>\n      <td>...</td>\n      <td>...</td>\n      <td>...</td>\n      <td>...</td>\n      <td>...</td>\n      <td>...</td>\n      <td>...</td>\n      <td>...</td>\n      <td>...</td>\n      <td>...</td>\n    </tr>\n    <tr>\n      <th>308849</th>\n      <td>4</td>\n      <td>1</td>\n      <td>1</td>\n      <td>0</td>\n      <td>0</td>\n      <td>0</td>\n      <td>0</td>\n      <td>0</td>\n      <td>0</td>\n      <td>1</td>\n      <td>27</td>\n      <td>168.0</td>\n      <td>81.65</td>\n      <td>29.05</td>\n      <td>0</td>\n      <td>4.0</td>\n      <td>30.0</td>\n      <td>8.0</td>\n      <td>0.0</td>\n    </tr>\n    <tr>\n      <th>308850</th>\n      <td>2</td>\n      <td>3</td>\n      <td>1</td>\n      <td>0</td>\n      <td>0</td>\n      <td>0</td>\n      <td>0</td>\n      <td>1</td>\n      <td>0</td>\n      <td>1</td>\n      <td>67</td>\n      <td>180.0</td>\n      <td>69.85</td>\n      <td>21.48</td>\n      <td>0</td>\n      <td>8.0</td>\n      <td>15.0</td>\n      <td>60.0</td>\n      <td>4.0</td>\n    </tr>\n    <tr>\n      <th>308851</th>\n      <td>4</td>\n      <td>4</td>\n      <td>1</td>\n      <td>0</td>\n      <td>0</td>\n      <td>0</td>\n      <td>1</td>\n      <td>1</td>\n      <td>0</td>\n      <td>0</td>\n      <td>32</td>\n      <td>157.0</td>\n      <td>61.23</td>\n      <td>24.69</td>\n      <td>1</td>\n      <td>4.0</td>\n      <td>40.0</td>\n      <td>8.0</td>\n      <td>4.0</td>\n    </tr>\n    <tr>\n      <th>308852</th>\n      <td>4</td>\n      <td>1</td>\n      <td>1</td>\n      <td>0</td>\n      <td>0</td>\n      <td>0</td>\n      <td>0</td>\n      <td>0</td>\n      <td>0</td>\n      <td>1</td>\n      <td>67</td>\n      <td>183.0</td>\n      <td>79.38</td>\n      <td>23.73</td>\n      <td>0</td>\n      <td>3.0</td>\n      <td>30.0</td>\n      <td>12.0</td>\n      <td>0.0</td>\n    </tr>\n    <tr>\n      <th>308853</th>\n      <td>5</td>\n      <td>1</td>\n      <td>1</td>\n      <td>0</td>\n      <td>0</td>\n      <td>0</td>\n      <td>0</td>\n      <td>0</td>\n      <td>0</td>\n      <td>0</td>\n      <td>47</td>\n      <td>160.0</td>\n      <td>81.19</td>\n      <td>31.71</td>\n      <td>0</td>\n      <td>1.0</td>\n      <td>5.0</td>\n      <td>12.0</td>\n      <td>1.0</td>\n    </tr>\n  </tbody>\n</table>\n<p>308854 rows × 19 columns</p>\n</div>"
     },
     "execution_count": 88,
     "metadata": {},
     "output_type": "execute_result"
    }
   ],
   "source": [
    "df5"
   ],
   "metadata": {
    "collapsed": false,
    "ExecuteTime": {
     "end_time": "2023-08-18T00:15:42.227228Z",
     "start_time": "2023-08-18T00:15:42.209150Z"
    }
   },
   "id": "168c1c77ba619a59"
  },
  {
   "cell_type": "code",
   "execution_count": 100,
   "outputs": [],
   "source": [
    "x_train,x_test,y_train,y_test = train_test_split(X,Y,test_size=0.2)"
   ],
   "metadata": {
    "collapsed": false,
    "ExecuteTime": {
     "end_time": "2023-08-18T00:37:09.714230Z",
     "start_time": "2023-08-18T00:37:09.684977Z"
    }
   },
   "id": "51f8df9eb8199c8d"
  },
  {
   "cell_type": "code",
   "execution_count": 101,
   "outputs": [
    {
     "name": "stderr",
     "output_type": "stream",
     "text": [
      "/Users/sato/anaconda3/envs/machineLearning/lib/python3.11/site-packages/sklearn/linear_model/_logistic.py:458: ConvergenceWarning: lbfgs failed to converge (status=1):\n",
      "STOP: TOTAL NO. of ITERATIONS REACHED LIMIT.\n",
      "\n",
      "Increase the number of iterations (max_iter) or scale the data as shown in:\n",
      "    https://scikit-learn.org/stable/modules/preprocessing.html\n",
      "Please also refer to the documentation for alternative solver options:\n",
      "    https://scikit-learn.org/stable/modules/linear_model.html#logistic-regression\n",
      "  n_iter_i = _check_optimize_result(\n"
     ]
    },
    {
     "data": {
      "text/plain": "LogisticRegression()",
      "text/html": "<style>#sk-container-id-5 {color: black;background-color: white;}#sk-container-id-5 pre{padding: 0;}#sk-container-id-5 div.sk-toggleable {background-color: white;}#sk-container-id-5 label.sk-toggleable__label {cursor: pointer;display: block;width: 100%;margin-bottom: 0;padding: 0.3em;box-sizing: border-box;text-align: center;}#sk-container-id-5 label.sk-toggleable__label-arrow:before {content: \"▸\";float: left;margin-right: 0.25em;color: #696969;}#sk-container-id-5 label.sk-toggleable__label-arrow:hover:before {color: black;}#sk-container-id-5 div.sk-estimator:hover label.sk-toggleable__label-arrow:before {color: black;}#sk-container-id-5 div.sk-toggleable__content {max-height: 0;max-width: 0;overflow: hidden;text-align: left;background-color: #f0f8ff;}#sk-container-id-5 div.sk-toggleable__content pre {margin: 0.2em;color: black;border-radius: 0.25em;background-color: #f0f8ff;}#sk-container-id-5 input.sk-toggleable__control:checked~div.sk-toggleable__content {max-height: 200px;max-width: 100%;overflow: auto;}#sk-container-id-5 input.sk-toggleable__control:checked~label.sk-toggleable__label-arrow:before {content: \"▾\";}#sk-container-id-5 div.sk-estimator input.sk-toggleable__control:checked~label.sk-toggleable__label {background-color: #d4ebff;}#sk-container-id-5 div.sk-label input.sk-toggleable__control:checked~label.sk-toggleable__label {background-color: #d4ebff;}#sk-container-id-5 input.sk-hidden--visually {border: 0;clip: rect(1px 1px 1px 1px);clip: rect(1px, 1px, 1px, 1px);height: 1px;margin: -1px;overflow: hidden;padding: 0;position: absolute;width: 1px;}#sk-container-id-5 div.sk-estimator {font-family: monospace;background-color: #f0f8ff;border: 1px dotted black;border-radius: 0.25em;box-sizing: border-box;margin-bottom: 0.5em;}#sk-container-id-5 div.sk-estimator:hover {background-color: #d4ebff;}#sk-container-id-5 div.sk-parallel-item::after {content: \"\";width: 100%;border-bottom: 1px solid gray;flex-grow: 1;}#sk-container-id-5 div.sk-label:hover label.sk-toggleable__label {background-color: #d4ebff;}#sk-container-id-5 div.sk-serial::before {content: \"\";position: absolute;border-left: 1px solid gray;box-sizing: border-box;top: 0;bottom: 0;left: 50%;z-index: 0;}#sk-container-id-5 div.sk-serial {display: flex;flex-direction: column;align-items: center;background-color: white;padding-right: 0.2em;padding-left: 0.2em;position: relative;}#sk-container-id-5 div.sk-item {position: relative;z-index: 1;}#sk-container-id-5 div.sk-parallel {display: flex;align-items: stretch;justify-content: center;background-color: white;position: relative;}#sk-container-id-5 div.sk-item::before, #sk-container-id-5 div.sk-parallel-item::before {content: \"\";position: absolute;border-left: 1px solid gray;box-sizing: border-box;top: 0;bottom: 0;left: 50%;z-index: -1;}#sk-container-id-5 div.sk-parallel-item {display: flex;flex-direction: column;z-index: 1;position: relative;background-color: white;}#sk-container-id-5 div.sk-parallel-item:first-child::after {align-self: flex-end;width: 50%;}#sk-container-id-5 div.sk-parallel-item:last-child::after {align-self: flex-start;width: 50%;}#sk-container-id-5 div.sk-parallel-item:only-child::after {width: 0;}#sk-container-id-5 div.sk-dashed-wrapped {border: 1px dashed gray;margin: 0 0.4em 0.5em 0.4em;box-sizing: border-box;padding-bottom: 0.4em;background-color: white;}#sk-container-id-5 div.sk-label label {font-family: monospace;font-weight: bold;display: inline-block;line-height: 1.2em;}#sk-container-id-5 div.sk-label-container {text-align: center;}#sk-container-id-5 div.sk-container {/* jupyter's `normalize.less` sets `[hidden] { display: none; }` but bootstrap.min.css set `[hidden] { display: none !important; }` so we also need the `!important` here to be able to override the default hidden behavior on the sphinx rendered scikit-learn.org. See: https://github.com/scikit-learn/scikit-learn/issues/21755 */display: inline-block !important;position: relative;}#sk-container-id-5 div.sk-text-repr-fallback {display: none;}</style><div id=\"sk-container-id-5\" class=\"sk-top-container\"><div class=\"sk-text-repr-fallback\"><pre>LogisticRegression()</pre><b>In a Jupyter environment, please rerun this cell to show the HTML representation or trust the notebook. <br />On GitHub, the HTML representation is unable to render, please try loading this page with nbviewer.org.</b></div><div class=\"sk-container\" hidden><div class=\"sk-item\"><div class=\"sk-estimator sk-toggleable\"><input class=\"sk-toggleable__control sk-hidden--visually\" id=\"sk-estimator-id-5\" type=\"checkbox\" checked><label for=\"sk-estimator-id-5\" class=\"sk-toggleable__label sk-toggleable__label-arrow\">LogisticRegression</label><div class=\"sk-toggleable__content\"><pre>LogisticRegression()</pre></div></div></div></div></div>"
     },
     "execution_count": 101,
     "metadata": {},
     "output_type": "execute_result"
    }
   ],
   "source": [
    "model = LogisticRegression()\n",
    "model.fit(x_train,y_train)"
   ],
   "metadata": {
    "collapsed": false,
    "ExecuteTime": {
     "end_time": "2023-08-18T00:37:10.451204Z",
     "start_time": "2023-08-18T00:37:10.015539Z"
    }
   },
   "id": "51da713d12519ab6"
  },
  {
   "cell_type": "code",
   "execution_count": 102,
   "outputs": [
    {
     "data": {
      "text/plain": "0.6957142857142857"
     },
     "execution_count": 102,
     "metadata": {},
     "output_type": "execute_result"
    }
   ],
   "source": [
    "model.score(x_test,y_test)"
   ],
   "metadata": {
    "collapsed": false,
    "ExecuteTime": {
     "end_time": "2023-08-18T00:37:11.714673Z",
     "start_time": "2023-08-18T00:37:11.688148Z"
    }
   },
   "id": "5ef5049584bcf951"
  },
  {
   "cell_type": "code",
   "execution_count": 106,
   "outputs": [
    {
     "name": "stderr",
     "output_type": "stream",
     "text": [
      "/Users/sato/anaconda3/envs/machineLearning/lib/python3.11/site-packages/sklearn/base.py:439: UserWarning: X does not have valid feature names, but LogisticRegression was fitted with feature names\n",
      "  warnings.warn(\n"
     ]
    },
    {
     "data": {
      "text/plain": "array([1])"
     },
     "execution_count": 106,
     "metadata": {},
     "output_type": "execute_result"
    }
   ],
   "source": [
    "result = model.predict([[12,62,2,178,95,130,90,3,3,0,0,1]])\n",
    "result"
   ],
   "metadata": {
    "collapsed": false,
    "ExecuteTime": {
     "end_time": "2023-08-18T00:38:29.883737Z",
     "start_time": "2023-08-18T00:38:29.853846Z"
    }
   },
   "id": "3fc2c78e3e073928"
  },
  {
   "cell_type": "code",
   "execution_count": 38,
   "outputs": [
    {
     "data": {
      "text/plain": "array([0])"
     },
     "execution_count": 38,
     "metadata": {},
     "output_type": "execute_result"
    }
   ],
   "source": [
    "male,age,education,currentSmoker,cigsPerDay,BPMeds,prevalentStroke,prevalentHyp,diabetes,totChol,sysBP,diaBP,BMI,heartRate,glucose,TenYearCHD"
   ],
   "metadata": {
    "collapsed": false,
    "ExecuteTime": {
     "end_time": "2023-08-18T00:06:29.354045Z",
     "start_time": "2023-08-18T00:06:29.334481Z"
    }
   },
   "id": "6f840f33f3ef29f1"
  },
  {
   "cell_type": "code",
   "execution_count": null,
   "outputs": [],
   "source": [],
   "metadata": {
    "collapsed": false
   },
   "id": "7b1223c8aee7ba4c"
  }
 ],
 "metadata": {
  "kernelspec": {
   "display_name": "Python 3",
   "language": "python",
   "name": "python3"
  },
  "language_info": {
   "codemirror_mode": {
    "name": "ipython",
    "version": 2
   },
   "file_extension": ".py",
   "mimetype": "text/x-python",
   "name": "python",
   "nbconvert_exporter": "python",
   "pygments_lexer": "ipython2",
   "version": "2.7.6"
  }
 },
 "nbformat": 4,
 "nbformat_minor": 5
}
