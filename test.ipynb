{
 "cells": [
  {
   "cell_type": "code",
   "execution_count": 1,
   "id": "initial_id",
   "metadata": {
    "collapsed": true,
    "ExecuteTime": {
     "end_time": "2023-08-11T10:20:19.236450Z",
     "start_time": "2023-08-11T10:20:16.985375Z"
    }
   },
   "outputs": [],
   "source": [
    "import json\n",
    "import pandas as pd"
   ]
  },
  {
   "cell_type": "code",
   "execution_count": null,
   "outputs": [],
   "source": [
    "df = pd.read_csv('Data/dataset_5.csv')\n",
    "df"
   ],
   "metadata": {
    "collapsed": false
   },
   "id": "834d4273bd4693a9"
  },
  {
   "cell_type": "code",
   "execution_count": null,
   "outputs": [],
   "source": [
    "df.Alcohol_Consumption.unique().tolist()"
   ],
   "metadata": {
    "collapsed": false
   },
   "id": "6d4af9e479d0c166"
  },
  {
   "cell_type": "code",
   "execution_count": null,
   "outputs": [],
   "source": [
    "df.columns"
   ],
   "metadata": {
    "collapsed": false
   },
   "id": "b821e40d1d5468a8"
  },
  {
   "cell_type": "code",
   "execution_count": null,
   "outputs": [],
   "source": [
    "df.describe()"
   ],
   "metadata": {
    "collapsed": false
   },
   "id": "b307f1ca917a7483"
  },
  {
   "cell_type": "code",
   "execution_count": null,
   "outputs": [],
   "source": [
    "df = pd.read_csv('Data/LLCP2021.ASC',header=None)"
   ],
   "metadata": {
    "collapsed": false
   },
   "id": "be5318780f0a4acb"
  },
  {
   "cell_type": "code",
   "execution_count": null,
   "outputs": [],
   "source": [
    "df = pd.read_sas('Data/LLCP2021.XPT')"
   ],
   "metadata": {
    "collapsed": false
   },
   "id": "10399b951578d669"
  },
  {
   "cell_type": "code",
   "execution_count": null,
   "outputs": [],
   "source": [
    "df"
   ],
   "metadata": {
    "collapsed": false
   },
   "id": "f224f793db3ed7d6"
  },
  {
   "cell_type": "code",
   "execution_count": null,
   "outputs": [],
   "source": [
    "df._STATE.unique()"
   ],
   "metadata": {
    "collapsed": false
   },
   "id": "8eeefc9cc3d7f44a"
  },
  {
   "cell_type": "code",
   "execution_count": null,
   "outputs": [],
   "source": [
    "file_path = 'Data/CAMUS/training/patient0001/patient0001_2CH_ED.raw'  # Replace with the path to your raw file\n",
    "\n",
    "try:\n",
    "    with open(file_path, 'rb') as file:\n",
    "        raw_data = file.read()\n",
    "        # Do something with the raw_data, e.g., process or analyze it\n",
    "except FileNotFoundError:\n",
    "    print(f\"File not found: {file_path}\")\n",
    "except Exception as e:\n",
    "    print(f\"An error occurred: {e}\")"
   ],
   "metadata": {
    "collapsed": false
   },
   "id": "2a3a283023750b7d"
  },
  {
   "cell_type": "code",
   "execution_count": null,
   "outputs": [],
   "source": [
    "raw_data"
   ],
   "metadata": {
    "collapsed": false
   },
   "id": "524ecd24335f4101"
  },
  {
   "cell_type": "code",
   "execution_count": 73,
   "outputs": [],
   "source": [
    "a = {'id': 'sampleIDString', 'data': '{\"sex\":0,\"age\":43,\"education\":2,\"currentSmoker\":0,\"cigsPerDay\":0,\"BPMeds\":0,\"prevalentStroke\":0,\"prevalentHyp\":0,\"diabetes\":0,\"chol\":247,\"trestbps\":131,\"diaBP\":88,\"BMI\":27.64,\"thalach\":72,\"glucose\":61,\"KidneyDisease\":1,\"dataType\":\"b\"}', 'model': '[{\"name\":\"svc\",\"kernel\":\"sigmoid\",\"degree\":null}]'}"
   ],
   "metadata": {
    "collapsed": false,
    "ExecuteTime": {
     "end_time": "2023-08-09T15:38:02.400087Z",
     "start_time": "2023-08-09T15:38:02.388742Z"
    }
   },
   "id": "5c3c5477a07af0a8"
  },
  {
   "cell_type": "code",
   "execution_count": 63,
   "outputs": [
    {
     "data": {
      "text/plain": "dict_keys(['sex', 'age', 'education', 'currentSmoker', 'cigsPerDay', 'BPMeds', 'prevalentStroke', 'prevalentHyp', 'diabetes', 'chol', 'trestbps', 'diaBP', 'BMI', 'thalach', 'glucose', 'KidneyDisease'])"
     },
     "execution_count": 63,
     "metadata": {},
     "output_type": "execute_result"
    }
   ],
   "source": [
    "def transformRequest(originalRequest):\n",
    "    jsonstring = eval(originalRequest['data'])\n",
    "    if 'dataType' in jsonstring:\n",
    "        del jsonstring['dataType']\n",
    "    jsonstring = str(jsonstring)\n",
    "    dataType = eval(originalRequest['data'])['dataType']\n",
    "    sampleID = originalRequest['id']\n",
    "    modelist = json.loads(originalRequest['model'])\n",
    "    return jsonstring,dataType,sampleID,modelist\n",
    "js,_,_,_=transformRequest(a)\n",
    "js = js.replace(\"'\",\"\\\"\")\n",
    "js = json.loads(js)\n",
    "js.keys()"
   ],
   "metadata": {
    "collapsed": false,
    "ExecuteTime": {
     "end_time": "2023-08-09T14:57:25.592477Z",
     "start_time": "2023-08-09T14:57:25.586198Z"
    }
   },
   "id": "7511074ec01db4d5"
  },
  {
   "cell_type": "code",
   "execution_count": 86,
   "outputs": [
    {
     "name": "stdout",
     "output_type": "stream",
     "text": [
      "{}\n",
      "None\n",
      "{'tree_method': 'gpu_hist', 'gpu_id': 0}\n"
     ]
    },
    {
     "data": {
      "text/plain": "'[{\"name\":\"svc\",\"kernel\":\"sigmoid\",\"degree\":null}]'"
     },
     "execution_count": 86,
     "metadata": {},
     "output_type": "execute_result"
    }
   ],
   "source": [
    "def deleteName(Object):\n",
    "    if 'name' in Object:\n",
    "        del Object['name']\n",
    "    return Object\n",
    "\n",
    "def testPortfolio(dict):\n",
    "    for value in dict.values():\n",
    "        if isinstance(value, list):\n",
    "            return True\n",
    "        \n",
    "def pickUpList(dict):\n",
    "    outputdic = {}\n",
    "    for key,value in dict.items():\n",
    "        if isinstance(value,list):\n",
    "            value = [float(ele) for ele in value]\n",
    "            outputdic[key] = value\n",
    "    return outputdic\n",
    "\n",
    "\n",
    "for ele in modellist:\n",
    "    modeolist = pickUpList(ele)\n",
    "    print(modeolist)\n",
    "    print(testPortfolio(ele))\n",
    "modeolist['tree_method'] = 'gpu_hist'\n",
    "modeolist['gpu_id'] = 0\n",
    "print(modeolist)\n",
    "a['model']"
   ],
   "metadata": {
    "collapsed": false,
    "ExecuteTime": {
     "end_time": "2023-08-09T15:41:42.352116Z",
     "start_time": "2023-08-09T15:41:42.345838Z"
    }
   },
   "id": "af19168b8adc8cef"
  },
  {
   "cell_type": "code",
   "execution_count": 60,
   "outputs": [
    {
     "data": {
      "text/plain": "'sampleIDString'"
     },
     "execution_count": 60,
     "metadata": {},
     "output_type": "execute_result"
    }
   ],
   "source": [
    "'tree_method': 'gpu_hist', 'gpu_id': 0"
   ],
   "metadata": {
    "collapsed": false,
    "ExecuteTime": {
     "end_time": "2023-08-09T12:52:59.790349Z",
     "start_time": "2023-08-09T12:52:59.778460Z"
    }
   },
   "id": "a5e70242ac2b2369"
  },
  {
   "cell_type": "code",
   "execution_count": 91,
   "outputs": [
    {
     "ename": "SyntaxError",
     "evalue": "'[' was never closed (<string>, line 1)",
     "output_type": "error",
     "traceback": [
      "Traceback \u001B[0;36m(most recent call last)\u001B[0m:\n",
      "\u001B[0m  File \u001B[1;32m~/anaconda3/envs/machineLearning/lib/python3.11/site-packages/IPython/core/interactiveshell.py:3505\u001B[0m in \u001B[1;35mrun_code\u001B[0m\n    exec(code_obj, self.user_global_ns, self.user_ns)\u001B[0m\n",
      "\u001B[0;36m  Cell \u001B[0;32mIn[91], line 1\u001B[0;36m\n\u001B[0;31m    eval(a['model'][0])\u001B[0;36m\n",
      "\u001B[0;36m  File \u001B[0;32m<string>:1\u001B[0;36m\u001B[0m\n\u001B[0;31m    [\u001B[0m\n\u001B[0m    ^\u001B[0m\n\u001B[0;31mSyntaxError\u001B[0m\u001B[0;31m:\u001B[0m '[' was never closed\n"
     ]
    }
   ],
   "source": [],
   "metadata": {
    "collapsed": false,
    "ExecuteTime": {
     "end_time": "2023-08-09T15:42:36.959898Z",
     "start_time": "2023-08-09T15:42:36.957368Z"
    }
   },
   "id": "75cbdf86c8e6ac73"
  },
  {
   "cell_type": "code",
   "execution_count": 70,
   "outputs": [
    {
     "name": "stdout",
     "output_type": "stream",
     "text": [
      "5\n",
      "4\n"
     ]
    }
   ],
   "source": [
    "for i in [\"apple\",\"pear\",\"banana\"]:\n",
    "    if i==\"apple\":\n",
    "        if len(i)==5:\n",
    "            print(5)\n",
    "        else:\n",
    "            print(4)\n",
    "    if i==\"pear\":\n",
    "        if len(i)==5:\n",
    "            print(5)\n",
    "        else:\n",
    "            print(4)"
   ],
   "metadata": {
    "collapsed": false,
    "ExecuteTime": {
     "end_time": "2023-08-09T15:35:16.286108Z",
     "start_time": "2023-08-09T15:35:16.275590Z"
    }
   },
   "id": "1b76287b7b1aea84"
  },
  {
   "cell_type": "code",
   "execution_count": 96,
   "outputs": [],
   "source": [
    "def pickUpList(dict):\n",
    "    outputdic = {}\n",
    "    for key,value in dict.items():\n",
    "        if isinstance(value,list):\n",
    "            value = [  convert_to_number(ele) for ele in value]\n",
    "            outputdic[key] = value\n",
    "    return outputdic"
   ],
   "metadata": {
    "collapsed": false,
    "ExecuteTime": {
     "end_time": "2023-08-09T16:09:17.385529Z",
     "start_time": "2023-08-09T16:09:17.376595Z"
    }
   },
   "id": "28f54780f6f045bd"
  },
  {
   "cell_type": "code",
   "execution_count": 97,
   "outputs": [],
   "source": [
    "def convert_to_number(s):\n",
    "    try:\n",
    "        int_value = int(s)\n",
    "        return int_value\n",
    "    except ValueError:\n",
    "        try:\n",
    "            float_value = float(s)\n",
    "            return float_value\n",
    "        except ValueError:\n",
    "            return s"
   ],
   "metadata": {
    "collapsed": false,
    "ExecuteTime": {
     "end_time": "2023-08-09T16:09:17.804003Z",
     "start_time": "2023-08-09T16:09:17.801935Z"
    }
   },
   "id": "3554618d2522404a"
  },
  {
   "cell_type": "code",
   "execution_count": 98,
   "outputs": [
    {
     "data": {
      "text/plain": "{'a': [4, 6], 'b': [0.3, 0.6]}"
     },
     "execution_count": 98,
     "metadata": {},
     "output_type": "execute_result"
    }
   ],
   "source": [
    "pickUpList({\"a\":[\"4\",\"6\"],\"b\":[\"0.3\",\"0.6\"]})\n"
   ],
   "metadata": {
    "collapsed": false,
    "ExecuteTime": {
     "end_time": "2023-08-09T16:09:18.757747Z",
     "start_time": "2023-08-09T16:09:18.747900Z"
    }
   },
   "id": "282feacb35d4b7a2"
  },
  {
   "cell_type": "code",
   "execution_count": 1,
   "outputs": [],
   "source": [
    "from xgboost import XGBClassifier\n",
    "from lightgbm import LGBMClassifier\n",
    "# read data\n",
    "from sklearn.datasets import load_iris\n",
    "from sklearn.model_selection import train_test_split\n",
    "data = load_iris()\n",
    "X_train, X_test, y_train, y_test = train_test_split(data['data'], data['target'], test_size=.2)\n",
    "# create model instance\n"
   ],
   "metadata": {
    "collapsed": false,
    "ExecuteTime": {
     "end_time": "2023-08-09T23:41:49.054211Z",
     "start_time": "2023-08-09T23:41:46.707626Z"
    }
   },
   "id": "d89032efa5a48208"
  },
  {
   "cell_type": "code",
   "execution_count": 2,
   "outputs": [],
   "source": [
    "bst = LGBMClassifier(n_estimators=2, max_depth=2, learning_rate=1, objective='binary:logistic')\n",
    "# fit model\n"
   ],
   "metadata": {
    "collapsed": false,
    "ExecuteTime": {
     "end_time": "2023-08-09T23:41:52.833751Z",
     "start_time": "2023-08-09T23:41:52.825756Z"
    }
   },
   "id": "d7f50c6160aedb20"
  },
  {
   "cell_type": "code",
   "execution_count": null,
   "outputs": [],
   "source": [
    "bst.fit(X_train, y_train)\n"
   ],
   "metadata": {
    "collapsed": false,
    "is_executing": true,
    "ExecuteTime": {
     "start_time": "2023-08-09T23:41:55.163217Z"
    }
   },
   "id": "6bcd3202f8bf50c3"
  },
  {
   "cell_type": "code",
   "execution_count": null,
   "outputs": [],
   "source": [
    "# make predictions\n",
    "preds = bst.predict(X_test)"
   ],
   "metadata": {
    "collapsed": false
   },
   "id": "d9e75776604d3c08"
  },
  {
   "cell_type": "code",
   "execution_count": 2,
   "outputs": [],
   "source": [
    "ele = {'earlyShopingStep': 15, 'epochs': 274, 'layer': {'users': [{'function': 'relu', 'layers': '120'}, {'function': 'relu', 'layers': '60'}]}, 'lossFunciton': 'categorical_crossentropy', 'name': 'NN', 'optimizer': 'Adam'}"
   ],
   "metadata": {
    "collapsed": false,
    "ExecuteTime": {
     "end_time": "2023-08-11T10:20:45.974108Z",
     "start_time": "2023-08-11T10:20:45.940572Z"
    }
   },
   "id": "10d27cfa392dbd6a"
  },
  {
   "cell_type": "code",
   "execution_count": 7,
   "outputs": [
    {
     "data": {
      "text/plain": "'categorical_crossentropy'"
     },
     "execution_count": 7,
     "metadata": {},
     "output_type": "execute_result"
    }
   ],
   "source": [
    "ele['lossFunciton']\n"
   ],
   "metadata": {
    "collapsed": false,
    "ExecuteTime": {
     "end_time": "2023-08-11T10:26:05.896869Z",
     "start_time": "2023-08-11T10:26:05.880173Z"
    }
   },
   "id": "26e4a771fa8c4779"
  },
  {
   "cell_type": "code",
   "execution_count": 9,
   "outputs": [
    {
     "data": {
      "text/plain": "array([0])"
     },
     "execution_count": 9,
     "metadata": {},
     "output_type": "execute_result"
    }
   ],
   "source": [
    "import numpy\n",
    "\n",
    "a = [0]\n",
    "numpy.array(a)"
   ],
   "metadata": {
    "collapsed": false,
    "ExecuteTime": {
     "end_time": "2023-08-11T10:49:24.468904Z",
     "start_time": "2023-08-11T10:49:24.456695Z"
    }
   },
   "id": "e98ec5bb3a8f34b7"
  },
  {
   "cell_type": "code",
   "execution_count": 10,
   "outputs": [
    {
     "name": "stdout",
     "output_type": "stream",
     "text": [
      "[0]\n"
     ]
    }
   ],
   "source": [
    "print(numpy.array(a))"
   ],
   "metadata": {
    "collapsed": false,
    "ExecuteTime": {
     "end_time": "2023-08-11T10:49:34.287056Z",
     "start_time": "2023-08-11T10:49:34.254797Z"
    }
   },
   "id": "b5f23619cb1966b0"
  },
  {
   "cell_type": "code",
   "execution_count": 12,
   "outputs": [
    {
     "data": {
      "text/plain": "0"
     },
     "execution_count": 12,
     "metadata": {},
     "output_type": "execute_result"
    }
   ],
   "source": [
    "a = [0]\n",
    "a[0]"
   ],
   "metadata": {
    "collapsed": false,
    "ExecuteTime": {
     "end_time": "2023-08-11T10:51:34.794633Z",
     "start_time": "2023-08-11T10:51:34.780015Z"
    }
   },
   "id": "98f9b96e3e82fabe"
  },
  {
   "cell_type": "code",
   "execution_count": 23,
   "outputs": [],
   "source": [
    "data = {'result': [0], 'resultList': [0.8349056839942932], 'numberOfDataset': 2, 'paramsList': [{'epochs': 274, 'earlyShopingStep': 15, 'layer': {'users': [{'layers': '120', 'function': 'relu'}, {'layers': '60', 'function': 'relu'}]}, 'optimizer': 'Adam', 'lossFunciton': 'categorical_crossentropy', 'name': 'NN'}], 'sampleID': 'b4eaa77009d74da4b1eef2d736cd0f81', 'name': ['Neural Network'], 'jsonString': \"{'BPMeds': 0, 'thalach': 72, 'trestbps': 131, 'age': 43, 'sex': 0, 'diaBP': 88, 'prevalentStroke': 0, 'KidneyDisease': 1, 'prevalentHyp': 0}\"}"
   ],
   "metadata": {
    "collapsed": false,
    "ExecuteTime": {
     "end_time": "2023-08-11T11:01:42.306195Z",
     "start_time": "2023-08-11T11:01:42.288413Z"
    }
   },
   "id": "242ac4054db687ce"
  },
  {
   "cell_type": "code",
   "execution_count": 26,
   "outputs": [
    {
     "data": {
      "text/plain": "'Neural Network'"
     },
     "execution_count": 26,
     "metadata": {},
     "output_type": "execute_result"
    }
   ],
   "source": [
    "data['name'][0]"
   ],
   "metadata": {
    "collapsed": false,
    "ExecuteTime": {
     "end_time": "2023-08-11T11:02:00.332400Z",
     "start_time": "2023-08-11T11:02:00.315837Z"
    }
   },
   "id": "a19e87d531bf2fd1"
  },
  {
   "cell_type": "code",
   "execution_count": 22,
   "outputs": [
    {
     "data": {
      "text/plain": "'9860ad11f76846cbb9a5f61492eee729'"
     },
     "execution_count": 22,
     "metadata": {},
     "output_type": "execute_result"
    }
   ],
   "source": [
    "a.hex"
   ],
   "metadata": {
    "collapsed": false,
    "ExecuteTime": {
     "end_time": "2023-08-11T11:00:22.342227Z",
     "start_time": "2023-08-11T11:00:22.327293Z"
    }
   },
   "id": "94645d47c1cea5cc"
  },
  {
   "cell_type": "code",
   "execution_count": 27,
   "outputs": [
    {
     "data": {
      "text/plain": "0"
     },
     "execution_count": 27,
     "metadata": {},
     "output_type": "execute_result"
    }
   ],
   "source": [
    "from numpy import array\n",
    "\n",
    "a = array([0])\n",
    "a[0]"
   ],
   "metadata": {
    "collapsed": false,
    "ExecuteTime": {
     "end_time": "2023-08-11T11:17:28.235510Z",
     "start_time": "2023-08-11T11:17:28.190901Z"
    }
   },
   "id": "9d96f4e3793e6886"
  },
  {
   "cell_type": "code",
   "execution_count": 47,
   "outputs": [],
   "source": [
    "a = {'result': [array([1]), 1], 'resultList': [0.6222222222222222, 0.5777778029441833], 'numberOfDataset': 1, 'paramsList': [{'n_estimators': 269, 'max_depth': 3, 'n_jobs': -1, 'name': 'randomForest'}, {'epochs': 274, 'earlyStopingStep': 10, 'layer': {'users': [{'layers': '180', 'function': 'relu'}, {'layers': '10', 'function': 'relu'}]}, 'optimizer': 'Adam', 'lossFunciton': 'categorical_crossentropy', 'name': 'NN'}], 'sampleID': '851a7ef88420434bbadf8fe02528f7b3', 'name': ['Random Forest', 'Neural Network'], 'jsonString': \"{'sex': 0, 'chol': 247, 'thalach': 72, 'education': 2}\"}\n"
   ],
   "metadata": {
    "collapsed": false,
    "ExecuteTime": {
     "end_time": "2023-08-11T11:34:10.978051Z",
     "start_time": "2023-08-11T11:34:10.963465Z"
    }
   },
   "id": "7d5f105815446e24"
  },
  {
   "cell_type": "code",
   "execution_count": 48,
   "outputs": [
    {
     "data": {
      "text/plain": "1"
     },
     "execution_count": 48,
     "metadata": {},
     "output_type": "execute_result"
    }
   ],
   "source": [
    "result = 0\n",
    "for i in range(len(a['name'])):\n",
    "    if a['name'][i] == 'Neural Network':\n",
    "        result += a['result'][i]\n",
    "    else:\n",
    "        result += int(a['result'][i])\n",
    "\n",
    "if result != 0:\n",
    "    output = 1\n",
    "else:\n",
    "    output = 0\n",
    "output"
   ],
   "metadata": {
    "collapsed": false,
    "ExecuteTime": {
     "end_time": "2023-08-11T11:34:11.494479Z",
     "start_time": "2023-08-11T11:34:11.483548Z"
    }
   },
   "id": "5e50532666f872e9"
  },
  {
   "cell_type": "code",
   "execution_count": 49,
   "outputs": [],
   "source": [
    "def dataset2_preprocessing(file_path, paramList, test_size):\n",
    "    df = pd.read_csv(file_path)\n",
    "    df.loc[df['TenYearCHD'] == 1, 'education'] = df.loc[df['TenYearCHD'] == 1, 'education'].fillna(\n",
    "        df.loc[df['TenYearCHD'] == 1, 'education'].mode()[0])\n",
    "    df.loc[df['TenYearCHD'] == 0, 'education'] = df.loc[df['TenYearCHD'] == 0, 'education'].fillna(\n",
    "        df.loc[df['TenYearCHD'] == 0, 'education'].mode()[0])\n",
    "    df.loc[df['TenYearCHD'] == 1, 'cigsPerDay'] = df.loc[df['TenYearCHD'] == 1, 'cigsPerDay'].fillna(\n",
    "        df.loc[df['TenYearCHD'] == 1, 'cigsPerDay'].mean())\n",
    "    df.loc[df['TenYearCHD'] == 0, 'cigsPerDay'] = df.loc[df['TenYearCHD'] == 0, 'cigsPerDay'].fillna(\n",
    "        df.loc[df['TenYearCHD'] == 0, 'cigsPerDay'].mean())\n",
    "    df.loc[df['TenYearCHD'] == 1, 'BPMeds'] = df.loc[df['TenYearCHD'] == 1, 'BPMeds'].fillna(\n",
    "        df.loc[df['TenYearCHD'] == 1, 'BPMeds'].mode()[0])\n",
    "    df.loc[df['TenYearCHD'] == 0, 'BPMeds'] = df.loc[df['TenYearCHD'] == 0, 'BPMeds'].fillna(\n",
    "        df.loc[df['TenYearCHD'] == 0, 'BPMeds'].mode()[0])\n",
    "    df.loc[df['TenYearCHD'] == 1, 'totChol'] = df.loc[df['TenYearCHD'] == 1, 'totChol'].fillna(\n",
    "        df.loc[df['TenYearCHD'] == 1, 'totChol'].mean())\n",
    "    df.loc[df['TenYearCHD'] == 0, 'totChol'] = df.loc[df['TenYearCHD'] == 0, 'totChol'].fillna(\n",
    "        df.loc[df['TenYearCHD'] == 0, 'totChol'].mean())\n",
    "    df.loc[df['TenYearCHD'] == 1, 'BMI'] = df.loc[df['TenYearCHD'] == 1, 'BMI'].fillna(\n",
    "        df.loc[df['TenYearCHD'] == 1, 'BMI'].mean())\n",
    "    df.loc[df['TenYearCHD'] == 0, 'BMI'] = df.loc[df['TenYearCHD'] == 0, 'BMI'].fillna(\n",
    "        df.loc[df['TenYearCHD'] == 0, 'BMI'].mean())\n",
    "    df.loc[df['TenYearCHD'] == 1, 'heartRate'] = df.loc[df['TenYearCHD'] == 1, 'heartRate'].fillna(\n",
    "        df.loc[df['TenYearCHD'] == 1, 'heartRate'].mean())\n",
    "    df.loc[df['TenYearCHD'] == 0, 'heartRate'] = df.loc[df['TenYearCHD'] == 0, 'heartRate'].fillna(\n",
    "        df.loc[df['TenYearCHD'] == 0, 'heartRate'].mean())\n",
    "    df.loc[df['TenYearCHD'] == 1, 'glucose'] = df.loc[df['TenYearCHD'] == 1, 'glucose'].fillna(\n",
    "        df.loc[df['TenYearCHD'] == 1, 'glucose'].mean())\n",
    "    df.loc[df['TenYearCHD'] == 0, 'glucose'] = df.loc[df['TenYearCHD'] == 0, 'glucose'].fillna(\n",
    "        df.loc[df['TenYearCHD'] == 0, 'glucose'].mean())\n",
    "    df.rename(columns={'totChol': 'chol', 'sysBP': 'trestbps', 'heartRate': 'thalach'}, inplace=True)\n",
    "    X = df[paramList]\n",
    "    Y = df.TenYearCHD\n",
    "    x_train, x_test, y_train, y_test = train_test_split(X, Y, test_size=test_size)\n",
    "    return x_train, x_test, y_train, y_test"
   ],
   "metadata": {
    "collapsed": false,
    "ExecuteTime": {
     "end_time": "2023-08-11T11:47:52.410472Z",
     "start_time": "2023-08-11T11:47:52.346907Z"
    }
   },
   "id": "ce7bd9e36b2fb628"
  },
  {
   "cell_type": "code",
   "execution_count": 51,
   "outputs": [
    {
     "ename": "KeyError",
     "evalue": "\"['sex'] not in index\"",
     "output_type": "error",
     "traceback": [
      "\u001B[0;31m---------------------------------------------------------------------------\u001B[0m",
      "\u001B[0;31mKeyError\u001B[0m                                  Traceback (most recent call last)",
      "Cell \u001B[0;32mIn[51], line 1\u001B[0m\n\u001B[0;32m----> 1\u001B[0m dataset2_preprocessing(\u001B[38;5;124m'\u001B[39m\u001B[38;5;124mData/dataset_2.csv\u001B[39m\u001B[38;5;124m'\u001B[39m,[\u001B[38;5;124m'\u001B[39m\u001B[38;5;124msex\u001B[39m\u001B[38;5;124m'\u001B[39m,\u001B[38;5;124m'\u001B[39m\u001B[38;5;124mchol\u001B[39m\u001B[38;5;124m'\u001B[39m,\u001B[38;5;124m'\u001B[39m\u001B[38;5;124meducation\u001B[39m\u001B[38;5;124m'\u001B[39m,\u001B[38;5;124m'\u001B[39m\u001B[38;5;124mthalach\u001B[39m\u001B[38;5;124m'\u001B[39m],\u001B[38;5;241m0.15\u001B[39m)\n",
      "Cell \u001B[0;32mIn[49], line 32\u001B[0m, in \u001B[0;36mdataset2_preprocessing\u001B[0;34m(file_path, paramList, test_size)\u001B[0m\n\u001B[1;32m     29\u001B[0m df\u001B[38;5;241m.\u001B[39mloc[df[\u001B[38;5;124m'\u001B[39m\u001B[38;5;124mTenYearCHD\u001B[39m\u001B[38;5;124m'\u001B[39m] \u001B[38;5;241m==\u001B[39m \u001B[38;5;241m0\u001B[39m, \u001B[38;5;124m'\u001B[39m\u001B[38;5;124mglucose\u001B[39m\u001B[38;5;124m'\u001B[39m] \u001B[38;5;241m=\u001B[39m df\u001B[38;5;241m.\u001B[39mloc[df[\u001B[38;5;124m'\u001B[39m\u001B[38;5;124mTenYearCHD\u001B[39m\u001B[38;5;124m'\u001B[39m] \u001B[38;5;241m==\u001B[39m \u001B[38;5;241m0\u001B[39m, \u001B[38;5;124m'\u001B[39m\u001B[38;5;124mglucose\u001B[39m\u001B[38;5;124m'\u001B[39m]\u001B[38;5;241m.\u001B[39mfillna(\n\u001B[1;32m     30\u001B[0m     df\u001B[38;5;241m.\u001B[39mloc[df[\u001B[38;5;124m'\u001B[39m\u001B[38;5;124mTenYearCHD\u001B[39m\u001B[38;5;124m'\u001B[39m] \u001B[38;5;241m==\u001B[39m \u001B[38;5;241m0\u001B[39m, \u001B[38;5;124m'\u001B[39m\u001B[38;5;124mglucose\u001B[39m\u001B[38;5;124m'\u001B[39m]\u001B[38;5;241m.\u001B[39mmean())\n\u001B[1;32m     31\u001B[0m df\u001B[38;5;241m.\u001B[39mrename(columns\u001B[38;5;241m=\u001B[39m{\u001B[38;5;124m'\u001B[39m\u001B[38;5;124mtotChol\u001B[39m\u001B[38;5;124m'\u001B[39m: \u001B[38;5;124m'\u001B[39m\u001B[38;5;124mchol\u001B[39m\u001B[38;5;124m'\u001B[39m, \u001B[38;5;124m'\u001B[39m\u001B[38;5;124msysBP\u001B[39m\u001B[38;5;124m'\u001B[39m: \u001B[38;5;124m'\u001B[39m\u001B[38;5;124mtrestbps\u001B[39m\u001B[38;5;124m'\u001B[39m, \u001B[38;5;124m'\u001B[39m\u001B[38;5;124mheartRate\u001B[39m\u001B[38;5;124m'\u001B[39m: \u001B[38;5;124m'\u001B[39m\u001B[38;5;124mthalach\u001B[39m\u001B[38;5;124m'\u001B[39m}, inplace\u001B[38;5;241m=\u001B[39m\u001B[38;5;28;01mTrue\u001B[39;00m)\n\u001B[0;32m---> 32\u001B[0m X \u001B[38;5;241m=\u001B[39m df[paramList]\n\u001B[1;32m     33\u001B[0m Y \u001B[38;5;241m=\u001B[39m df\u001B[38;5;241m.\u001B[39mTenYearCHD\n\u001B[1;32m     34\u001B[0m x_train, x_test, y_train, y_test \u001B[38;5;241m=\u001B[39m train_test_split(X, Y, test_size\u001B[38;5;241m=\u001B[39mtest_size)\n",
      "File \u001B[0;32m~/anaconda3/envs/machineLearning/lib/python3.11/site-packages/pandas/core/frame.py:3813\u001B[0m, in \u001B[0;36mDataFrame.__getitem__\u001B[0;34m(self, key)\u001B[0m\n\u001B[1;32m   3811\u001B[0m     \u001B[38;5;28;01mif\u001B[39;00m is_iterator(key):\n\u001B[1;32m   3812\u001B[0m         key \u001B[38;5;241m=\u001B[39m \u001B[38;5;28mlist\u001B[39m(key)\n\u001B[0;32m-> 3813\u001B[0m     indexer \u001B[38;5;241m=\u001B[39m \u001B[38;5;28mself\u001B[39m\u001B[38;5;241m.\u001B[39mcolumns\u001B[38;5;241m.\u001B[39m_get_indexer_strict(key, \u001B[38;5;124m\"\u001B[39m\u001B[38;5;124mcolumns\u001B[39m\u001B[38;5;124m\"\u001B[39m)[\u001B[38;5;241m1\u001B[39m]\n\u001B[1;32m   3815\u001B[0m \u001B[38;5;66;03m# take() does not accept boolean indexers\u001B[39;00m\n\u001B[1;32m   3816\u001B[0m \u001B[38;5;28;01mif\u001B[39;00m \u001B[38;5;28mgetattr\u001B[39m(indexer, \u001B[38;5;124m\"\u001B[39m\u001B[38;5;124mdtype\u001B[39m\u001B[38;5;124m\"\u001B[39m, \u001B[38;5;28;01mNone\u001B[39;00m) \u001B[38;5;241m==\u001B[39m \u001B[38;5;28mbool\u001B[39m:\n",
      "File \u001B[0;32m~/anaconda3/envs/machineLearning/lib/python3.11/site-packages/pandas/core/indexes/base.py:6070\u001B[0m, in \u001B[0;36mIndex._get_indexer_strict\u001B[0;34m(self, key, axis_name)\u001B[0m\n\u001B[1;32m   6067\u001B[0m \u001B[38;5;28;01melse\u001B[39;00m:\n\u001B[1;32m   6068\u001B[0m     keyarr, indexer, new_indexer \u001B[38;5;241m=\u001B[39m \u001B[38;5;28mself\u001B[39m\u001B[38;5;241m.\u001B[39m_reindex_non_unique(keyarr)\n\u001B[0;32m-> 6070\u001B[0m \u001B[38;5;28mself\u001B[39m\u001B[38;5;241m.\u001B[39m_raise_if_missing(keyarr, indexer, axis_name)\n\u001B[1;32m   6072\u001B[0m keyarr \u001B[38;5;241m=\u001B[39m \u001B[38;5;28mself\u001B[39m\u001B[38;5;241m.\u001B[39mtake(indexer)\n\u001B[1;32m   6073\u001B[0m \u001B[38;5;28;01mif\u001B[39;00m \u001B[38;5;28misinstance\u001B[39m(key, Index):\n\u001B[1;32m   6074\u001B[0m     \u001B[38;5;66;03m# GH 42790 - Preserve name from an Index\u001B[39;00m\n",
      "File \u001B[0;32m~/anaconda3/envs/machineLearning/lib/python3.11/site-packages/pandas/core/indexes/base.py:6133\u001B[0m, in \u001B[0;36mIndex._raise_if_missing\u001B[0;34m(self, key, indexer, axis_name)\u001B[0m\n\u001B[1;32m   6130\u001B[0m     \u001B[38;5;28;01mraise\u001B[39;00m \u001B[38;5;167;01mKeyError\u001B[39;00m(\u001B[38;5;124mf\u001B[39m\u001B[38;5;124m\"\u001B[39m\u001B[38;5;124mNone of [\u001B[39m\u001B[38;5;132;01m{\u001B[39;00mkey\u001B[38;5;132;01m}\u001B[39;00m\u001B[38;5;124m] are in the [\u001B[39m\u001B[38;5;132;01m{\u001B[39;00maxis_name\u001B[38;5;132;01m}\u001B[39;00m\u001B[38;5;124m]\u001B[39m\u001B[38;5;124m\"\u001B[39m)\n\u001B[1;32m   6132\u001B[0m not_found \u001B[38;5;241m=\u001B[39m \u001B[38;5;28mlist\u001B[39m(ensure_index(key)[missing_mask\u001B[38;5;241m.\u001B[39mnonzero()[\u001B[38;5;241m0\u001B[39m]]\u001B[38;5;241m.\u001B[39munique())\n\u001B[0;32m-> 6133\u001B[0m \u001B[38;5;28;01mraise\u001B[39;00m \u001B[38;5;167;01mKeyError\u001B[39;00m(\u001B[38;5;124mf\u001B[39m\u001B[38;5;124m\"\u001B[39m\u001B[38;5;132;01m{\u001B[39;00mnot_found\u001B[38;5;132;01m}\u001B[39;00m\u001B[38;5;124m not in index\u001B[39m\u001B[38;5;124m\"\u001B[39m)\n",
      "\u001B[0;31mKeyError\u001B[0m: \"['sex'] not in index\""
     ]
    }
   ],
   "source": [
    "dataset2_preprocessing('Data/dataset_2.csv',['sex','chol','education','thalach'],0.15)"
   ],
   "metadata": {
    "collapsed": false,
    "ExecuteTime": {
     "end_time": "2023-08-11T11:49:51.555930Z",
     "start_time": "2023-08-11T11:49:51.411502Z"
    }
   },
   "id": "7fdbad392b1a694e"
  },
  {
   "cell_type": "code",
   "execution_count": null,
   "outputs": [],
   "source": [],
   "metadata": {
    "collapsed": false
   },
   "id": "bdf2415b7e115f46"
  }
 ],
 "metadata": {
  "kernelspec": {
   "display_name": "Python 3",
   "language": "python",
   "name": "python3"
  },
  "language_info": {
   "codemirror_mode": {
    "name": "ipython",
    "version": 2
   },
   "file_extension": ".py",
   "mimetype": "text/x-python",
   "name": "python",
   "nbconvert_exporter": "python",
   "pygments_lexer": "ipython2",
   "version": "2.7.6"
  }
 },
 "nbformat": 4,
 "nbformat_minor": 5
}
